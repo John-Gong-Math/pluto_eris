{
 "cells": [
  {
   "cell_type": "markdown",
   "metadata": {},
   "source": [
    "## Constants in Pluto\n",
    "\n",
    "repo: https://github.com/privacy-scaling-explorations/halo2curves/tree/main/src/pluto_eris , https://github.com/daira/pluto-eris \\\n",
    "paper: https://eprint.iacr.org/2010/354.pdf"
   ]
  },
  {
   "cell_type": "markdown",
   "metadata": {},
   "source": [
    "Given an integer $n < 2^{448}$, return its 7 limbs where the first limb is the least significant one.\\\n",
    "Each limb is 64 bits long in big endian."
   ]
  },
  {
   "cell_type": "code",
   "execution_count": 132,
   "metadata": {},
   "outputs": [],
   "source": [
    "def u_64_little_endian(n):\n",
    "    str_hex = hex(n)\n",
    "    str_hex_without_0x = str_hex[2:]\n",
    "    full_width_str = '0' * (112 - len(str_hex_without_0x)) + str_hex_without_0x\n",
    "    assert len(full_width_str) == 112\n",
    "\n",
    "    res = []\n",
    "    for i in range(7):\n",
    "        temp = '0x' + full_width_str[112 - 16 * (i + 1) : 112 - 16 * i]\n",
    "        res.append(temp)\n",
    "    return res"
   ]
  },
  {
   "cell_type": "markdown",
   "metadata": {},
   "source": [
    "Convert a given integer into its little endian NAF form.\\\n",
    "Definition of NAF form: https://en.wikipedia.org/wiki/Non-adjacent_form"
   ]
  },
  {
   "cell_type": "code",
   "execution_count": 133,
   "metadata": {},
   "outputs": [],
   "source": [
    "\n",
    "def naf_representation(n):\n",
    "    naf = []\n",
    "    while n > 0:\n",
    "        if n % 2 == 1:\n",
    "            # If n is odd, set the current digit as 2 - (n mod 4).\n",
    "            digit = 2 - (n % 4)\n",
    "            n -= digit\n",
    "        else:\n",
    "            # If n is even, set the current digit as 0.\n",
    "            digit = 0\n",
    "        naf.append(digit)\n",
    "        n //= 2\n",
    "    return naf\n",
    "\n",
    "# Example usage:\n",
    "# decimal_number = 7\n",
    "# naf = naf_representation(decimal_number)\n",
    "# print(naf): [-1, 0, 0, 1]"
   ]
  },
  {
   "cell_type": "code",
   "execution_count": 134,
   "metadata": {},
   "outputs": [
    {
     "name": "stdout",
     "output_type": "stream",
     "text": [
      "[-1, 0, 0, 1]\n"
     ]
    }
   ],
   "source": [
    "print(naf_representation(7))"
   ]
  },
  {
   "cell_type": "markdown",
   "metadata": {},
   "source": [
    "### The Base Field $\\mathbb{F}_p$\n",
    "seed $U = -1298074214633708060054710657220608$ \\\n",
    "the base field size $p = 36 U^4 + 36 U^3 + 24 U^2 + 6 U + 1$ \\\n",
    "we define the constant $NEG\\_U = -U$:"
   ]
  },
  {
   "cell_type": "code",
   "execution_count": 135,
   "metadata": {},
   "outputs": [
    {
     "data": {
      "text/plain": [
       "111"
      ]
     },
     "execution_count": 135,
     "metadata": {},
     "output_type": "execute_result"
    }
   ],
   "source": [
    "U = -1298074214633708060054710657220608\n",
    "NEG_U = -U\n",
    "NEG_U.bit_length()"
   ]
  },
  {
   "cell_type": "code",
   "execution_count": 136,
   "metadata": {},
   "outputs": [
    {
     "data": {
      "text/plain": [
       "'0x4000000000001000008780000000'"
      ]
     },
     "execution_count": 136,
     "metadata": {},
     "output_type": "execute_result"
    }
   ],
   "source": [
    "hex(NEG_U)"
   ]
  },
  {
   "cell_type": "markdown",
   "metadata": {},
   "source": [
    "The constant $- (6U + 2)$"
   ]
  },
  {
   "cell_type": "code",
   "execution_count": 137,
   "metadata": {},
   "outputs": [],
   "source": [
    "NEG_SIX_U_PLUS_2 = -(6 * U + 2)"
   ]
  },
  {
   "cell_type": "code",
   "execution_count": 138,
   "metadata": {},
   "outputs": [
    {
     "data": {
      "text/plain": [
       "'0x18000000000006000032cfffffffe'"
      ]
     },
     "execution_count": 138,
     "metadata": {},
     "output_type": "execute_result"
    }
   ],
   "source": [
    "hex(NEG_SIX_U_PLUS_2)"
   ]
  },
  {
   "cell_type": "markdown",
   "metadata": {},
   "source": [
    "$-(6U + 2)$ in little endian the NAF\n",
    "https://github.com/privacy-scaling-explorations/halo2curves/blob/main/src/pluto_eris/engine.rs#L22-L27"
   ]
  },
  {
   "cell_type": "code",
   "execution_count": 139,
   "metadata": {},
   "outputs": [
    {
     "name": "stdout",
     "output_type": "stream",
     "text": [
      "[0, -1, 0, 0, 0, 0, 0, 0, 0, 0, 0, 0, 0, 0, 0, 0, 0, 0, 0, 0, 0, 0, 0, 0, 0, 0, 0, 0, 0, 0, 0, 0, 1, 0, -1, 0, -1, 0, 1, 0, -1, 0, 1, 0, 0, 0, 0, 0, 0, 0, 0, 0, 0, 0, 0, 0, 0, 0, 0, 0, 0, -1, 0, 1, 0, 0, 0, 0, 0, 0, 0, 0, 0, 0, 0, 0, 0, 0, 0, 0, 0, 0, 0, 0, 0, 0, 0, 0, 0, 0, 0, 0, 0, 0, 0, 0, 0, 0, 0, 0, 0, 0, 0, 0, 0, 0, 0, 0, 0, 0, 0, -1, 0, 1]\n"
     ]
    }
   ],
   "source": [
    "print(naf_representation(NEG_SIX_U_PLUS_2))"
   ]
  },
  {
   "cell_type": "markdown",
   "metadata": {},
   "source": [
    "The length of the list used to store NEG_SIX_U_PLUS_2 \\\n",
    "https://github.com/privacy-scaling-explorations/halo2curves/blob/main/src/pluto_eris/engine.rs#L22\n"
   ]
  },
  {
   "cell_type": "code",
   "execution_count": 140,
   "metadata": {},
   "outputs": [
    {
     "data": {
      "text/plain": [
       "114"
      ]
     },
     "execution_count": 140,
     "metadata": {},
     "output_type": "execute_result"
    }
   ],
   "source": [
    "len(naf_representation(NEG_SIX_U_PLUS_2))"
   ]
  },
  {
   "cell_type": "markdown",
   "metadata": {},
   "source": [
    "Due to the existence of $-1$, the length of NAF is bigger than the usual bit length:"
   ]
  },
  {
   "cell_type": "code",
   "execution_count": 141,
   "metadata": {},
   "outputs": [
    {
     "data": {
      "text/plain": [
       "113"
      ]
     },
     "execution_count": 141,
     "metadata": {},
     "output_type": "execute_result"
    }
   ],
   "source": [
    "NEG_SIX_U_PLUS_2.bit_length()"
   ]
  },
  {
   "cell_type": "markdown",
   "metadata": {},
   "source": [
    "the base field prime $p$ in terms of $U$:"
   ]
  },
  {
   "cell_type": "code",
   "execution_count": 142,
   "metadata": {},
   "outputs": [
    {
     "data": {
      "text/plain": [
       "'0x24000000000024000130e0000d7f70e4a803ca76f439266f443f9a5cda8a6c7be4a7a5fe8fadffd6a2a7e8c30006b9459ffffcd300000001'"
      ]
     },
     "execution_count": 142,
     "metadata": {},
     "output_type": "execute_result"
    }
   ],
   "source": [
    "p_int = 36 * U**4 + 36 * U**3 + 24 * U**2 + 6 * U + 1\n",
    "hex(p_int)"
   ]
  },
  {
   "cell_type": "code",
   "execution_count": 143,
   "metadata": {},
   "outputs": [
    {
     "data": {
      "text/plain": [
       "102211695604070082112571065507755096754575920209623522239390234855490679834276115250716018318118556227909439196474813090886893187366913"
      ]
     },
     "execution_count": 143,
     "metadata": {},
     "output_type": "execute_result"
    }
   ],
   "source": [
    "p_int"
   ]
  },
  {
   "cell_type": "markdown",
   "metadata": {},
   "source": [
    "Check the group order $p-1$ is divisible by $6$ and $4$"
   ]
  },
  {
   "cell_type": "code",
   "execution_count": 144,
   "metadata": {},
   "outputs": [
    {
     "data": {
      "text/plain": [
       "True"
      ]
     },
     "execution_count": 144,
     "metadata": {},
     "output_type": "execute_result"
    }
   ],
   "source": [
    "(p_int - 1) % 6 == 0"
   ]
  },
  {
   "cell_type": "code",
   "execution_count": 145,
   "metadata": {},
   "outputs": [
    {
     "data": {
      "text/plain": [
       "True"
      ]
     },
     "execution_count": 145,
     "metadata": {},
     "output_type": "execute_result"
    }
   ],
   "source": [
    "(p_int - 1) % 4 == 0"
   ]
  },
  {
   "cell_type": "markdown",
   "metadata": {},
   "source": [
    "The limbs representation of $p$:\\\n",
    "https://github.com/privacy-scaling-explorations/halo2curves/blob/main/src/pluto_eris/fields/fp.rs#L39-L47"
   ]
  },
  {
   "cell_type": "code",
   "execution_count": 146,
   "metadata": {},
   "outputs": [
    {
     "data": {
      "text/plain": [
       "['0x9ffffcd300000001',\n",
       " '0xa2a7e8c30006b945',\n",
       " '0xe4a7a5fe8fadffd6',\n",
       " '0x443f9a5cda8a6c7b',\n",
       " '0xa803ca76f439266f',\n",
       " '0x0130e0000d7f70e4',\n",
       " '0x2400000000002400']"
      ]
     },
     "execution_count": 146,
     "metadata": {},
     "output_type": "execute_result"
    }
   ],
   "source": [
    "u_64_little_endian(p_int)"
   ]
  },
  {
   "cell_type": "markdown",
   "metadata": {},
   "source": [
    "### The base field $\\mathbb{F}_p$"
   ]
  },
  {
   "cell_type": "code",
   "execution_count": 147,
   "metadata": {},
   "outputs": [
    {
     "data": {
      "text/plain": [
       "Finite Field of size 102211695604070082112571065507755096754575920209623522239390234855490679834276115250716018318118556227909439196474813090886893187366913"
      ]
     },
     "execution_count": 147,
     "metadata": {},
     "output_type": "execute_result"
    }
   ],
   "source": [
    "Fp = GF(p_int)\n",
    "Fp"
   ]
  },
  {
   "cell_type": "markdown",
   "metadata": {},
   "source": [
    "### The constant $R$ for Montgomery form\n",
    "https://github.com/privacy-scaling-explorations/halo2curves/blob/main/src/pluto_eris/fields/fp.rs#L67-L75"
   ]
  },
  {
   "cell_type": "code",
   "execution_count": 149,
   "metadata": {},
   "outputs": [
    {
     "data": {
      "text/plain": [
       "['0xa000163afffffff9',\n",
       " '0x8d68a2aaffd0ef18',\n",
       " '0xbf6a760a123e0121',\n",
       " '0x2242c7760637089c',\n",
       " '0x67e576bf526ff2f5',\n",
       " '0xf7a9dfffa183e9bf',\n",
       " '0x03ffffffffff03ff']"
      ]
     },
     "execution_count": 149,
     "metadata": {},
     "output_type": "execute_result"
    }
   ],
   "source": [
    "u_64_little_endian((2**448) % p_int)"
   ]
  },
  {
   "cell_type": "code",
   "execution_count": 150,
   "metadata": {},
   "outputs": [
    {
     "data": {
      "text/plain": [
       "11356855067116315761326349333718857071609919219953404605758555192204529273465116571178922486933671965396447230942486297326349317046265"
      ]
     },
     "execution_count": 150,
     "metadata": {},
     "output_type": "execute_result"
    }
   ],
   "source": [
    "R = Fp(2**448)\n",
    "R"
   ]
  },
  {
   "cell_type": "markdown",
   "metadata": {},
   "source": [
    "### The Scalar Field $\\mathbb{F}_q$\n",
    "the scalar field size $q = 36 U^4 + 36 U^3 + 18 U^2 + 6 U+1$"
   ]
  },
  {
   "cell_type": "code",
   "execution_count": 151,
   "metadata": {},
   "outputs": [
    {
     "data": {
      "text/plain": [
       "'0x24000000000024000130e0000d7f70e4a803ca76f439266f443f9a5c7a8a6c7be4a775fe8e177fd69ca7e85d60050af41ffffcd300000001'"
      ]
     },
     "execution_count": 151,
     "metadata": {},
     "output_type": "execute_result"
    }
   ],
   "source": [
    "q_int = 36 * U**4 + 36 * U**3 + 18 * U**2 + 6 * U + 1\n",
    "hex(q_int)"
   ]
  },
  {
   "cell_type": "markdown",
   "metadata": {},
   "source": [
    "The limbs representation of $q$:\\\n",
    "https://github.com/privacy-scaling-explorations/halo2curves/blob/main/src/pluto_eris/fields/fq.rs#L39-L47"
   ]
  },
  {
   "cell_type": "code",
   "execution_count": 152,
   "metadata": {},
   "outputs": [
    {
     "data": {
      "text/plain": [
       "['0x1ffffcd300000001',\n",
       " '0x9ca7e85d60050af4',\n",
       " '0xe4a775fe8e177fd6',\n",
       " '0x443f9a5c7a8a6c7b',\n",
       " '0xa803ca76f439266f',\n",
       " '0x0130e0000d7f70e4',\n",
       " '0x2400000000002400']"
      ]
     },
     "execution_count": 152,
     "metadata": {},
     "output_type": "execute_result"
    }
   ],
   "source": [
    "u_64_little_endian(q_int)"
   ]
  },
  {
   "cell_type": "code",
   "execution_count": 153,
   "metadata": {},
   "outputs": [
    {
     "data": {
      "text/plain": [
       "Finite Field of size 102211695604070082112571065507755096754575920209623522239390234855480569854275933742834077002685857629445612735086326265689167708028929"
      ]
     },
     "execution_count": 153,
     "metadata": {},
     "output_type": "execute_result"
    }
   ],
   "source": [
    "Fq = GF(q_int)\n",
    "Fq"
   ]
  },
  {
   "cell_type": "markdown",
   "metadata": {},
   "source": [
    "### The field $\\mathbb{F}_{p^2}$ \n",
    "defined by $\\mathbb{F}_{p^2} = \\mathbb{F}_p[u] = \\mathbb{F}_p[X] / (X^2 + 5)$ where $X^2 + 5$ is irreducible in $\\mathbb{F}_p[X]$\\\n",
    "https://github.com/privacy-scaling-explorations/halo2curves/blob/main/src/pluto_eris/fields/fp2.rs#L14-L27 (TODO: comment)"
   ]
  },
  {
   "cell_type": "markdown",
   "metadata": {},
   "source": [
    "Check $X^2 + 5$ is irreducible:"
   ]
  },
  {
   "cell_type": "code",
   "execution_count": 102,
   "metadata": {},
   "outputs": [
    {
     "data": {
      "text/plain": [
       "True"
      ]
     },
     "execution_count": 102,
     "metadata": {},
     "output_type": "execute_result"
    }
   ],
   "source": [
    "Rp = PolynomialRing(Fp, \"x\")\n",
    "x = Rp.gen()\n",
    "(x^2 + 5).is_irreducible()"
   ]
  },
  {
   "cell_type": "markdown",
   "metadata": {},
   "source": [
    "Construct $\\mathbb{F}_{p^2}$ from $\\mathbb{F}_{p}$ in $u$ such that $u^2 + 5 = 0$"
   ]
  },
  {
   "cell_type": "code",
   "execution_count": 154,
   "metadata": {},
   "outputs": [
    {
     "data": {
      "text/plain": [
       "Finite Field in u of size 102211695604070082112571065507755096754575920209623522239390234855490679834276115250716018318118556227909439196474813090886893187366913^2"
      ]
     },
     "execution_count": 154,
     "metadata": {},
     "output_type": "execute_result"
    }
   ],
   "source": [
    "Fp2.<u> = Fp.extension(x^2 + 5)\n",
    "Fp2"
   ]
  },
  {
   "cell_type": "markdown",
   "metadata": {},
   "source": [
    "Check the identity $u^2 + 5 = 0$ in $\\mathbb{F}_{p^{2}}$"
   ]
  },
  {
   "cell_type": "code",
   "execution_count": 104,
   "metadata": {},
   "outputs": [
    {
     "data": {
      "text/plain": [
       "True"
      ]
     },
     "execution_count": 104,
     "metadata": {},
     "output_type": "execute_result"
    }
   ],
   "source": [
    "u**2 + 5 == 0"
   ]
  },
  {
   "cell_type": "markdown",
   "metadata": {},
   "source": [
    "### The twisted curve (Triton) defined by: $E': Y^2 = X^3 + (u + 3)$\n",
    "see the defintion in: https://github.com/daira/pluto-eris \\\n",
    "and justified in the repo: https://github.com/privacy-scaling-explorations/halo2curves/blob/main/src/pluto_eris/curve.rs#L100-L106\n"
   ]
  },
  {
   "cell_type": "markdown",
   "metadata": {},
   "source": [
    "### The field $\\mathbb{F}_{p^6}$ \n",
    "defined by $\\mathbb{F}_{p^6} = \\mathbb{F}_{p^2}[v] = \\mathbb{F}_{p^2}[X] / (X^3 - 57/(u + 3))$ where $X^3 - 57/(u+3)$ is irreducible in $\\mathbb{F}_{p^2}[X]$\\"
   ]
  },
  {
   "cell_type": "markdown",
   "metadata": {},
   "source": [
    "Note that the non-cubic residue $57/(u + 3)$ is not arbitrarily chosen. It is closely related to the equation of the curve:\n",
    "$$E / \\mathbb{F}_p: Y^2 = X^3 + 57$$\n",
    "and the twisted curve :\n",
    "$$E' / \\mathbb{F}_{p^2}: Y^2 = X^3 + (u + 3)$$\n",
    "More precisely, let $\\xi = 57/(u + 3) \\in \\mathbb{F}_{p^2}$, the isomorphism is defined by\n",
    "$$\\Phi: E' \\rightarrow E: \\quad (x, y) \\mapsto (x \\cdot \\xi^{1/3}, y \\cdot \\xi^{1/2})$$\n",
    "and\n",
    "$$\\Phi^{-1}: E \\rightarrow E': \\quad (x, y) \\mapsto (x / \\xi^{1/3}, y / \\xi^{1/2})$$\n",
    "See more details in Section 3 regarding D-type twist in paper: http://indigo.ie/~mscott/twists.pdf"
   ]
  },
  {
   "cell_type": "markdown",
   "metadata": {},
   "source": [
    "Suppose $\\xi = 57/(u + 3) = c_1 \\cdot u + c_0$ where $c_0, c_1 \\in \\mathbb{F}_p$"
   ]
  },
  {
   "cell_type": "code",
   "execution_count": 105,
   "metadata": {},
   "outputs": [
    {
     "data": {
      "text/plain": [
       "21902506200872160452693799751661806447409125759205040479869336040462288535916310410867718211025404905980594113530317090904334254435763*u + 36504177001453600754489666252769677412348542932008400799782226734103814226527184018112863685042341509967656855883861818173890424059624"
      ]
     },
     "execution_count": 105,
     "metadata": {},
     "output_type": "execute_result"
    }
   ],
   "source": [
    "xi = 57 * (u + 3)**(-1)\n",
    "xi"
   ]
  },
  {
   "cell_type": "markdown",
   "metadata": {},
   "source": [
    "$\\xi^{(p^2 - 1)/2 }$ is order $2$"
   ]
  },
  {
   "cell_type": "code",
   "execution_count": 1,
   "metadata": {},
   "outputs": [
    {
     "ename": "NameError",
     "evalue": "name 'xi' is not defined",
     "output_type": "error",
     "traceback": [
      "\u001b[0;31m---------------------------------------------------------------------------\u001b[0m",
      "\u001b[0;31mNameError\u001b[0m                                 Traceback (most recent call last)",
      "Cell \u001b[0;32mIn[1], line 1\u001b[0m\n\u001b[0;32m----> 1\u001b[0m \u001b[43mxi\u001b[49m\u001b[38;5;241m*\u001b[39m\u001b[38;5;241m*\u001b[39m((p_int \u001b[38;5;241m*\u001b[39m\u001b[38;5;241m*\u001b[39m Integer(\u001b[38;5;241m2\u001b[39m) \u001b[38;5;241m-\u001b[39m Integer(\u001b[38;5;241m1\u001b[39m))\u001b[38;5;241m/\u001b[39mInteger(\u001b[38;5;241m2\u001b[39m)) \u001b[38;5;241m==\u001b[39m Fp2(\u001b[38;5;241m-\u001b[39mInteger(\u001b[38;5;241m1\u001b[39m))\n",
      "\u001b[0;31mNameError\u001b[0m: name 'xi' is not defined"
     ]
    }
   ],
   "source": [
    "xi**((p_int ** 2 - 1)/2) == Fp2(-1)"
   ]
  },
  {
   "cell_type": "markdown",
   "metadata": {},
   "source": [
    "the coordinate $c_0$ of $\\xi$ in the basis $\\{ 1, u\\}$ in $\\mathbb{F}_{p^2}$\\\n",
    "https://github.com/privacy-scaling-explorations/halo2curves/blob/main/src/pluto_eris/fields/fp6.rs#L15-L23"
   ]
  },
  {
   "cell_type": "code",
   "execution_count": 107,
   "metadata": {},
   "outputs": [
    {
     "data": {
      "text/plain": [
       "['0xddb6da4b5b6db6e8',\n",
       " '0x833bf7b35b701d98',\n",
       " '0x3f6072240ebe2483',\n",
       " '0x73cd928ee056022c',\n",
       " '0xce4a7f2a7bcb4495',\n",
       " '0xdbda9924971b3a9a',\n",
       " '0x0cdb6db6db6dc3b6']"
      ]
     },
     "execution_count": 107,
     "metadata": {},
     "output_type": "execute_result"
    }
   ],
   "source": [
    "u_64_little_endian(36504177001453600754489666252769677412348542932008400799782226734103814226527184018112863685042341509967656855883861818173890424059624)"
   ]
  },
  {
   "cell_type": "markdown",
   "metadata": {},
   "source": [
    "the coordinate $c_1$ of $\\xi$ in the basis $\\{ 1, u\\}$ in $\\mathbb{F}_{p^2}$\\\n",
    "https://github.com/privacy-scaling-explorations/halo2curves/blob/main/src/pluto_eris/fields/fp6.rs#L25-L33"
   ]
  },
  {
   "cell_type": "code",
   "execution_count": 108,
   "metadata": {},
   "outputs": [
    {
     "data": {
      "text/plain": [
       "['0xeb6db62d36db6db3',\n",
       " '0xb523fb0536dcde8e',\n",
       " '0x8c6d1148d5a5491b',\n",
       " '0x457b57ef5366ce1a',\n",
       " '0x489319197d79f5f3',\n",
       " '0xb71cc2492776bcc3',\n",
       " '0x07b6db6db6db756d']"
      ]
     },
     "execution_count": 108,
     "metadata": {},
     "output_type": "execute_result"
    }
   ],
   "source": [
    "u_64_little_endian(21902506200872160452693799751661806447409125759205040479869336040462288535916310410867718211025404905980594113530317090904334254435763)"
   ]
  },
  {
   "cell_type": "markdown",
   "metadata": {},
   "source": [
    "the irreducible polynomial in $\\mathbb{F}_{p^2}[X]$: $X^3 - \\xi$"
   ]
  },
  {
   "cell_type": "code",
   "execution_count": 109,
   "metadata": {},
   "outputs": [
    {
     "data": {
      "text/plain": [
       "True"
      ]
     },
     "execution_count": 109,
     "metadata": {},
     "output_type": "execute_result"
    }
   ],
   "source": [
    "Rp2 = PolynomialRing(Fp2, \"x\")\n",
    "x = Rp2.gen()\n",
    "(x^3 - xi).is_irreducible()"
   ]
  },
  {
   "cell_type": "markdown",
   "metadata": {},
   "source": [
    "construct the field $\\mathbb{F}_{p^6} = \\mathbb{F}_{p^2}[X]/(X^3 - \\xi) = \\mathbb{F}_{p^2}[v]$"
   ]
  },
  {
   "cell_type": "code",
   "execution_count": 110,
   "metadata": {},
   "outputs": [
    {
     "data": {
      "text/plain": [
       "Univariate Quotient Polynomial Ring in v over Finite Field in u of size 102211695604070082112571065507755096754575920209623522239390234855490679834276115250716018318118556227909439196474813090886893187366913^2 with modulus v^3 + 80309189403197921659877265756093290307166794450418481759520898815028391298359804839848300107093151321928845082944495999982558932931150*u + 65707518602616481358081399254985419342227377277615121439608008121386865607748931232603154633076214717941782340590951272713002763307289"
      ]
     },
     "execution_count": 110,
     "metadata": {},
     "output_type": "execute_result"
    }
   ],
   "source": [
    "Fp6.<v> = Fp2.extension(x^3 - xi)\n",
    "Fp6"
   ]
  },
  {
   "cell_type": "code",
   "execution_count": 111,
   "metadata": {},
   "outputs": [
    {
     "data": {
      "text/plain": [
       "True"
      ]
     },
     "execution_count": 111,
     "metadata": {},
     "output_type": "execute_result"
    }
   ],
   "source": [
    "Fp6.is_field()"
   ]
  },
  {
   "cell_type": "markdown",
   "metadata": {},
   "source": [
    "check the identity $v^3 - \\xi = 0$"
   ]
  },
  {
   "cell_type": "code",
   "execution_count": 112,
   "metadata": {},
   "outputs": [
    {
     "data": {
      "text/plain": [
       "True"
      ]
     },
     "execution_count": 112,
     "metadata": {},
     "output_type": "execute_result"
    }
   ],
   "source": [
    "v**3 - xi == 0"
   ]
  },
  {
   "cell_type": "markdown",
   "metadata": {},
   "source": [
    "### The field $\\mathbb{F}_p^{12}$\n",
    "$\\mathbb{F}_{p^{12}} = \\mathbb{F}_{p^6}[w] = \\mathbb{F}_{p^6}[X] / (X^2 - v)$ where $X^2 - v$ is irreducible in $\\mathbb{F}_{p^6}[X]$ \\\n",
    "We may use the following constructor to construct $\\mathbb{F}_{p^{12}}$ as usual, but it turns out too slow:\n"
   ]
  },
  {
   "cell_type": "code",
   "execution_count": null,
   "metadata": {},
   "outputs": [],
   "source": [
    "# Rp6 = PolynomialRing(Fp6, \"x\")\n",
    "# x = Rp6.gen()\n",
    "# (x^2 - v).is_irreducible()\n",
    "# Fp12 = Rp6.quotient(x^2 - v)\n",
    "# Fp12"
   ]
  },
  {
   "cell_type": "markdown",
   "metadata": {},
   "source": [
    "### The const FROBENIUS_COEFF_FQ6_C1[1] \n",
    "$\\xi^{(p-1)/3} = c_1 \\cdot u + c_0$"
   ]
  },
  {
   "cell_type": "code",
   "execution_count": 113,
   "metadata": {},
   "outputs": [
    {
     "data": {
      "text/plain": [
       "92529011805995300781026747858635174615077510851648588563707597606861718583198168205651139531970571313972517572887035428707503415341858*u + 51260142370505185497351973260211965617805492386872277241342529142140236670911574395535108090223527812381417682871589681672697256676611"
      ]
     },
     "execution_count": 113,
     "metadata": {},
     "output_type": "execute_result"
    }
   ],
   "source": [
    "xi**((p_int-1)/3)"
   ]
  },
  {
   "cell_type": "markdown",
   "metadata": {},
   "source": [
    "### the coordinate $c_0$"
   ]
  },
  {
   "cell_type": "code",
   "execution_count": 114,
   "metadata": {},
   "outputs": [
    {
     "data": {
      "text/plain": [
       "'0x120de97f024c55bc3bc0d351f4c70da1e3886170077a50986f93678bc921dcd5041bc4bb14cc42dc52e787634eccc335a001825382850d03'"
      ]
     },
     "execution_count": 114,
     "metadata": {},
     "output_type": "execute_result"
    }
   ],
   "source": [
    "hex(51260142370505185497351973260211965617805492386872277241342529142140236670911574395535108090223527812381417682871589681672697256676611)"
   ]
  },
  {
   "cell_type": "code",
   "execution_count": 115,
   "metadata": {},
   "outputs": [
    {
     "data": {
      "text/plain": [
       "['0xa001825382850d03',\n",
       " '0x52e787634eccc335',\n",
       " '0x041bc4bb14cc42dc',\n",
       " '0x6f93678bc921dcd5',\n",
       " '0xe3886170077a5098',\n",
       " '0x3bc0d351f4c70da1',\n",
       " '0x120de97f024c55bc']"
      ]
     },
     "execution_count": 115,
     "metadata": {},
     "output_type": "execute_result"
    }
   ],
   "source": [
    "u_64_little_endian(51260142370505185497351973260211965617805492386872277241342529142140236670911574395535108090223527812381417682871589681672697256676611)"
   ]
  },
  {
   "cell_type": "markdown",
   "metadata": {},
   "source": [
    "### the coordinate $c_1$"
   ]
  },
  {
   "cell_type": "code",
   "execution_count": 116,
   "metadata": {},
   "outputs": [
    {
     "data": {
      "text/plain": [
       "'0x2096f3f804d973afd82becc2ef081b76132461908eadbe3da1a7f5502b7091965efa1ddf4658080413be1b7cd3c9ea0e2772fea378a9b322'"
      ]
     },
     "execution_count": 116,
     "metadata": {},
     "output_type": "execute_result"
    }
   ],
   "source": [
    "hex(92529011805995300781026747858635174615077510851648588563707597606861718583198168205651139531970571313972517572887035428707503415341858)"
   ]
  },
  {
   "cell_type": "code",
   "execution_count": 117,
   "metadata": {},
   "outputs": [
    {
     "data": {
      "text/plain": [
       "['0x2772fea378a9b322',\n",
       " '0x13be1b7cd3c9ea0e',\n",
       " '0x5efa1ddf46580804',\n",
       " '0xa1a7f5502b709196',\n",
       " '0x132461908eadbe3d',\n",
       " '0xd82becc2ef081b76',\n",
       " '0x2096f3f804d973af']"
      ]
     },
     "execution_count": 117,
     "metadata": {},
     "output_type": "execute_result"
    }
   ],
   "source": [
    "u_64_little_endian(92529011805995300781026747858635174615077510851648588563707597606861718583198168205651139531970571313972517572887035428707503415341858)"
   ]
  },
  {
   "cell_type": "markdown",
   "metadata": {},
   "source": [
    "### The const FROBENIUS_COEFF_FP6_C1[2] \n",
    "$\\xi^{(p^2-1)/3)} = c_1 \\cdot u + c_0$"
   ]
  },
  {
   "cell_type": "code",
   "execution_count": 118,
   "metadata": {},
   "outputs": [
    {
     "data": {
      "text/plain": [
       "39370513046094319542878173447389497729725081225711316008956793976697167703016365005507455943322894334"
      ]
     },
     "execution_count": 118,
     "metadata": {},
     "output_type": "execute_result"
    }
   ],
   "source": [
    "xi**((p_int**2-1)/3)"
   ]
  },
  {
   "cell_type": "markdown",
   "metadata": {},
   "source": [
    "### Hence $c_1 = 0$ and we compute $c_0$:"
   ]
  },
  {
   "cell_type": "code",
   "execution_count": 119,
   "metadata": {},
   "outputs": [
    {
     "data": {
      "text/plain": [
       "['0x100004c37ffffffe',\n",
       " '0xc8ad8b38dffaf50c',\n",
       " '0xc956d01c903d720d',\n",
       " '0x50000d7ee0e4a803',\n",
       " '0x00000000360001c9',\n",
       " '0x0000000000004800',\n",
       " '0x0000000000000000']"
      ]
     },
     "execution_count": 119,
     "metadata": {},
     "output_type": "execute_result"
    }
   ],
   "source": [
    "u_64_little_endian(39370513046094319542878173447389497729725081225711316008956793976697167703016365005507455943322894334)"
   ]
  },
  {
   "cell_type": "markdown",
   "metadata": {},
   "source": [
    "### The const XI_TO_P_MINUS_1_OVER_2 derived from Frobenius map\n",
    "$\\xi^{(p-1)/2}$"
   ]
  },
  {
   "cell_type": "code",
   "execution_count": 120,
   "metadata": {},
   "outputs": [
    {
     "data": {
      "text/plain": [
       "65079093581113076137070936836706683307023886770993453415929204320012344240499906559031972253911619563827341548210931723067336455786996*u + 95958235239618370663357236287665721330778695800924622118898462510960785934385719569712082879717746516106642479264739976661558948422166"
      ]
     },
     "execution_count": 120,
     "metadata": {},
     "output_type": "execute_result"
    }
   ],
   "source": [
    "xi**((p_int-1)/2)"
   ]
  },
  {
   "cell_type": "markdown",
   "metadata": {},
   "source": [
    "### the coordinate $c_0$"
   ]
  },
  {
   "cell_type": "code",
   "execution_count": 121,
   "metadata": {},
   "outputs": [
    {
     "data": {
      "text/plain": [
       "['0x54cf5ad1c0926216',\n",
       " '0x186c1f3ce4a46d4e',\n",
       " '0x9c23800ce9c9452f',\n",
       " '0x50e0d09ff6d6c08b',\n",
       " '0x7cf421e4d46f6666',\n",
       " '0x678664ba4b6d8343',\n",
       " '0x21cc26d5de0f80f4']"
      ]
     },
     "execution_count": 121,
     "metadata": {},
     "output_type": "execute_result"
    }
   ],
   "source": [
    "u_64_little_endian(95958235239618370663357236287665721330778695800924622118898462510960785934385719569712082879717746516106642479264739976661558948422166)"
   ]
  },
  {
   "cell_type": "markdown",
   "metadata": {},
   "source": [
    "### the coordinate $c_1$"
   ]
  },
  {
   "cell_type": "code",
   "execution_count": 122,
   "metadata": {},
   "outputs": [
    {
     "data": {
      "text/plain": [
       "['0xc0505f4c260e91f4',\n",
       " '0xe7bbd15f10723657',\n",
       " '0xb4b3e0c35358097e',\n",
       " '0x87c56f42a558750d',\n",
       " '0x4b7211d23f34f0ae',\n",
       " '0xf6839d29e2f0d250',\n",
       " '0x16ebe8b2e12a1106']"
      ]
     },
     "execution_count": 122,
     "metadata": {},
     "output_type": "execute_result"
    }
   ],
   "source": [
    "u_64_little_endian(65079093581113076137070936836706683307023886770993453415929204320012344240499906559031972253911619563827341548210931723067336455786996)"
   ]
  },
  {
   "cell_type": "markdown",
   "metadata": {},
   "source": [
    "### final exponentiation"
   ]
  },
  {
   "cell_type": "code",
   "execution_count": 123,
   "metadata": {},
   "outputs": [],
   "source": [
    "def f_exp_by_x(f, x):\n",
    "    y = -x\n",
    "    res = 1\n",
    "    l = y.bit_length()\n",
    "    for i in range(l-1, -1, -1):\n",
    "        res = res**2\n",
    "        if ((y>>i) & 1) == 1:\n",
    "            res = res * f\n",
    "    return 1/res"
   ]
  },
  {
   "cell_type": "code",
   "execution_count": 124,
   "metadata": {},
   "outputs": [
    {
     "data": {
      "text/plain": [
       "1/16"
      ]
     },
     "execution_count": 124,
     "metadata": {},
     "output_type": "execute_result"
    }
   ],
   "source": [
    "f_exp_by_x(2, -4)"
   ]
  },
  {
   "cell_type": "markdown",
   "metadata": {},
   "source": [
    "### test Miller loop"
   ]
  },
  {
   "cell_type": "code",
   "execution_count": 125,
   "metadata": {},
   "outputs": [],
   "source": [
    "def test_miller_loop(L):\n",
    "    l = len(L)\n",
    "    res = 1\n",
    "    vec = []\n",
    "    for i in range(l-2, -1, -1):\n",
    "        res = res*2\n",
    "        vec.append(res)\n",
    "        if L[i] == 1:\n",
    "            res = res + 1\n",
    "            vec.append(res)\n",
    "        elif L[i] == -1:\n",
    "            res = res - 1\n",
    "            vec.append(res)\n",
    "    return res\n",
    "   \n",
    "        \n",
    "        "
   ]
  },
  {
   "cell_type": "code",
   "execution_count": 126,
   "metadata": {},
   "outputs": [
    {
     "data": {
      "text/plain": [
       "7"
      ]
     },
     "execution_count": 126,
     "metadata": {},
     "output_type": "execute_result"
    }
   ],
   "source": [
    "L = [-1, 0, 0, 1]\n",
    "test_miller_loop(L)"
   ]
  },
  {
   "cell_type": "code",
   "execution_count": 127,
   "metadata": {},
   "outputs": [
    {
     "data": {
      "text/plain": [
       "'0b11000000000000000000000000000000000000000000000000110000000000000000000110010110011111111111111111111111111111110'"
      ]
     },
     "execution_count": 127,
     "metadata": {},
     "output_type": "execute_result"
    }
   ],
   "source": [
    "bin(7788445287802248360328263943323646)"
   ]
  },
  {
   "cell_type": "code",
   "execution_count": 128,
   "metadata": {},
   "outputs": [
    {
     "data": {
      "text/plain": [
       "15132376222941642752"
      ]
     },
     "execution_count": 128,
     "metadata": {},
     "output_type": "execute_result"
    }
   ],
   "source": [
    "int('0xd201000000010000', 16)"
   ]
  },
  {
   "cell_type": "code",
   "execution_count": 129,
   "metadata": {},
   "outputs": [
    {
     "data": {
      "text/plain": [
       "64"
      ]
     },
     "execution_count": 129,
     "metadata": {},
     "output_type": "execute_result"
    }
   ],
   "source": [
    "15132376222941642752.bit_length()"
   ]
  }
 ],
 "metadata": {
  "kernelspec": {
   "display_name": "SageMath 10.0",
   "language": "sage",
   "name": "sagemath"
  },
  "language_info": {
   "codemirror_mode": {
    "name": "ipython",
    "version": 3
   },
   "file_extension": ".py",
   "mimetype": "text/x-python",
   "name": "python",
   "nbconvert_exporter": "python",
   "pygments_lexer": "ipython3",
   "version": "3.11.3"
  }
 },
 "nbformat": 4,
 "nbformat_minor": 2
}
