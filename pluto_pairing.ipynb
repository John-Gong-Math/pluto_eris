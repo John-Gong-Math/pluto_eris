{
 "cells": [
  {
   "cell_type": "markdown",
   "metadata": {},
   "source": [
    "## Constants in Pluto-Eris\n",
    "\n",
    "repo: https://github.com/privacy-scaling-explorations/halo2curves/tree/main/src/pluto_eris , https://github.com/daira/pluto-eris \\\n",
    "paper: https://eprint.iacr.org/2010/354.pdf"
   ]
  },
  {
   "cell_type": "markdown",
   "metadata": {},
   "source": [
    "### 1. Helper functions"
   ]
  },
  {
   "cell_type": "markdown",
   "metadata": {},
   "source": [
    "Given an integer $ 0 < n < 2^{448}$, return its 7 limbs in little-endian where each 64-bit limb is in big endian."
   ]
  },
  {
   "cell_type": "code",
   "execution_count": 1,
   "metadata": {},
   "outputs": [],
   "source": [
    "def u_64_little_endian(n):\n",
    "    str_hex = hex(n)\n",
    "    str_hex_without_0x = str_hex[2:]\n",
    "    full_width_str = '0' * (112 - len(str_hex_without_0x)) + str_hex_without_0x\n",
    "    assert len(full_width_str) == 112\n",
    "\n",
    "    res = []\n",
    "    for i in range(7):\n",
    "        temp = '0x' + full_width_str[112 - 16 * (i + 1) : 112 - 16 * i]\n",
    "        res.append(temp)\n",
    "    return res"
   ]
  },
  {
   "cell_type": "markdown",
   "metadata": {},
   "source": [
    "Given an integer $x$, compute its little endian NAF whose Hamming weight is optimal. \\\n",
    "Definition of NAF: https://en.wikipedia.org/wiki/Non-adjacent_form"
   ]
  },
  {
   "cell_type": "code",
   "execution_count": 2,
   "metadata": {},
   "outputs": [],
   "source": [
    "def naf(n):\n",
    "    bits = []\n",
    "    while n > 0:\n",
    "        if n % 2 == 1:\n",
    "            # If n is odd, set the current digit as 2 - (n mod 4).\n",
    "            digit = 2 - (n % 4)\n",
    "            n -= digit\n",
    "        else:\n",
    "            # If n is even, set the current digit as 0.\n",
    "            digit = 0\n",
    "        bits.append(digit)\n",
    "        n //= 2\n",
    "    return bits\n",
    "\n",
    "# Example:\n",
    "# decimal_number = 7\n",
    "# naf = naf(decimal_number)\n",
    "# print(naf): [-1, 0, 0, 1], the binary form is initially [1, 1, 1] = 1 + 2 + 4."
   ]
  },
  {
   "cell_type": "code",
   "execution_count": 3,
   "metadata": {},
   "outputs": [],
   "source": [
    "# output the indices and the corresponding non-zero bits for a given NAF\n",
    "def non_zero_bits(naf):\n",
    "    l = len(naf)\n",
    "    value = 0\n",
    "    hamming_bits = {}\n",
    "    for i in range(l):\n",
    "        if naf[i] != 0:\n",
    "            hamming_bits[i] = naf[i]\n",
    "            value = value + naf[i] * 2**i\n",
    "    # sanity check\n",
    "    new_value = 0\n",
    "    for index, bit in hamming_bits.items():\n",
    "        new_value = new_value + bit * 2**index\n",
    "    assert new_value == value, \"the decomposition is not correct\"\n",
    "    return hamming_bits"
   ]
  },
  {
   "cell_type": "code",
   "execution_count": 4,
   "metadata": {},
   "outputs": [
    {
     "name": "stdout",
     "output_type": "stream",
     "text": [
      "{0: -1, 3: 1}\n"
     ]
    }
   ],
   "source": [
    "print(non_zero_bits(naf(7)))"
   ]
  },
  {
   "cell_type": "markdown",
   "metadata": {},
   "source": [
    "### 2. The Base Field $\\mathbb{F}_p$\n",
    "seed $U = -1298074214633708060054710657220608$ \\\n",
    "the base field modulus $p = 36 U^4 + 36 U^3 + 24 U^2 + 6 U + 1$ \\\n",
    "we define the constant $NEG\\_U = -U$:"
   ]
  },
  {
   "cell_type": "code",
   "execution_count": 5,
   "metadata": {},
   "outputs": [
    {
     "data": {
      "text/plain": [
       "111"
      ]
     },
     "execution_count": 5,
     "metadata": {},
     "output_type": "execute_result"
    }
   ],
   "source": [
    "U = -1298074214633708060054710657220608\n",
    "NEG_U = -U\n",
    "NEG_U.bit_length()"
   ]
  },
  {
   "cell_type": "code",
   "execution_count": 6,
   "metadata": {},
   "outputs": [
    {
     "data": {
      "text/plain": [
       "'0x4000000000001000008780000000'"
      ]
     },
     "execution_count": 6,
     "metadata": {},
     "output_type": "execute_result"
    }
   ],
   "source": [
    "hex(NEG_U)"
   ]
  },
  {
   "cell_type": "code",
   "execution_count": 7,
   "metadata": {},
   "outputs": [
    {
     "name": "stdout",
     "output_type": "stream",
     "text": [
      "{31: -1, 35: 1, 39: 1, 60: 1, 110: 1}\n"
     ]
    }
   ],
   "source": [
    "print(non_zero_bits(naf(NEG_U)))"
   ]
  },
  {
   "cell_type": "markdown",
   "metadata": {},
   "source": [
    "A low-hamming weight representation of $-U$ is thus:\n",
    "$$-U = 2^{110} + 2^{60} + 2^{39} + 2^{35} - 2^{31}$$"
   ]
  },
  {
   "cell_type": "markdown",
   "metadata": {},
   "source": [
    "As the base field size $p = 36 U^4 + 36 U^3 + 24 U^2 + 6 U + 1$, the low Hamming-weight representation of $p$ using symbolic computation is:"
   ]
  },
  {
   "cell_type": "code",
   "execution_count": 8,
   "metadata": {},
   "outputs": [
    {
     "data": {
      "text/plain": [
       "9*t^442 + 36*t^392 + 36*t^371 + 36*t^367 - 36*t^363 + 54*t^342 - 9*t^332 + 108*t^321 + 108*t^317 - 108*t^313 + 54*t^300 + 108*t^296 - 18*t^292 - 108*t^288 + 54*t^284 - 27*t^282 + 108*t^271 + 108*t^267 - 108*t^263 - 27*t^261 - 27*t^257 + 27*t^253 + 108*t^250 + 216*t^246 - 99*t^242 - 216*t^238 + 108*t^234 - 27*t^232 + 36*t^229 + 108*t^225 + 3*t^223 + 36*t^221 - 144*t^217 - 36*t^213 - 54*t^211 + 108*t^209 - 54*t^207 - 36*t^205 + 54*t^203 + 54*t^200 + 108*t^196 - 54*t^192 - 27*t^190 - 108*t^188 - 54*t^186 + 54*t^184 + 18*t^182 + 36*t^179 + 54*t^178 + 108*t^175 - 27*t^174 + 6*t^173 - 180*t^167 - 27*t^161 + 108*t^159 + 9*t^158 - 27*t^157 - 36*t^155 + 36*t^154 + 27*t^153 + 6*t^152 + 18*t^150 + 6*t^148 - 72*t^146 - 6*t^144 - 45*t^142 - 27*t^140 + 72*t^138 - 54*t^136 + 18*t^134 + 27*t^132 - 36*t^130 + 54*t^128 + 9*t^126 - 27*t^124 + 3*t^123 - 9*t^119 - 27*t^115 - 3*t^111 + 45*t^107 + 6*t^102 - 27*t^99 + 6*t^98 + 9*t^95 - 6*t^94 + 3*t^81 + 6*t^77 - 3*t^73 - 6*t^69 + 3*t^65 - 3*t^61 - 3*t^40 - 3*t^36 + 3*t^32 + 1"
      ]
     },
     "execution_count": 8,
     "metadata": {},
     "output_type": "execute_result"
    }
   ],
   "source": [
    "R_over_q = PolynomialRing(QQ, 't')  # 't' stands for two\n",
    "t = R_over_q.gen() # Don't forget to explicit the generator of ring\n",
    "poly_U = -(t^(110) + t^(60) + t^(39) + t^(35) - t^(31))\n",
    "# p = 9 * 2^2 * U^4 + 9 * 2^2 * U^3 + 3 * 2^3 * U^2 + 3 * 2^1 * U + 1\n",
    "poly_p = 9 * t^2 * poly_U^4 + 9 * t^2 * poly_U^3 + 3 * t^3 * poly_U^2 + 3 * t * poly_U + 1\n",
    "poly_p"
   ]
  },
  {
   "cell_type": "markdown",
   "metadata": {},
   "source": [
    "Therefore, $p = 9 \\cdot 2^{442} + 9 \\cdot 2^{394} + 9 \\cdot 2^{373} + 9 \\cdot 2^{369} + \\dots$ thus its hamming weight is large. This is a \n",
    "serious constraint for applying some optimizations over the base field $\\mathbb{F}_{p}$ (e.g Fiat-Crypto)."
   ]
  },
  {
   "cell_type": "markdown",
   "metadata": {},
   "source": [
    "The constant $- (6U + 2)$"
   ]
  },
  {
   "cell_type": "code",
   "execution_count": 9,
   "metadata": {},
   "outputs": [],
   "source": [
    "NEG_SIX_U_PLUS_2 = -(6 * U + 2)"
   ]
  },
  {
   "cell_type": "code",
   "execution_count": 10,
   "metadata": {},
   "outputs": [
    {
     "data": {
      "text/plain": [
       "'0x18000000000006000032cfffffffe'"
      ]
     },
     "execution_count": 10,
     "metadata": {},
     "output_type": "execute_result"
    }
   ],
   "source": [
    "hex(NEG_SIX_U_PLUS_2)"
   ]
  },
  {
   "cell_type": "markdown",
   "metadata": {},
   "source": [
    "NAF of the value $-(6U + 2)$, refer to\n",
    "https://github.com/privacy-scaling-explorations/halo2curves/blob/main/src/pluto_eris/engine.rs#L22-L27"
   ]
  },
  {
   "cell_type": "code",
   "execution_count": 11,
   "metadata": {},
   "outputs": [
    {
     "name": "stdout",
     "output_type": "stream",
     "text": [
      "[0, -1, 0, 0, 0, 0, 0, 0, 0, 0, 0, 0, 0, 0, 0, 0, 0, 0, 0, 0, 0, 0, 0, 0, 0, 0, 0, 0, 0, 0, 0, 0, 1, 0, -1, 0, -1, 0, 1, 0, -1, 0, 1, 0, 0, 0, 0, 0, 0, 0, 0, 0, 0, 0, 0, 0, 0, 0, 0, 0, 0, -1, 0, 1, 0, 0, 0, 0, 0, 0, 0, 0, 0, 0, 0, 0, 0, 0, 0, 0, 0, 0, 0, 0, 0, 0, 0, 0, 0, 0, 0, 0, 0, 0, 0, 0, 0, 0, 0, 0, 0, 0, 0, 0, 0, 0, 0, 0, 0, 0, 0, -1, 0, 1]\n"
     ]
    }
   ],
   "source": [
    "print(naf(NEG_SIX_U_PLUS_2))"
   ]
  },
  {
   "cell_type": "markdown",
   "metadata": {},
   "source": [
    "The length of the list used to store NEG_SIX_U_PLUS_2 \\\n",
    "https://github.com/privacy-scaling-explorations/halo2curves/blob/main/src/pluto_eris/engine.rs#L22\n"
   ]
  },
  {
   "cell_type": "code",
   "execution_count": 12,
   "metadata": {},
   "outputs": [
    {
     "data": {
      "text/plain": [
       "114"
      ]
     },
     "execution_count": 12,
     "metadata": {},
     "output_type": "execute_result"
    }
   ],
   "source": [
    "len(naf(NEG_SIX_U_PLUS_2))"
   ]
  },
  {
   "cell_type": "code",
   "execution_count": 13,
   "metadata": {},
   "outputs": [
    {
     "name": "stdout",
     "output_type": "stream",
     "text": [
      "{1: -1, 32: 1, 34: -1, 36: -1, 38: 1, 40: -1, 42: 1, 61: -1, 63: 1, 111: -1, 113: 1}\n"
     ]
    }
   ],
   "source": [
    "print(non_zero_bits(naf(NEG_SIX_U_PLUS_2)))"
   ]
  },
  {
   "cell_type": "markdown",
   "metadata": {},
   "source": [
    "Due to the existence of $-1$, the length of NAF is bigger than the usual bit length:"
   ]
  },
  {
   "cell_type": "code",
   "execution_count": 14,
   "metadata": {},
   "outputs": [
    {
     "data": {
      "text/plain": [
       "113"
      ]
     },
     "execution_count": 14,
     "metadata": {},
     "output_type": "execute_result"
    }
   ],
   "source": [
    "NEG_SIX_U_PLUS_2.bit_length()"
   ]
  },
  {
   "cell_type": "markdown",
   "metadata": {},
   "source": [
    "The base field modulus $p$ in terms of $U$:"
   ]
  },
  {
   "cell_type": "code",
   "execution_count": 15,
   "metadata": {},
   "outputs": [
    {
     "data": {
      "text/plain": [
       "'0x24000000000024000130e0000d7f70e4a803ca76f439266f443f9a5cda8a6c7be4a7a5fe8fadffd6a2a7e8c30006b9459ffffcd300000001'"
      ]
     },
     "execution_count": 15,
     "metadata": {},
     "output_type": "execute_result"
    }
   ],
   "source": [
    "p = 36 * U**4 + 36 * U**3 + 24 * U**2 + 6 * U + 1\n",
    "hex(p)"
   ]
  },
  {
   "cell_type": "code",
   "execution_count": 16,
   "metadata": {},
   "outputs": [
    {
     "data": {
      "text/plain": [
       "102211695604070082112571065507755096754575920209623522239390234855490679834276115250716018318118556227909439196474813090886893187366913"
      ]
     },
     "execution_count": 16,
     "metadata": {},
     "output_type": "execute_result"
    }
   ],
   "source": [
    "p"
   ]
  },
  {
   "cell_type": "code",
   "execution_count": 17,
   "metadata": {},
   "outputs": [
    {
     "data": {
      "text/plain": [
       "446"
      ]
     },
     "execution_count": 17,
     "metadata": {},
     "output_type": "execute_result"
    }
   ],
   "source": [
    "p.bit_length()"
   ]
  },
  {
   "cell_type": "markdown",
   "metadata": {},
   "source": [
    "Check the group order $p-1$ is divisible by $6$ and $4$"
   ]
  },
  {
   "cell_type": "code",
   "execution_count": 18,
   "metadata": {},
   "outputs": [
    {
     "data": {
      "text/plain": [
       "True"
      ]
     },
     "execution_count": 18,
     "metadata": {},
     "output_type": "execute_result"
    }
   ],
   "source": [
    "(p - 1) % 6 == 0"
   ]
  },
  {
   "cell_type": "code",
   "execution_count": 19,
   "metadata": {},
   "outputs": [
    {
     "data": {
      "text/plain": [
       "True"
      ]
     },
     "execution_count": 19,
     "metadata": {},
     "output_type": "execute_result"
    }
   ],
   "source": [
    "(p - 1) % 4 == 0"
   ]
  },
  {
   "cell_type": "markdown",
   "metadata": {},
   "source": [
    "The limbs representation of $p$, refer to:\\\n",
    "https://github.com/privacy-scaling-explorations/halo2curves/blob/main/src/pluto_eris/fields/fp.rs#L39-L47"
   ]
  },
  {
   "cell_type": "code",
   "execution_count": 20,
   "metadata": {},
   "outputs": [
    {
     "data": {
      "text/plain": [
       "['0x9ffffcd300000001',\n",
       " '0xa2a7e8c30006b945',\n",
       " '0xe4a7a5fe8fadffd6',\n",
       " '0x443f9a5cda8a6c7b',\n",
       " '0xa803ca76f439266f',\n",
       " '0x0130e0000d7f70e4',\n",
       " '0x2400000000002400']"
      ]
     },
     "execution_count": 20,
     "metadata": {},
     "output_type": "execute_result"
    }
   ],
   "source": [
    "u_64_little_endian(p)"
   ]
  },
  {
   "cell_type": "markdown",
   "metadata": {},
   "source": [
    "Construct the base field $\\mathbb{F}_p$"
   ]
  },
  {
   "cell_type": "code",
   "execution_count": 21,
   "metadata": {},
   "outputs": [
    {
     "data": {
      "text/plain": [
       "Finite Field of size 102211695604070082112571065507755096754575920209623522239390234855490679834276115250716018318118556227909439196474813090886893187366913"
      ]
     },
     "execution_count": 21,
     "metadata": {},
     "output_type": "execute_result"
    }
   ],
   "source": [
    "Fp = GF(p)\n",
    "Fp"
   ]
  },
  {
   "cell_type": "markdown",
   "metadata": {},
   "source": [
    "The constant $R$ for Montgomery form, refer to\n",
    "https://github.com/privacy-scaling-explorations/halo2curves/blob/main/src/pluto_eris/fields/fp.rs#L67-L75"
   ]
  },
  {
   "cell_type": "code",
   "execution_count": 22,
   "metadata": {},
   "outputs": [
    {
     "data": {
      "text/plain": [
       "['0xa000163afffffff9',\n",
       " '0x8d68a2aaffd0ef18',\n",
       " '0xbf6a760a123e0121',\n",
       " '0x2242c7760637089c',\n",
       " '0x67e576bf526ff2f5',\n",
       " '0xf7a9dfffa183e9bf',\n",
       " '0x03ffffffffff03ff']"
      ]
     },
     "execution_count": 22,
     "metadata": {},
     "output_type": "execute_result"
    }
   ],
   "source": [
    "u_64_little_endian((2**448) % p)"
   ]
  },
  {
   "cell_type": "code",
   "execution_count": 23,
   "metadata": {},
   "outputs": [
    {
     "data": {
      "text/plain": [
       "11356855067116315761326349333718857071609919219953404605758555192204529273465116571178922486933671965396447230942486297326349317046265"
      ]
     },
     "execution_count": 23,
     "metadata": {},
     "output_type": "execute_result"
    }
   ],
   "source": [
    "R = Fp(2**448)\n",
    "R"
   ]
  },
  {
   "cell_type": "markdown",
   "metadata": {},
   "source": [
    "### 3. The Scalar Field $\\mathbb{F}_q$\n",
    "the scalar field modulus $q = 36 U^4 + 36 U^3 + 18 U^2 + 6 U+1$"
   ]
  },
  {
   "cell_type": "code",
   "execution_count": 24,
   "metadata": {},
   "outputs": [
    {
     "data": {
      "text/plain": [
       "'0x24000000000024000130e0000d7f70e4a803ca76f439266f443f9a5c7a8a6c7be4a775fe8e177fd69ca7e85d60050af41ffffcd300000001'"
      ]
     },
     "execution_count": 24,
     "metadata": {},
     "output_type": "execute_result"
    }
   ],
   "source": [
    "q = 36 * U**4 + 36 * U**3 + 18 * U**2 + 6 * U + 1\n",
    "hex(q)"
   ]
  },
  {
   "cell_type": "markdown",
   "metadata": {},
   "source": [
    "The limbs representation of $q$, refer to:\\\n",
    "https://github.com/privacy-scaling-explorations/halo2curves/blob/main/src/pluto_eris/fields/fq.rs#L39-L47"
   ]
  },
  {
   "cell_type": "code",
   "execution_count": 25,
   "metadata": {},
   "outputs": [
    {
     "data": {
      "text/plain": [
       "['0x1ffffcd300000001',\n",
       " '0x9ca7e85d60050af4',\n",
       " '0xe4a775fe8e177fd6',\n",
       " '0x443f9a5c7a8a6c7b',\n",
       " '0xa803ca76f439266f',\n",
       " '0x0130e0000d7f70e4',\n",
       " '0x2400000000002400']"
      ]
     },
     "execution_count": 25,
     "metadata": {},
     "output_type": "execute_result"
    }
   ],
   "source": [
    "u_64_little_endian(q)"
   ]
  },
  {
   "cell_type": "code",
   "execution_count": 26,
   "metadata": {},
   "outputs": [
    {
     "data": {
      "text/plain": [
       "Finite Field of size 102211695604070082112571065507755096754575920209623522239390234855480569854275933742834077002685857629445612735086326265689167708028929"
      ]
     },
     "execution_count": 26,
     "metadata": {},
     "output_type": "execute_result"
    }
   ],
   "source": [
    "Fq = GF(q)\n",
    "Fq"
   ]
  },
  {
   "cell_type": "markdown",
   "metadata": {},
   "source": [
    "### 4. The extension fields\n",
    "The field $\\mathbb{F}_{p^2}$ \n",
    "defined by $\\mathbb{F}_{p^2} = \\mathbb{F}_p[u] = \\mathbb{F}_p[X] / (X^2 + 5)$ where $X^2 + 5$ is irreducible in $\\mathbb{F}_p[X]$\\\n",
    "refer to: https://github.com/privacy-scaling-explorations/halo2curves/blob/main/src/pluto_eris/fp2.rs"
   ]
  },
  {
   "cell_type": "markdown",
   "metadata": {},
   "source": [
    "Check $X^2 + 5$ is irreducible:"
   ]
  },
  {
   "cell_type": "code",
   "execution_count": 27,
   "metadata": {},
   "outputs": [
    {
     "data": {
      "text/plain": [
       "True"
      ]
     },
     "execution_count": 27,
     "metadata": {},
     "output_type": "execute_result"
    }
   ],
   "source": [
    "Rp = PolynomialRing(Fp, \"x\")\n",
    "x = Rp.gen()\n",
    "(x^2 + 5).is_irreducible()"
   ]
  },
  {
   "cell_type": "markdown",
   "metadata": {},
   "source": [
    "Construct $\\mathbb{F}_{p^2}$ from $\\mathbb{F}_{p}$ in $u$ such that $u^2 + 5 = 0$"
   ]
  },
  {
   "cell_type": "code",
   "execution_count": 28,
   "metadata": {},
   "outputs": [
    {
     "data": {
      "text/plain": [
       "Finite Field in u of size 102211695604070082112571065507755096754575920209623522239390234855490679834276115250716018318118556227909439196474813090886893187366913^2"
      ]
     },
     "execution_count": 28,
     "metadata": {},
     "output_type": "execute_result"
    }
   ],
   "source": [
    "Fp2.<u> = Fp.extension(x^2 + 5)\n",
    "Fp2"
   ]
  },
  {
   "cell_type": "markdown",
   "metadata": {},
   "source": [
    "Check the identity $u^2 + 5 = 0$ in $\\mathbb{F}_{p^{2}}$"
   ]
  },
  {
   "cell_type": "code",
   "execution_count": 29,
   "metadata": {},
   "outputs": [
    {
     "data": {
      "text/plain": [
       "True"
      ]
     },
     "execution_count": 29,
     "metadata": {},
     "output_type": "execute_result"
    }
   ],
   "source": [
    "u**2 + 5 == 0"
   ]
  },
  {
   "cell_type": "markdown",
   "metadata": {},
   "source": [
    "The twisted curve (Triton) defined by: $E': Y^2 = X^3 + (u + 3)$ \\\n",
    "see the defintion in: https://github.com/daira/pluto-eris \\\n",
    "and in the repo: https://github.com/privacy-scaling-explorations/halo2curves/blob/main/src/pluto_eris/curve.rs#L100-L106\n"
   ]
  },
  {
   "cell_type": "markdown",
   "metadata": {},
   "source": [
    "The field $\\mathbb{F}_{p^6}$, refer to: https://github.com/privacy-scaling-explorations/halo2curves/blob/main/src/pluto_eris/fp6.rs\\\n",
    "$\\mathbb{F}_{p^6} = \\mathbb{F}_{p^2}[v] = \\mathbb{F}_{p^2}[X] / (X^3 - 57/(u + 3))$ where $X^3 - 57/(u+3)$ is irreducible in $\\mathbb{F}_{p^2}[X]$\\"
   ]
  },
  {
   "cell_type": "markdown",
   "metadata": {},
   "source": [
    "Note that the non-cubic residue $57/(u + 3)$ is not arbitrarily chosen. It is closely related to the equation of the curve:\n",
    "$$E / \\mathbb{F}_p: Y^2 = X^3 + 57$$\n",
    "and the twisted curve :\n",
    "$$E' / \\mathbb{F}_{p^2}: Y^2 = X^3 + (u + 3)$$\n",
    "More precisely, let $\\xi = 57/(u + 3) \\in \\mathbb{F}_{p^2}$, the isomorphism is defined by\n",
    "$$\\Phi: E' \\rightarrow E: \\quad (x, y) \\mapsto (x \\cdot \\xi^{1/3}, y \\cdot \\xi^{1/2})$$\n",
    "and\n",
    "$$\\Phi^{-1}: E \\rightarrow E': \\quad (x, y) \\mapsto (x / \\xi^{1/3}, y / \\xi^{1/2})$$\n",
    "See more details in Section 3 regarding D-type twist in paper: http://indigo.ie/~mscott/twists.pdf"
   ]
  },
  {
   "cell_type": "markdown",
   "metadata": {},
   "source": [
    "Suppose $\\xi = 57/(u + 3) = c_1 \\cdot u + c_0$ where $c_0, c_1 \\in \\mathbb{F}_p$"
   ]
  },
  {
   "cell_type": "code",
   "execution_count": 30,
   "metadata": {},
   "outputs": [
    {
     "data": {
      "text/plain": [
       "21902506200872160452693799751661806447409125759205040479869336040462288535916310410867718211025404905980594113530317090904334254435763*u + 36504177001453600754489666252769677412348542932008400799782226734103814226527184018112863685042341509967656855883861818173890424059624"
      ]
     },
     "execution_count": 30,
     "metadata": {},
     "output_type": "execute_result"
    }
   ],
   "source": [
    "xi = 57 * (u + 3)**(-1)\n",
    "xi"
   ]
  },
  {
   "cell_type": "markdown",
   "metadata": {},
   "source": [
    "$\\xi^{(p^2 - 1)/2 }$ is order $2$"
   ]
  },
  {
   "cell_type": "code",
   "execution_count": 31,
   "metadata": {},
   "outputs": [
    {
     "data": {
      "text/plain": [
       "True"
      ]
     },
     "execution_count": 31,
     "metadata": {},
     "output_type": "execute_result"
    }
   ],
   "source": [
    "xi**((p ** 2 - 1)/2) == Fp2(-1)"
   ]
  },
  {
   "cell_type": "markdown",
   "metadata": {},
   "source": [
    "The coordinate $c_0$ of $\\xi$ in the basis $\\{ 1, u\\}$ in $\\mathbb{F}_{p^2}$ (copied from the above result), refer to\\\n",
    "https://github.com/privacy-scaling-explorations/halo2curves/blob/main/src/pluto_eris/fp6.rs#L23-L32"
   ]
  },
  {
   "cell_type": "code",
   "execution_count": 32,
   "metadata": {},
   "outputs": [
    {
     "data": {
      "text/plain": [
       "['0xddb6da4b5b6db6e8',\n",
       " '0x833bf7b35b701d98',\n",
       " '0x3f6072240ebe2483',\n",
       " '0x73cd928ee056022c',\n",
       " '0xce4a7f2a7bcb4495',\n",
       " '0xdbda9924971b3a9a',\n",
       " '0x0cdb6db6db6dc3b6']"
      ]
     },
     "execution_count": 32,
     "metadata": {},
     "output_type": "execute_result"
    }
   ],
   "source": [
    "u_64_little_endian(36504177001453600754489666252769677412348542932008400799782226734103814226527184018112863685042341509967656855883861818173890424059624)"
   ]
  },
  {
   "cell_type": "markdown",
   "metadata": {},
   "source": [
    "The coordinate $c_1$ of $\\xi$ in the basis $\\{ 1, u\\}$ in $\\mathbb{F}_{p^2}$ (copied from the above result), refer to\\\n",
    "https://github.com/privacy-scaling-explorations/halo2curves/blob/main/src/pluto_eris/fp6.rs#L33-L42"
   ]
  },
  {
   "cell_type": "code",
   "execution_count": 33,
   "metadata": {},
   "outputs": [
    {
     "data": {
      "text/plain": [
       "['0xeb6db62d36db6db3',\n",
       " '0xb523fb0536dcde8e',\n",
       " '0x8c6d1148d5a5491b',\n",
       " '0x457b57ef5366ce1a',\n",
       " '0x489319197d79f5f3',\n",
       " '0xb71cc2492776bcc3',\n",
       " '0x07b6db6db6db756d']"
      ]
     },
     "execution_count": 33,
     "metadata": {},
     "output_type": "execute_result"
    }
   ],
   "source": [
    "u_64_little_endian(21902506200872160452693799751661806447409125759205040479869336040462288535916310410867718211025404905980594113530317090904334254435763)"
   ]
  },
  {
   "cell_type": "markdown",
   "metadata": {},
   "source": [
    "The irreducible polynomial in $\\mathbb{F}_{p^2}[X]$: $X^3 - \\xi$"
   ]
  },
  {
   "cell_type": "code",
   "execution_count": 34,
   "metadata": {},
   "outputs": [
    {
     "data": {
      "text/plain": [
       "True"
      ]
     },
     "execution_count": 34,
     "metadata": {},
     "output_type": "execute_result"
    }
   ],
   "source": [
    "Rp2 = PolynomialRing(Fp2, \"x\")\n",
    "x = Rp2.gen()\n",
    "(x^3 - xi).is_irreducible()"
   ]
  },
  {
   "cell_type": "markdown",
   "metadata": {},
   "source": [
    "Construct the field $\\mathbb{F}_{p^6} = \\mathbb{F}_{p^2}[X]/(X^3 - \\xi) = \\mathbb{F}_{p^2}[v]$"
   ]
  },
  {
   "cell_type": "code",
   "execution_count": 35,
   "metadata": {},
   "outputs": [
    {
     "data": {
      "text/plain": [
       "Univariate Quotient Polynomial Ring in v over Finite Field in u of size 102211695604070082112571065507755096754575920209623522239390234855490679834276115250716018318118556227909439196474813090886893187366913^2 with modulus v^3 + 80309189403197921659877265756093290307166794450418481759520898815028391298359804839848300107093151321928845082944495999982558932931150*u + 65707518602616481358081399254985419342227377277615121439608008121386865607748931232603154633076214717941782340590951272713002763307289"
      ]
     },
     "execution_count": 35,
     "metadata": {},
     "output_type": "execute_result"
    }
   ],
   "source": [
    "Fp6.<v> = Fp2.extension(x^3 - xi)\n",
    "Fp6"
   ]
  },
  {
   "cell_type": "code",
   "execution_count": 36,
   "metadata": {},
   "outputs": [
    {
     "data": {
      "text/plain": [
       "True"
      ]
     },
     "execution_count": 36,
     "metadata": {},
     "output_type": "execute_result"
    }
   ],
   "source": [
    "Fp6.is_field()"
   ]
  },
  {
   "cell_type": "markdown",
   "metadata": {},
   "source": [
    "Check the identity $v^3 - \\xi = 0$"
   ]
  },
  {
   "cell_type": "code",
   "execution_count": 37,
   "metadata": {},
   "outputs": [
    {
     "data": {
      "text/plain": [
       "True"
      ]
     },
     "execution_count": 37,
     "metadata": {},
     "output_type": "execute_result"
    }
   ],
   "source": [
    "v**3 - xi == 0"
   ]
  },
  {
   "cell_type": "markdown",
   "metadata": {},
   "source": [
    "The field $\\mathbb{F}_{p^{12}} = \\mathbb{F}_{p^6}[w] = \\mathbb{F}_{p^6}[X] / (X^2 - v)$ where $X^2 - v$ is irreducible in $\\mathbb{F}_{p^6}[X]$ \\\n",
    "We may use the following constructor to construct $\\mathbb{F}_{p^{12}}$ as usual, but it turns out too slow:\n"
   ]
  },
  {
   "cell_type": "code",
   "execution_count": 38,
   "metadata": {},
   "outputs": [],
   "source": [
    "# Rp6 = PolynomialRing(Fp6, \"x\")\n",
    "# x = Rp6.gen()\n",
    "# (x^2 - v).is_irreducible()\n",
    "# Fp12 = Rp6.quotient(x^2 - v)\n",
    "# Fp12"
   ]
  },
  {
   "cell_type": "markdown",
   "metadata": {},
   "source": [
    "Instead, let's check it manually. It suffices to prove $X^2 - v$ is irreducible over $\\mathbb{F}_{p^6}[X]$, in other words\n",
    "$v$ is not a quadratic residue over $\\mathbb{F}_{p^6}$. Otherwise, there is an element $p(v) = a_0 + a_1 \\cdot v + a_2 \\cdot v^2 \\in \\mathbb{F}_{p^6}$ such that\n",
    "$$p(v)^2 = v \\text{ over } \\mathbb{F}_{p^6}$$\n",
    "Equivalently, there exists $p(X) = a_0 + a_1 \\cdot X + a_2 \\cdot X^2 \\in \\mathbb{F}_{p^2}[X]$ such that\n",
    "$$ X^3 - 57/(u + 3) \\;| \\; p(X)^2 - X \\text{ over } \\mathbb{F}_{p^2}[X]$$\n",
    "It is clear that there is no such a $p(X) \\in \\mathbb{F}_{p^2}[X]$.\n"
   ]
  },
  {
   "cell_type": "markdown",
   "metadata": {},
   "source": [
    "### 5. The constants in Pairing\n",
    "The const FROBENIUS_COEFF_FP6_C1[1] \n",
    "used in pairing: https://github.com/privacy-scaling-explorations/halo2curves/blob/main/src/pluto_eris/engine.rs#L462"
   ]
  },
  {
   "cell_type": "markdown",
   "metadata": {},
   "source": [
    "In fact, the list FROBENIUS_COEFF_FQ6_C1 = $[\\gamma_{10}. \\gamma_{11}, \\dots, \\gamma_{15}]$ such that for the Frobenius morphism $\\pi$:\n",
    "$$\\pi^i(v) = \\gamma_{1i} \\cdot v \\quad \\text{ for } i = 0, 1, \\dots, 5$$\n",
    "where $\\pi$ has order $6$ in the group $Gal(\\mathbb{F}_{q^6} / \\mathbb{F}_q)$ and $\\mathbb{F}_{q^6} = \\mathbb{F}_{q^{2}}[v]$."
   ]
  },
  {
   "cell_type": "markdown",
   "metadata": {},
   "source": [
    "Notice $\\{ 1, v, v^2\\}$ is a basis for the $\\mathbb{F}_{q^2}$-vector space $\\mathbb{F}_{q^6}$, regarding the images of $v^2$, the list FROBENIUS_COEFF_FQ6_C2 = $[\\gamma_{20}. \\gamma_{21}, \\dots, \\gamma_{25}]$ is defined by:\n",
    "$$\\pi^i(v^2) = \\gamma_{2i} \\cdot v^2 \\quad \\text{ for } i = 0, 1, \\dots, 5$$"
   ]
  },
  {
   "cell_type": "markdown",
   "metadata": {},
   "source": [
    "For $v = (57/(u + 3))^{1/3} = \\xi^{1/3}$, we have\n",
    "$$\\pi(v) = \\xi^{p/3} = \\xi^{(p-1)/3} \\cdot \\xi^{1/3} = \\xi^{(p-1)/3} \\cdot v$$\n",
    "hence $\\gamma_{11} = \\xi^{(p-1)/3}$."
   ]
  },
  {
   "cell_type": "markdown",
   "metadata": {},
   "source": [
    "This constant is defined: https://github.com/privacy-scaling-explorations/halo2curves/blob/main/src/pluto_eris/fp6.rs#L285"
   ]
  },
  {
   "cell_type": "code",
   "execution_count": 39,
   "metadata": {},
   "outputs": [
    {
     "data": {
      "text/plain": [
       "92529011805995300781026747858635174615077510851648588563707597606861718583198168205651139531970571313972517572887035428707503415341858*u + 51260142370505185497351973260211965617805492386872277241342529142140236670911574395535108090223527812381417682871589681672697256676611"
      ]
     },
     "execution_count": 39,
     "metadata": {},
     "output_type": "execute_result"
    }
   ],
   "source": [
    "xi**((p-1)/3)"
   ]
  },
  {
   "cell_type": "markdown",
   "metadata": {},
   "source": [
    "Let $\\gamma_{11} = \\xi^{(p-1)/3} = c_1 \\cdot u + c_0 \\in \\mathbb{F}_{p^2}$\\\n",
    "the coordinate $c_0$: https://github.com/privacy-scaling-explorations/halo2curves/blob/main/src/pluto_eris/fp6.rs#L287-L296 \\\n",
    "The representation from BN256 is in the field representation (with Montgomery const $R$).\n"
   ]
  },
  {
   "cell_type": "code",
   "execution_count": 40,
   "metadata": {},
   "outputs": [
    {
     "data": {
      "text/plain": [
       "'0x120de97f024c55bc3bc0d351f4c70da1e3886170077a50986f93678bc921dcd5041bc4bb14cc42dc52e787634eccc335a001825382850d03'"
      ]
     },
     "execution_count": 40,
     "metadata": {},
     "output_type": "execute_result"
    }
   ],
   "source": [
    "hex(51260142370505185497351973260211965617805492386872277241342529142140236670911574395535108090223527812381417682871589681672697256676611)"
   ]
  },
  {
   "cell_type": "code",
   "execution_count": 41,
   "metadata": {},
   "outputs": [
    {
     "data": {
      "text/plain": [
       "['0xa001825382850d03',\n",
       " '0x52e787634eccc335',\n",
       " '0x041bc4bb14cc42dc',\n",
       " '0x6f93678bc921dcd5',\n",
       " '0xe3886170077a5098',\n",
       " '0x3bc0d351f4c70da1',\n",
       " '0x120de97f024c55bc']"
      ]
     },
     "execution_count": 41,
     "metadata": {},
     "output_type": "execute_result"
    }
   ],
   "source": [
    "u_64_little_endian(51260142370505185497351973260211965617805492386872277241342529142140236670911574395535108090223527812381417682871589681672697256676611)"
   ]
  },
  {
   "cell_type": "markdown",
   "metadata": {},
   "source": [
    "The coordinate $c_1$: https://github.com/privacy-scaling-explorations/halo2curves/blob/main/src/pluto_eris/fp6.rs#L297-L306"
   ]
  },
  {
   "cell_type": "code",
   "execution_count": 42,
   "metadata": {},
   "outputs": [
    {
     "data": {
      "text/plain": [
       "'0x2096f3f804d973afd82becc2ef081b76132461908eadbe3da1a7f5502b7091965efa1ddf4658080413be1b7cd3c9ea0e2772fea378a9b322'"
      ]
     },
     "execution_count": 42,
     "metadata": {},
     "output_type": "execute_result"
    }
   ],
   "source": [
    "hex(92529011805995300781026747858635174615077510851648588563707597606861718583198168205651139531970571313972517572887035428707503415341858)"
   ]
  },
  {
   "cell_type": "code",
   "execution_count": 43,
   "metadata": {},
   "outputs": [
    {
     "data": {
      "text/plain": [
       "['0x2772fea378a9b322',\n",
       " '0x13be1b7cd3c9ea0e',\n",
       " '0x5efa1ddf46580804',\n",
       " '0xa1a7f5502b709196',\n",
       " '0x132461908eadbe3d',\n",
       " '0xd82becc2ef081b76',\n",
       " '0x2096f3f804d973af']"
      ]
     },
     "execution_count": 43,
     "metadata": {},
     "output_type": "execute_result"
    }
   ],
   "source": [
    "u_64_little_endian(92529011805995300781026747858635174615077510851648588563707597606861718583198168205651139531970571313972517572887035428707503415341858)"
   ]
  },
  {
   "cell_type": "markdown",
   "metadata": {},
   "source": [
    "The const FROBENIUS_COEFF_FP6_C1[2] \n",
    "used in pairing: https://github.com/privacy-scaling-explorations/halo2curves/blob/main/src/pluto_eris/engine.rs#L470"
   ]
  },
  {
   "cell_type": "markdown",
   "metadata": {},
   "source": [
    "By the above discussion, we need to compute the constant $\\gamma_{12}$ such that $\\pi^2(v) = \\gamma_{12} \\cdot v$. It is clear\n",
    "$$\\pi \\circ \\pi(v) = \\pi(\\gamma_{11} \\cdot v) = \\overline{\\gamma}_{11} \\cdot \\pi(v) = \\overline{\\gamma}_{11} \\cdot \\gamma_{11} \\cdot v$$\n",
    "since $\\gamma_{11} \\in \\mathbb{F}_{p^2}$ and the Frobenius over $\\mathbb{F}_{p^2}$ is equivalent to conjugation. Hence\n",
    "$\\gamma_{12} = \\overline{\\gamma}_{11} \\cdot \\gamma_{11} = \\xi^{((p^2 - p) + p - 1)/3} = \\xi^{(p^2 - 1)/3}$."
   ]
  },
  {
   "cell_type": "markdown",
   "metadata": {},
   "source": [
    "This constant is defined: https://github.com/privacy-scaling-explorations/halo2curves/blob/main/src/pluto_eris/fp6.rs#L308"
   ]
  },
  {
   "cell_type": "code",
   "execution_count": 44,
   "metadata": {},
   "outputs": [
    {
     "data": {
      "text/plain": [
       "39370513046094319542878173447389497729725081225711316008956793976697167703016365005507455943322894334"
      ]
     },
     "execution_count": 44,
     "metadata": {},
     "output_type": "execute_result"
    }
   ],
   "source": [
    "xi**((p**2-1)/3)"
   ]
  },
  {
   "cell_type": "markdown",
   "metadata": {},
   "source": [
    "$c_1 = 0$ and $c_0$ is referred to https://github.com/privacy-scaling-explorations/halo2curves/blob/main/src/pluto_eris/fp6.rs#L310-L319"
   ]
  },
  {
   "cell_type": "code",
   "execution_count": 45,
   "metadata": {},
   "outputs": [
    {
     "data": {
      "text/plain": [
       "'0x480000000000360001c950000d7ee0e4a803c956d01c903d720dc8ad8b38dffaf50c100004c37ffffffe'"
      ]
     },
     "execution_count": 45,
     "metadata": {},
     "output_type": "execute_result"
    }
   ],
   "source": [
    "hex(39370513046094319542878173447389497729725081225711316008956793976697167703016365005507455943322894334)"
   ]
  },
  {
   "cell_type": "code",
   "execution_count": 46,
   "metadata": {},
   "outputs": [
    {
     "data": {
      "text/plain": [
       "['0x100004c37ffffffe',\n",
       " '0xc8ad8b38dffaf50c',\n",
       " '0xc956d01c903d720d',\n",
       " '0x50000d7ee0e4a803',\n",
       " '0x00000000360001c9',\n",
       " '0x0000000000004800',\n",
       " '0x0000000000000000']"
      ]
     },
     "execution_count": 46,
     "metadata": {},
     "output_type": "execute_result"
    }
   ],
   "source": [
    "u_64_little_endian(39370513046094319542878173447389497729725081225711316008956793976697167703016365005507455943322894334)"
   ]
  },
  {
   "cell_type": "markdown",
   "metadata": {},
   "source": [
    "The const XI_TO_P_MINUS_1_OVER_2, \n",
    "used in pairing: https://github.com/privacy-scaling-explorations/halo2curves/blob/main/src/pluto_eris/engine.rs#L29-L50\n"
   ]
  },
  {
   "cell_type": "code",
   "execution_count": 47,
   "metadata": {},
   "outputs": [
    {
     "data": {
      "text/plain": [
       "65079093581113076137070936836706683307023886770993453415929204320012344240499906559031972253911619563827341548210931723067336455786996*u + 95958235239618370663357236287665721330778695800924622118898462510960785934385719569712082879717746516106642479264739976661558948422166"
      ]
     },
     "execution_count": 47,
     "metadata": {},
     "output_type": "execute_result"
    }
   ],
   "source": [
    "xi**((p-1)/2)"
   ]
  },
  {
   "cell_type": "markdown",
   "metadata": {},
   "source": [
    "the coordinate $c_0$"
   ]
  },
  {
   "cell_type": "code",
   "execution_count": 48,
   "metadata": {},
   "outputs": [
    {
     "data": {
      "text/plain": [
       "['0x54cf5ad1c0926216',\n",
       " '0x186c1f3ce4a46d4e',\n",
       " '0x9c23800ce9c9452f',\n",
       " '0x50e0d09ff6d6c08b',\n",
       " '0x7cf421e4d46f6666',\n",
       " '0x678664ba4b6d8343',\n",
       " '0x21cc26d5de0f80f4']"
      ]
     },
     "execution_count": 48,
     "metadata": {},
     "output_type": "execute_result"
    }
   ],
   "source": [
    "u_64_little_endian(95958235239618370663357236287665721330778695800924622118898462510960785934385719569712082879717746516106642479264739976661558948422166)"
   ]
  },
  {
   "cell_type": "markdown",
   "metadata": {},
   "source": [
    "The coordinate $c_1$"
   ]
  },
  {
   "cell_type": "code",
   "execution_count": 49,
   "metadata": {},
   "outputs": [
    {
     "data": {
      "text/plain": [
       "['0xc0505f4c260e91f4',\n",
       " '0xe7bbd15f10723657',\n",
       " '0xb4b3e0c35358097e',\n",
       " '0x87c56f42a558750d',\n",
       " '0x4b7211d23f34f0ae',\n",
       " '0xf6839d29e2f0d250',\n",
       " '0x16ebe8b2e12a1106']"
      ]
     },
     "execution_count": 49,
     "metadata": {},
     "output_type": "execute_result"
    }
   ],
   "source": [
    "u_64_little_endian(65079093581113076137070936836706683307023886770993453415929204320012344240499906559031972253911619563827341548210931723067336455786996)"
   ]
  },
  {
   "cell_type": "markdown",
   "metadata": {},
   "source": [
    "The order of $\\xi$ is exactly $p^2 - 1$, thus $\\xi^{(p^2 - 1)/2} = 1$. This fact is used in $y$ coordinate of \n",
    "the point $ -Q_2 = - \\pi^2(Q)$."
   ]
  },
  {
   "cell_type": "code",
   "execution_count": 50,
   "metadata": {},
   "outputs": [
    {
     "data": {
      "text/plain": [
       "True"
      ]
     },
     "execution_count": 50,
     "metadata": {},
     "output_type": "execute_result"
    }
   ],
   "source": [
    "xi**((p**2 - 1)/2) == -1"
   ]
  },
  {
   "cell_type": "markdown",
   "metadata": {},
   "source": [
    "Rationale of These Constants: \\\n",
    "These constants are used for computing $Q_1 = \\pi(Q)$ and $Q_2 = \\pi^2(Q)$.\\\n",
    "Recall in the implementation, $Q \\in G_2$  as an affine point in twisted curve $E'(\\mathbb{F}_{p^2})$. Suppose $Q = (x, y) \\in E'(\\mathbb{F}_{p^2})$, then\n",
    "$$\\Phi^{-1}: E' \\longrightarrow E: (x, y) \\mapsto (x \\cdot \\xi^{1/3}, y \\cdot \\xi^{1/2})$$\n",
    "gives preimage of $Q$ in $E(\\mathbb{F}_{p^{12}})$\n",
    "$$(x \\cdot \\xi^{1/3}, y \\cdot \\xi^{1/2})$$\n",
    "We then apply Frobenius in $E(\\mathbb{F}_{p^{12}})$ as usual and map back to the twisted curve $E'(\\mathbb{F}_{p^2})$:\n",
    "$$E(\\mathbb{F}_{p^{12}}) \\xrightarrow{\\pi} E(\\mathbb{F}_{p^{12}}) \\xrightarrow{\\Phi^{-1}} E'(\\mathbb{F}_{p^{2}})$$\n",
    "$$(x \\cdot \\xi^{1/3}, y \\cdot \\xi^{1/2}) \\mapsto (\\overline{x} \\cdot \\xi^{p/3}, \\overline{y} \\cdot \\xi^{p/2}) \\mapsto (\\overline{x} \\cdot \\xi^{(p-1)/3}, \\overline{y} \\cdot \\xi^{(p-1)/2})$$\n",
    "So $Q_1 = (\\overline{x} \\cdot \\xi^{(p-1)/3}, \\overline{y} \\cdot \\xi^{(p-1)/2})$, justified by: https://github.com/privacy-scaling-explorations/halo2curves/blob/main/src/pluto_eris/engine.rs#L461-L467"
   ]
  },
  {
   "cell_type": "markdown",
   "metadata": {},
   "source": [
    "### 6. The group of the curve Pluto"
   ]
  },
  {
   "cell_type": "markdown",
   "metadata": {},
   "source": [
    "The equation of Pluto:\n",
    "$$E / \\mathbb{F}_{p}: y^2 = x^3 + 57$$"
   ]
  },
  {
   "cell_type": "code",
   "execution_count": 51,
   "metadata": {},
   "outputs": [
    {
     "data": {
      "text/plain": [
       "Elliptic Curve defined by y^2 = x^3 + 57 over Finite Field of size 102211695604070082112571065507755096754575920209623522239390234855490679834276115250716018318118556227909439196474813090886893187366913"
      ]
     },
     "execution_count": 51,
     "metadata": {},
     "output_type": "execute_result"
    }
   ],
   "source": [
    "E = EllipticCurve(Fp, [0, 57])\n",
    "E"
   ]
  },
  {
   "cell_type": "markdown",
   "metadata": {},
   "source": [
    "The order of the group $E(\\mathbb{F}_{p})$ is $q$ which is prime, thus the group is cyclic and $E(\\mathbb{F}_{p}) = \\mathbb{G}_{1}$"
   ]
  },
  {
   "cell_type": "code",
   "execution_count": 52,
   "metadata": {},
   "outputs": [
    {
     "data": {
      "text/plain": [
       "True"
      ]
     },
     "execution_count": 52,
     "metadata": {},
     "output_type": "execute_result"
    }
   ],
   "source": [
    "E.cardinality() == q"
   ]
  },
  {
   "cell_type": "code",
   "execution_count": 53,
   "metadata": {},
   "outputs": [
    {
     "data": {
      "text/plain": [
       "Additive abelian group isomorphic to Z/102211695604070082112571065507755096754575920209623522239390234855480569854275933742834077002685857629445612735086326265689167708028929 embedded in Abelian group of points on Elliptic Curve defined by y^2 = x^3 + 57 over Finite Field of size 102211695604070082112571065507755096754575920209623522239390234855490679834276115250716018318118556227909439196474813090886893187366913"
      ]
     },
     "execution_count": 53,
     "metadata": {},
     "output_type": "execute_result"
    }
   ],
   "source": [
    "E.abelian_group()"
   ]
  },
  {
   "cell_type": "markdown",
   "metadata": {},
   "source": [
    "We take the generator of $\\mathbb{G}_{1}$ as $(-2, 7)$, as fixed in Daira's repo"
   ]
  },
  {
   "cell_type": "code",
   "execution_count": 54,
   "metadata": {},
   "outputs": [
    {
     "data": {
      "text/plain": [
       "True"
      ]
     },
     "execution_count": 54,
     "metadata": {},
     "output_type": "execute_result"
    }
   ],
   "source": [
    "G1_GENERATOR_X = Fp(-2)\n",
    "G1_GENERATOR_Y = Fp(7)\n",
    "G1_GENERATOR = E(G1_GENERATOR_X, G1_GENERATOR_Y)\n",
    "G1_GENERATOR.order() == q"
   ]
  },
  {
   "cell_type": "code",
   "execution_count": 55,
   "metadata": {},
   "outputs": [
    {
     "data": {
      "text/plain": [
       "102211695604070082112571065507755096754575920209623522239390234855490679834276115250716018318118556227909439196474813090886893187366911"
      ]
     },
     "execution_count": 55,
     "metadata": {},
     "output_type": "execute_result"
    }
   ],
   "source": [
    "G1_GENERATOR_X"
   ]
  },
  {
   "cell_type": "markdown",
   "metadata": {},
   "source": [
    "We test the values with the ones given in the repo: https://github.com/daira/pluto-eris"
   ]
  },
  {
   "cell_type": "code",
   "execution_count": 56,
   "metadata": {},
   "outputs": [
    {
     "data": {
      "text/plain": [
       "True"
      ]
     },
     "execution_count": 56,
     "metadata": {},
     "output_type": "execute_result"
    }
   ],
   "source": [
    "u_64_little_endian(p) == [\n",
    "    '0x9ffffcd300000001',\n",
    "    '0xa2a7e8c30006b945',\n",
    "    '0xe4a7a5fe8fadffd6',\n",
    "    '0x443f9a5cda8a6c7b',\n",
    "    '0xa803ca76f439266f',\n",
    "    '0x0130e0000d7f70e4',\n",
    "    '0x2400000000002400',\n",
    "]"
   ]
  },
  {
   "cell_type": "code",
   "execution_count": 57,
   "metadata": {},
   "outputs": [
    {
     "data": {
      "text/plain": [
       "['0x9ffffcd2ffffffff',\n",
       " '0xa2a7e8c30006b945',\n",
       " '0xe4a7a5fe8fadffd6',\n",
       " '0x443f9a5cda8a6c7b',\n",
       " '0xa803ca76f439266f',\n",
       " '0x0130e0000d7f70e4',\n",
       " '0x2400000000002400']"
      ]
     },
     "execution_count": 57,
     "metadata": {},
     "output_type": "execute_result"
    }
   ],
   "source": [
    "u_64_little_endian(Integer(G1_GENERATOR_X))"
   ]
  },
  {
   "cell_type": "code",
   "execution_count": 58,
   "metadata": {},
   "outputs": [
    {
     "data": {
      "text/plain": [
       "['0x0000000000000007',\n",
       " '0x0000000000000000',\n",
       " '0x0000000000000000',\n",
       " '0x0000000000000000',\n",
       " '0x0000000000000000',\n",
       " '0x0000000000000000',\n",
       " '0x0000000000000000']"
      ]
     },
     "execution_count": 58,
     "metadata": {},
     "output_type": "execute_result"
    }
   ],
   "source": [
    "u_64_little_endian(Integer(G1_GENERATOR_Y))"
   ]
  },
  {
   "cell_type": "markdown",
   "metadata": {},
   "source": [
    "The twist curve Triton, i.e $\\mathbb{G}_2$, defined by\n",
    "$$E_{2} / \\mathbb{F}_{p^{2}}: y^{2} = x^{3} + (u + 3)$$ \n",
    "where $\\mathbb{F}_{p^2} = \\mathbb{F}_{p}[u]$ such that $u^2 + 5 = 0$."
   ]
  },
  {
   "cell_type": "code",
   "execution_count": 59,
   "metadata": {},
   "outputs": [
    {
     "data": {
      "text/plain": [
       "Elliptic Curve defined by y^2 = x^3 + (u+3) over Finite Field in u of size 102211695604070082112571065507755096754575920209623522239390234855490679834276115250716018318118556227909439196474813090886893187366913^2"
      ]
     },
     "execution_count": 59,
     "metadata": {},
     "output_type": "execute_result"
    }
   ],
   "source": [
    "E2 = EllipticCurve(Fp2, [0, u + 3])\n",
    "E2"
   ]
  },
  {
   "cell_type": "markdown",
   "metadata": {},
   "source": [
    "The order of the group $\\mathbb{G}_2 = E_{2}(\\mathbb{F}_{p^{2}})$ is $q (2 p - q)$ as showed in the repo https://github.com/daira/pluto-eris, \n",
    "we know this group is also cyclic based on elliptic curves theory"
   ]
  },
  {
   "cell_type": "code",
   "execution_count": 60,
   "metadata": {},
   "outputs": [
    {
     "data": {
      "text/plain": [
       "True"
      ]
     },
     "execution_count": 60,
     "metadata": {},
     "output_type": "execute_result"
    }
   ],
   "source": [
    "E2.cardinality() == q * (2 * p - q)"
   ]
  },
  {
   "cell_type": "markdown",
   "metadata": {},
   "source": [
    "We take a random point $P$ in $E_{2}(\\mathbb{F}_{p^{2}})$, its order is very probably $q(2p - q)$, \\\n",
    "then we only need to take the generator of $\\mathbb{G}_{2}$ as $Q = (2p - q) \\cdot P$ whose order is thus $q$ as required"
   ]
  },
  {
   "cell_type": "code",
   "execution_count": 61,
   "metadata": {},
   "outputs": [
    {
     "data": {
      "text/plain": [
       "(73825144661657802320622230235198938990499597858335392319575549414437389618818590520326285321360920202797735030655909561889777699859203*u + 71734302620089618492699913728937268183797385533150575889378098330781954797102305587510777407800704588982064101415828137491262185115028 : 98071031875237312442546746862775115431449232820321509333598658952664126924349333079397199359138721588981040507328584731002107992741432*u + 38777463725275824700618213641456882570018733940119470655919893307532794266845691064759257478242590798775325761756453196673183479571667 : 1)"
      ]
     },
     "execution_count": 61,
     "metadata": {},
     "output_type": "execute_result"
    }
   ],
   "source": [
    "G2_GENERATOR = E2(73825144661657802320622230235198938990499597858335392319575549414437389618818590520326285321360920202797735030655909561889777699859203*u + 71734302620089618492699913728937268183797385533150575889378098330781954797102305587510777407800704588982064101415828137491262185115028, 98071031875237312442546746862775115431449232820321509333598658952664126924349333079397199359138721588981040507328584731002107992741432*u + 38777463725275824700618213641456882570018733940119470655919893307532794266845691064759257478242590798775325761756453196673183479571667)\n",
    "G2_GENERATOR"
   ]
  },
  {
   "cell_type": "code",
   "execution_count": 62,
   "metadata": {},
   "outputs": [
    {
     "data": {
      "text/plain": [
       "(0 : 1 : 0)"
      ]
     },
     "execution_count": 62,
     "metadata": {},
     "output_type": "execute_result"
    }
   ],
   "source": [
    "# its order is indeed q\n",
    "q * G2_GENERATOR"
   ]
  },
  {
   "cell_type": "code",
   "execution_count": 63,
   "metadata": {},
   "outputs": [],
   "source": [
    "# extract the coordinates of the generator g2, each of which is in Fp2\n",
    "(G2_GENERATOR_X, G2_GENERATOR_Y) = G2_GENERATOR.xy()"
   ]
  },
  {
   "cell_type": "code",
   "execution_count": 64,
   "metadata": {},
   "outputs": [
    {
     "data": {
      "text/plain": [
       "[71734302620089618492699913728937268183797385533150575889378098330781954797102305587510777407800704588982064101415828137491262185115028,\n",
       " 73825144661657802320622230235198938990499597858335392319575549414437389618818590520326285321360920202797735030655909561889777699859203]"
      ]
     },
     "execution_count": 64,
     "metadata": {},
     "output_type": "execute_result"
    }
   ],
   "source": [
    "# Output (c0, c1) = x in Fp2 for the generator g2 = (x, y) in Fp2 * Fp2\n",
    "G2_GENERATOR_X.list()\n"
   ]
  },
  {
   "cell_type": "code",
   "execution_count": 65,
   "metadata": {},
   "outputs": [
    {
     "data": {
      "text/plain": [
       "(445, 445)"
      ]
     },
     "execution_count": 65,
     "metadata": {},
     "output_type": "execute_result"
    }
   ],
   "source": [
    "# bit lengths of the coordinates of g2.x\n",
    "G2_GENERATOR_X_0 = G2_GENERATOR_X.list()[0]\n",
    "G2_GENERATOR_X_1 = G2_GENERATOR_X.list()[1]\n",
    "(Integer(G2_GENERATOR_X_0).bit_length(), Integer(G2_GENERATOR_X_1).bit_length())"
   ]
  },
  {
   "cell_type": "code",
   "execution_count": 66,
   "metadata": {},
   "outputs": [
    {
     "data": {
      "text/plain": [
       "['0x64df94ec64138d94',\n",
       " '0x9c1b62269cfa10e4',\n",
       " '0x3886dca44a7f6c19',\n",
       " '0x9b02208cfd650e17',\n",
       " '0x052896a707cf8947',\n",
       " '0xa9490edfe7707f05',\n",
       " '0x1943fb34a457551b']"
      ]
     },
     "execution_count": 66,
     "metadata": {},
     "output_type": "execute_result"
    }
   ],
   "source": [
    "u_64_little_endian(Integer(G2_GENERATOR_X_0))"
   ]
  },
  {
   "cell_type": "code",
   "execution_count": 67,
   "metadata": {},
   "outputs": [
    {
     "data": {
      "text/plain": [
       "['0xb1bd9958ca2d2b03',\n",
       " '0xf34dd1eb12904ef0',\n",
       " '0xfe10783b9106e92f',\n",
       " '0x343fc095636c8117',\n",
       " '0x8fc4095ab8d5f6c0',\n",
       " '0x93454f05c55110e5',\n",
       " '0x1a0080f48de3bb46']"
      ]
     },
     "execution_count": 67,
     "metadata": {},
     "output_type": "execute_result"
    }
   ],
   "source": [
    "u_64_little_endian(Integer(G2_GENERATOR_X_1))"
   ]
  },
  {
   "cell_type": "code",
   "execution_count": 68,
   "metadata": {},
   "outputs": [
    {
     "data": {
      "text/plain": [
       "(444, 446)"
      ]
     },
     "execution_count": 68,
     "metadata": {},
     "output_type": "execute_result"
    }
   ],
   "source": [
    "# bit lengths of the coordinates of g2.y\n",
    "G2_GENERATOR_Y_0 = G2_GENERATOR_Y.list()[0]\n",
    "G2_GENERATOR_Y_1 = G2_GENERATOR_Y.list()[1]\n",
    "(Integer(G2_GENERATOR_Y_0).bit_length(), Integer(G2_GENERATOR_Y_1).bit_length())"
   ]
  },
  {
   "cell_type": "code",
   "execution_count": 69,
   "metadata": {},
   "outputs": [
    {
     "data": {
      "text/plain": [
       "['0x1a40ea5e6b9924d3',\n",
       " '0xe7ad21b3504fc522',\n",
       " '0x54293e270ef1d75d',\n",
       " '0x5796b6e18f6c5e39',\n",
       " '0x20540d68e5e7cafe',\n",
       " '0xc72900d3c580b99b',\n",
       " '0x0da866bbcb2696a5']"
      ]
     },
     "execution_count": 69,
     "metadata": {},
     "output_type": "execute_result"
    }
   ],
   "source": [
    "u_64_little_endian(Integer(G2_GENERATOR_Y_0))\n"
   ]
  },
  {
   "cell_type": "code",
   "execution_count": 70,
   "metadata": {},
   "outputs": [
    {
     "data": {
      "text/plain": [
       "['0xcf3ae4b7c5181638',\n",
       " '0x0fd1fedc66c1f210',\n",
       " '0xaa33870a9e316d6f',\n",
       " '0xc844de8ce3795939',\n",
       " '0x2068f65c6ea24746',\n",
       " '0xe282c87cb0420ae1',\n",
       " '0x228aa759cf616115']"
      ]
     },
     "execution_count": 70,
     "metadata": {},
     "output_type": "execute_result"
    }
   ],
   "source": [
    "u_64_little_endian(Integer(G2_GENERATOR_Y_1))"
   ]
  },
  {
   "cell_type": "markdown",
   "metadata": {},
   "source": [
    "### 6. The constants in Endoscaling"
   ]
  },
  {
   "cell_type": "markdown",
   "metadata": {},
   "source": [
    "$\\zeta_{p}$ is one of the two $3nd$ primitive roots of unity in $\\mathbb{F}_{p}$, the other one is $\\zeta_{p}^{2}$."
   ]
  },
  {
   "cell_type": "code",
   "execution_count": 71,
   "metadata": {},
   "outputs": [
    {
     "data": {
      "text/plain": [
       "39370513046094319542878173447389497729725081225711316008956793976697167703016365005507455943322894334"
      ]
     },
     "execution_count": 71,
     "metadata": {},
     "output_type": "execute_result"
    }
   ],
   "source": [
    "zetap = Fp.zeta(3)\n",
    "zetap"
   ]
  },
  {
   "cell_type": "markdown",
   "metadata": {},
   "source": [
    "$\\zeta_{q}$ is one of the two $3nd$ primitive roots of unity in $\\mathbb{F}_{q}$, the other one is $\\zeta_{q}^{2}$.\n"
   ]
  },
  {
   "cell_type": "code",
   "execution_count": 72,
   "metadata": {},
   "outputs": [
    {
     "data": {
      "text/plain": [
       "102211695604070082112571065507755018013549828020984436483043340076454780464112937796556235142799808455295617893795351495840632510873602"
      ]
     },
     "execution_count": 72,
     "metadata": {},
     "output_type": "execute_result"
    }
   ],
   "source": [
    "zetaq = Fq.zeta(3)\n",
    "zetaq"
   ]
  },
  {
   "cell_type": "markdown",
   "metadata": {},
   "source": [
    "The endomorphism of $E/\\mathbb{F}_{p}$ defined by:\n",
    "$$(x, y) \\mapsto (\\zeta x, y)$$\n",
    "where $\\zeta$ is a primitive $3rd$ root"
   ]
  },
  {
   "cell_type": "code",
   "execution_count": 73,
   "metadata": {},
   "outputs": [],
   "source": [
    "def endo (E, zeta, P):\n",
    "    (xp, yp) = P.xy()\n",
    "    return E(zeta * xp, yp)"
   ]
  },
  {
   "cell_type": "markdown",
   "metadata": {},
   "source": [
    "We know \n",
    "$$(\\zeta_{p} x, y) = [\\zeta_{q}] (x, y)$$\n",
    "but we should find the right $\\zeta_{p}$ which maybe $\\zeta_{p}$ or $\\zeta_{p}^2$, the same applies to $\\zeta_{q}$"
   ]
  },
  {
   "cell_type": "code",
   "execution_count": 74,
   "metadata": {},
   "outputs": [
    {
     "name": "stdout",
     "output_type": "stream",
     "text": [
      "2nd trial\n"
     ]
    },
    {
     "data": {
      "text/plain": [
       "(39370513046094319542878173447389497729725081225711316008956793976697167703016365005507455943322894334,\n",
       " 78741026092188639085756346894779025789390162995946277841859886049174149994841290974769848535197155326)"
      ]
     },
     "execution_count": 74,
     "metadata": {},
     "output_type": "execute_result"
    }
   ],
   "source": [
    "zP = endo(E, zetap, G1_GENERATOR)\n",
    "if zP == int(zetaq)*G1_GENERATOR:\n",
    "    print(\"1st trial\")\n",
    "else:\n",
    "    zetaq = zetaq^2\n",
    "    if zP == int(zetaq)*G1_GENERATOR: \n",
    "        print(\"2nd trial\")\n",
    "    else: \n",
    "        zetap = zetap^2\n",
    "        zP = endo(E, zetap, G1_GENERATOR)\n",
    "        if zP == int(zetaq)*G1_GENERATOR:\n",
    "            print(\"3nd trial\")\n",
    "        else:\n",
    "            zetaq = zetaq^2\n",
    "            assert zP == int(zetaq)*G1_GENERATOR\n",
    "            print(\"4th trial\")\n",
    "(zetap, zetaq)"
   ]
  },
  {
   "cell_type": "markdown",
   "metadata": {},
   "source": [
    "The bit lengths of $\\zeta_{p}$ and $\\zeta_{q}$ are exactly as mentioned in the Pluto/Eris repo"
   ]
  },
  {
   "cell_type": "code",
   "execution_count": 75,
   "metadata": {},
   "outputs": [
    {
     "data": {
      "text/plain": [
       "(335, 336)"
      ]
     },
     "execution_count": 75,
     "metadata": {},
     "output_type": "execute_result"
    }
   ],
   "source": [
    "(Integer(zetap).bit_length(), Integer(zetaq).bit_length())"
   ]
  },
  {
   "cell_type": "markdown",
   "metadata": {},
   "source": [
    "### 7. The constants in GLV method"
   ]
  },
  {
   "cell_type": "markdown",
   "metadata": {},
   "source": [
    "We follow the method mentioned in:\n",
    "https://hackmd.io/@drouyang/glv\n",
    "and the paper:\n",
    "https://www.iacr.org/archive/crypto2001/21390189.pdf"
   ]
  },
  {
   "cell_type": "markdown",
   "metadata": {},
   "source": [
    "Given two integers $n$ and $\\lambda$, GLV method outputs two short vectors $v_1 = (a_1, b_1), v_2 = (a_2, b_2)$ such that \n",
    "$$ a_1 + b_1 \\lambda = 0\\mod n $$\n",
    "$$ a_2 + b_2 \\lambda = 0\\mod n $$"
   ]
  },
  {
   "cell_type": "code",
   "execution_count": 76,
   "metadata": {},
   "outputs": [],
   "source": [
    "def ext_euclidean(a, b):\n",
    "    assert a <= b\n",
    "    sqr_b = sqrt(b)\n",
    "    u = a\n",
    "    v = b\n",
    "    x1 = 1\n",
    "    y1 = 0\n",
    "    x2 = 0\n",
    "    y2 = 1\n",
    "\n",
    "    X = []\n",
    "    Y = []\n",
    "    R = []\n",
    "\n",
    "    flag = -1\n",
    "    i = -1\n",
    "    while not u == 0:\n",
    "        q = v // u\n",
    "        r = v - q * u\n",
    "        if flag == -1:\n",
    "            if r < sqr_b:\n",
    "                flag = i # exactly the largest index i such that R[i] >= sqrt_b\n",
    "        i = i + 1\n",
    "        R.append(r)  # R[i] = r\n",
    "        x = x2 - q * x1\n",
    "        X.append(x)\n",
    "        y = y2 - q * y1  # ax + by = d\n",
    "        Y.append(y)\n",
    "        v = u\n",
    "        u = r\n",
    "        x2 = x1\n",
    "        x1 = x\n",
    "        y2 = y1\n",
    "        y1 = y\n",
    "    \n",
    "    d = v\n",
    "    x = x2\n",
    "    y = y2\n",
    "    X.append(x)\n",
    "    Y.append(y)\n",
    "    R.append(0)\n",
    "\n",
    "    # ((r_l, t_l), (r_l_1, t_l_1), (r_l_2, t_l_2))\n",
    "    return ((R[flag], X[flag]), (R[flag + 1], X[flag + 1]), (R[flag + 2], X[flag + 2]))  \n",
    "\n",
    "def GLV(scalar, n):\n",
    "    ((r_l, t_l), (r_l_1, t_l_1), (r_l_2, t_l_2)) = ext_euclidean(scalar, n)\n",
    "    b_1 = t_l_1  # to be consistent with the repo, here we indeed assign -b_1 for the coordinate b1 of v1\n",
    "    a_1 = r_l_1\n",
    "    if (r_l^2 + t_l^2) <= (r_l_2^2 + t_l_2^2):\n",
    "        b_2 = -t_l\n",
    "        a_2 = r_l\n",
    "    else:\n",
    "        b_2 = -t_l_2\n",
    "        a_2 = r_l_2\n",
    "\n",
    "    return ((a_1, b_1), (a_2, b_2))  # thus the two short vectors: v_1 = (a_1, -b_1) and v_2 = (a_2, b_2)\n",
    "    "
   ]
  },
  {
   "cell_type": "code",
   "execution_count": 77,
   "metadata": {},
   "outputs": [
    {
     "data": {
      "text/plain": [
       "True"
      ]
     },
     "execution_count": 77,
     "metadata": {},
     "output_type": "execute_result"
    }
   ],
   "source": [
    "# the scalar takes the 3rd primitive root of Fq\n",
    "scalar = int(zetaq)\n",
    "n = q\n",
    "scalar <= n"
   ]
  },
  {
   "cell_type": "code",
   "execution_count": 78,
   "metadata": {},
   "outputs": [
    {
     "data": {
      "text/plain": [
       "(['0x3ffffde200000001',\n",
       "  '0x05ff0065a001ae51',\n",
       "  '0x0000300001968000',\n",
       "  '0x0000000060000000',\n",
       "  '0x0000000000000000',\n",
       "  '0x0000000000000000',\n",
       "  '0x0000000000000000'],\n",
       " ['0x2000010effffffff',\n",
       "  '0x0000800000000000',\n",
       "  '0x0000000000000000',\n",
       "  '0x0000000000000000',\n",
       "  '0x0000000000000000',\n",
       "  '0x0000000000000000',\n",
       "  '0x0000000000000000'])"
      ]
     },
     "execution_count": 78,
     "metadata": {},
     "output_type": "execute_result"
    }
   ],
   "source": [
    "# output the two short vectors v1, v2\n",
    "((a1, b1), (a2, b2)) = GLV(scalar, n)\n",
    "(u_64_little_endian(b1), u_64_little_endian(b2))"
   ]
  },
  {
   "cell_type": "markdown",
   "metadata": {},
   "source": [
    "Compute $\\gamma_1 = \\lfloor -b_1 \\cdot 2^{256} / r \\rceil$, as $ -b_1 / r < 1$. Recall the variable $b_1$ in the code represents $-b_1$ for the coordinate $b_1$ of $v_1$. \\\n",
    "And $\\gamma_2 = \\lfloor b_2 \\cdot 2^{256} / r \\rceil$, where $b_2$ is the coordinate of $v_2$. \\\n",
    "Their counterpart of BN256  can be referred to: https://github.com/privacy-scaling-explorations/halo2curves/blob/6abfdbb0eefd476864e1ed91d32ab84c7b36c203/src/bn256/curve.rs#L127-L130 \\ \n",
    "Note the comment in the repo is not correct."
   ]
  },
  {
   "cell_type": "code",
   "execution_count": 79,
   "metadata": {},
   "outputs": [
    {
     "data": {
      "text/plain": [
       "['0xdf52222a6a19d56d',\n",
       " '0x2aae415b8e5c9500',\n",
       " '0xaaa955554a0aaaab',\n",
       " '0x00000002aaaaaaaa',\n",
       " '0x0000000000000000',\n",
       " '0x0000000000000000',\n",
       " '0x0000000000000000']"
      ]
     },
     "execution_count": 79,
     "metadata": {},
     "output_type": "execute_result"
    }
   ],
   "source": [
    "gamma1 = round(b1 * 2^448 / q )\n",
    "u_64_little_endian(gamma1)"
   ]
  },
  {
   "cell_type": "code",
   "execution_count": 80,
   "metadata": {},
   "outputs": [
    {
     "data": {
      "text/plain": [
       "['0xe38e224e38e4e395',\n",
       " '0x00038e38e38e38e0',\n",
       " '0x0000000000000000',\n",
       " '0x0000000000000000',\n",
       " '0x0000000000000000',\n",
       " '0x0000000000000000',\n",
       " '0x0000000000000000']"
      ]
     },
     "execution_count": 80,
     "metadata": {},
     "output_type": "execute_result"
    }
   ],
   "source": [
    "gamma2 = round(b2 * 2^448 / q )\n",
    "u_64_little_endian(gamma2)"
   ]
  },
  {
   "cell_type": "markdown",
   "metadata": {},
   "source": [
    "Consequently, given an arbitrary scalar $k$, we use GLV method to decompose: \\\n",
    "$k = k_1 + k_2 \\times \\zeta$\n",
    "where $k_1, k_2$ are almost the half bit length of $k$ (recall $k$ with $446$ bits)"
   ]
  },
  {
   "cell_type": "markdown",
   "metadata": {},
   "source": [
    "To make consistent with Algo 3.74 in https://hackmd.io/@drouyang/glv, we have to clarify the code above each line in the notations used in Algo 3.74."
   ]
  },
  {
   "cell_type": "code",
   "execution_count": 81,
   "metadata": {},
   "outputs": [],
   "source": [
    "def decompose(k):\n",
    "    c1_ = gamma2 * k\n",
    "    c2_ = gamma1 * k\n",
    "    # round(b2 * k / n)\n",
    "    c1 = c1_ >> 448\n",
    "    # round(-b1 * k / n)\n",
    "    c2 = c2_ >> 448\n",
    "    # c1 * -b1\n",
    "    q1 = c1 * b1\n",
    "    # c2 * b2\n",
    "    q2 = c2 * b2\n",
    "    # -c1 * b1 - c2 * b2\n",
    "    k2 = q1 - q2\n",
    "    # k - c1 * a1 - c2 * a2\n",
    "    k1 = k - c1 * a1 - c2 * a2\n",
    "    # the correctness of GLV involves the following constraints about bit lengths and identity\n",
    "    return (k1.bit_length()<=224 and k2.bit_length() <=224 and Fq(k) == Fq(k1 + k2 * int(zetaq)))    "
   ]
  },
  {
   "cell_type": "markdown",
   "metadata": {},
   "source": [
    "We use a simple test for 1000 random scalar values:"
   ]
  },
  {
   "cell_type": "code",
   "execution_count": 82,
   "metadata": {},
   "outputs": [
    {
     "name": "stdout",
     "output_type": "stream",
     "text": [
      "pass\n"
     ]
    }
   ],
   "source": [
    "for i in range(1000):\n",
    "    k = int(Fq.random_element())\n",
    "    if decompose(k) == False:\n",
    "        print(\"the algorithm is broken\")\n",
    "        break\n",
    "print(\"pass\")"
   ]
  }
 ],
 "metadata": {
  "kernelspec": {
   "display_name": "SageMath 10.0",
   "language": "sage",
   "name": "sagemath"
  },
  "language_info": {
   "codemirror_mode": {
    "name": "ipython",
    "version": 3
   },
   "file_extension": ".py",
   "mimetype": "text/x-python",
   "name": "python",
   "nbconvert_exporter": "python",
   "pygments_lexer": "ipython3",
   "version": "3.11.3"
  }
 },
 "nbformat": 4,
 "nbformat_minor": 2
}
