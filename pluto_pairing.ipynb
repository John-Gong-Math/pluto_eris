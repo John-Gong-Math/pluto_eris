{
 "cells": [
  {
   "cell_type": "markdown",
   "metadata": {},
   "source": [
    "## Constants in Pluto\n",
    "\n",
    "repo: https://github.com/privacy-scaling-explorations/halo2curves/tree/main/src/pluto_eris , https://github.com/daira/pluto-eris \\\n",
    "paper: https://eprint.iacr.org/2010/354.pdf"
   ]
  },
  {
   "cell_type": "markdown",
   "metadata": {},
   "source": [
    "Given an integer $n < 2^{448}$, return its 7 limbs where the first limb is the least significant one.\\\n",
    "Each limb is 64 bits long in big endian."
   ]
  },
  {
   "cell_type": "code",
   "execution_count": 15,
   "metadata": {},
   "outputs": [],
   "source": [
    "def u_64_little_endian(n):\n",
    "    str_hex = hex(n)\n",
    "    str_hex_without_0x = str_hex[2:]\n",
    "    full_width_str = '0' * (112 - len(str_hex_without_0x)) + str_hex_without_0x\n",
    "    assert len(full_width_str) == 112\n",
    "\n",
    "    res = []\n",
    "    for i in range(7):\n",
    "        temp = '0x' + full_width_str[112 - 16 * (i + 1) : 112 - 16 * i]\n",
    "        res.append(temp)\n",
    "    return res"
   ]
  },
  {
   "cell_type": "markdown",
   "metadata": {},
   "source": [
    "Convert a given integer into its little endian NAF, to make the Hamming weight minimal, \\\n",
    "in other words, to get out the chunk of power of two as large as possible (the bit may be $-1$):\n",
    "$$x = 2^{n_0} - 2^{n_1} + \\dots$$\n",
    "Definition of NAF: https://en.wikipedia.org/wiki/Non-adjacent_form"
   ]
  },
  {
   "cell_type": "code",
   "execution_count": 16,
   "metadata": {},
   "outputs": [],
   "source": [
    "\n",
    "def naf(n):\n",
    "    bits = []\n",
    "    while n > 0:\n",
    "        if n % 2 == 1:\n",
    "            # If n is odd, set the current digit as 2 - (n mod 4).\n",
    "            digit = 2 - (n % 4)\n",
    "            n -= digit\n",
    "        else:\n",
    "            # If n is even, set the current digit as 0.\n",
    "            digit = 0\n",
    "        bits.append(digit)\n",
    "        n //= 2\n",
    "    return bits\n",
    "\n",
    "# Example usage:\n",
    "# decimal_number = 7\n",
    "# naf = naf(decimal_number)\n",
    "# print(naf): [-1, 0, 0, 1], the binary form is initially [1, 1, 1] = 1 + 2 + 4."
   ]
  },
  {
   "cell_type": "code",
   "execution_count": 17,
   "metadata": {},
   "outputs": [
    {
     "name": "stdout",
     "output_type": "stream",
     "text": [
      "[-1, 0, 0, 1]\n"
     ]
    }
   ],
   "source": [
    "print(naf(7))"
   ]
  },
  {
   "cell_type": "markdown",
   "metadata": {},
   "source": [
    "Given a NAF, output the corresponding minimal Hamming weight representation"
   ]
  },
  {
   "cell_type": "code",
   "execution_count": 18,
   "metadata": {},
   "outputs": [],
   "source": [
    "def low_hamming_rep(naf):\n",
    "    l = len(naf)\n",
    "    value = 0\n",
    "    hamming_bits = {}\n",
    "    for i in range(l):\n",
    "        if naf[i] != 0:\n",
    "            hamming_bits[i] = naf[i]\n",
    "            value = value + naf[i] * 2**i\n",
    "    # sanity check\n",
    "    new_value = 0\n",
    "    for index, bit in hamming_bits.items():\n",
    "        new_value = new_value + bit * 2**index\n",
    "    assert new_value == value, \"the decomposition is not correct\"\n",
    "    return hamming_bits"
   ]
  },
  {
   "cell_type": "code",
   "execution_count": 19,
   "metadata": {},
   "outputs": [
    {
     "name": "stdout",
     "output_type": "stream",
     "text": [
      "{0: -1, 3: 1}\n"
     ]
    }
   ],
   "source": [
    "print(low_hamming_rep(naf(7)))"
   ]
  },
  {
   "cell_type": "markdown",
   "metadata": {},
   "source": [
    "### The Base Field $\\mathbb{F}_p$\n",
    "seed $U = -1298074214633708060054710657220608$ \\\n",
    "the base field size $p = 36 U^4 + 36 U^3 + 24 U^2 + 6 U + 1$ \\\n",
    "we define the constant $NEG\\_U = -U$:"
   ]
  },
  {
   "cell_type": "code",
   "execution_count": 20,
   "metadata": {},
   "outputs": [
    {
     "data": {
      "text/plain": [
       "111"
      ]
     },
     "execution_count": 20,
     "metadata": {},
     "output_type": "execute_result"
    }
   ],
   "source": [
    "U = -1298074214633708060054710657220608\n",
    "NEG_U = -U\n",
    "NEG_U.bit_length()"
   ]
  },
  {
   "cell_type": "code",
   "execution_count": 21,
   "metadata": {},
   "outputs": [
    {
     "data": {
      "text/plain": [
       "'0x4000000000001000008780000000'"
      ]
     },
     "execution_count": 21,
     "metadata": {},
     "output_type": "execute_result"
    }
   ],
   "source": [
    "hex(NEG_U)"
   ]
  },
  {
   "cell_type": "markdown",
   "metadata": {},
   "source": [
    "The minimal Hamming weight representation of $-U$ followed by the next computation:\n",
    "$$-U = 2^{110} + 2^{60} + 2^{39} + 2^{35} - 2^{31}$$"
   ]
  },
  {
   "cell_type": "code",
   "execution_count": 22,
   "metadata": {},
   "outputs": [
    {
     "name": "stdout",
     "output_type": "stream",
     "text": [
      "{31: -1, 35: 1, 39: 1, 60: 1, 110: 1}\n"
     ]
    }
   ],
   "source": [
    "print(low_hamming_rep(naf(NEG_U)))"
   ]
  },
  {
   "cell_type": "markdown",
   "metadata": {},
   "source": [
    "As the base field size $p = 36 U^4 + 36 U^3 + 24 U^2 + 6 U + 1$ \\\n",
    "we compute the minimal Hamming weight representation of $p$ using symbolic computation:"
   ]
  },
  {
   "cell_type": "code",
   "execution_count": 23,
   "metadata": {},
   "outputs": [
    {
     "data": {
      "text/plain": [
       "9*t^442 + 36*t^392 + 36*t^371 + 36*t^367 - 36*t^363 + 54*t^342 - 9*t^332 + 108*t^321 + 108*t^317 - 108*t^313 + 54*t^300 + 108*t^296 - 18*t^292 - 108*t^288 + 54*t^284 - 27*t^282 + 108*t^271 + 108*t^267 - 108*t^263 - 27*t^261 - 27*t^257 + 27*t^253 + 108*t^250 + 216*t^246 - 99*t^242 - 216*t^238 + 108*t^234 - 27*t^232 + 36*t^229 + 108*t^225 + 3*t^223 + 36*t^221 - 144*t^217 - 36*t^213 - 54*t^211 + 108*t^209 - 54*t^207 - 36*t^205 + 54*t^203 + 54*t^200 + 108*t^196 - 54*t^192 - 27*t^190 - 108*t^188 - 54*t^186 + 54*t^184 + 18*t^182 + 36*t^179 + 54*t^178 + 108*t^175 - 27*t^174 + 6*t^173 - 180*t^167 - 27*t^161 + 108*t^159 + 9*t^158 - 27*t^157 - 36*t^155 + 36*t^154 + 27*t^153 + 6*t^152 + 18*t^150 + 6*t^148 - 72*t^146 - 6*t^144 - 45*t^142 - 27*t^140 + 72*t^138 - 54*t^136 + 18*t^134 + 27*t^132 - 36*t^130 + 54*t^128 + 9*t^126 - 27*t^124 + 3*t^123 - 9*t^119 - 27*t^115 - 3*t^111 + 45*t^107 + 6*t^102 - 27*t^99 + 6*t^98 + 9*t^95 - 6*t^94 + 3*t^81 + 6*t^77 - 3*t^73 - 6*t^69 + 3*t^65 - 3*t^61 - 3*t^40 - 3*t^36 + 3*t^32 + 1"
      ]
     },
     "execution_count": 23,
     "metadata": {},
     "output_type": "execute_result"
    }
   ],
   "source": [
    "R_over_q = PolynomialRing(QQ, 't')  # 't' stands for two\n",
    "t = R_over_q.gen() # Don't forget to explicit the generator of ring\n",
    "poly_U = -(t^(110) + t^(60) + t^(39) + t^(35) - t^(31))\n",
    "# p = 9 * 2^2 * U^4 + 9 * 2^2 * U^3 + 3 * 2^3 * U^2 + 3 * 2^1 * U + 1\n",
    "poly_p = 9 * t^2 * poly_U^4 + 9 * t^2 * poly_U^3 + 3 * t^3 * poly_U^2 + 3 * t * poly_U + 1\n",
    "poly_p"
   ]
  },
  {
   "cell_type": "markdown",
   "metadata": {},
   "source": [
    "$p = 9 \\cdot 2^{442} + 9 \\cdot 2^{394} + 9 \\cdot 2^{373} + 9 \\cdot 2^{369} + \\dots $"
   ]
  },
  {
   "cell_type": "markdown",
   "metadata": {},
   "source": [
    "The constant $- (6U + 2)$"
   ]
  },
  {
   "cell_type": "code",
   "execution_count": 24,
   "metadata": {},
   "outputs": [],
   "source": [
    "NEG_SIX_U_PLUS_2 = -(6 * U + 2)"
   ]
  },
  {
   "cell_type": "code",
   "execution_count": 25,
   "metadata": {},
   "outputs": [
    {
     "data": {
      "text/plain": [
       "'0x18000000000006000032cfffffffe'"
      ]
     },
     "execution_count": 25,
     "metadata": {},
     "output_type": "execute_result"
    }
   ],
   "source": [
    "hex(NEG_SIX_U_PLUS_2)"
   ]
  },
  {
   "cell_type": "markdown",
   "metadata": {},
   "source": [
    "$-(6U + 2)$ in little endian the NAF\n",
    "https://github.com/privacy-scaling-explorations/halo2curves/blob/main/src/pluto_eris/engine.rs#L22-L27"
   ]
  },
  {
   "cell_type": "code",
   "execution_count": 26,
   "metadata": {},
   "outputs": [
    {
     "name": "stdout",
     "output_type": "stream",
     "text": [
      "[0, -1, 0, 0, 0, 0, 0, 0, 0, 0, 0, 0, 0, 0, 0, 0, 0, 0, 0, 0, 0, 0, 0, 0, 0, 0, 0, 0, 0, 0, 0, 0, 1, 0, -1, 0, -1, 0, 1, 0, -1, 0, 1, 0, 0, 0, 0, 0, 0, 0, 0, 0, 0, 0, 0, 0, 0, 0, 0, 0, 0, -1, 0, 1, 0, 0, 0, 0, 0, 0, 0, 0, 0, 0, 0, 0, 0, 0, 0, 0, 0, 0, 0, 0, 0, 0, 0, 0, 0, 0, 0, 0, 0, 0, 0, 0, 0, 0, 0, 0, 0, 0, 0, 0, 0, 0, 0, 0, 0, 0, 0, -1, 0, 1]\n"
     ]
    }
   ],
   "source": [
    "print(naf(NEG_SIX_U_PLUS_2))"
   ]
  },
  {
   "cell_type": "markdown",
   "metadata": {},
   "source": [
    "The length of the list used to store NEG_SIX_U_PLUS_2 \\\n",
    "https://github.com/privacy-scaling-explorations/halo2curves/blob/main/src/pluto_eris/engine.rs#L22\n"
   ]
  },
  {
   "cell_type": "code",
   "execution_count": 27,
   "metadata": {},
   "outputs": [
    {
     "data": {
      "text/plain": [
       "114"
      ]
     },
     "execution_count": 27,
     "metadata": {},
     "output_type": "execute_result"
    }
   ],
   "source": [
    "len(naf(NEG_SIX_U_PLUS_2))"
   ]
  },
  {
   "cell_type": "code",
   "execution_count": 28,
   "metadata": {},
   "outputs": [
    {
     "name": "stdout",
     "output_type": "stream",
     "text": [
      "{1: -1, 32: 1, 34: -1, 36: -1, 38: 1, 40: -1, 42: 1, 61: -1, 63: 1, 111: -1, 113: 1}\n"
     ]
    }
   ],
   "source": [
    "print(low_hamming_rep(naf(NEG_SIX_U_PLUS_2)))"
   ]
  },
  {
   "cell_type": "markdown",
   "metadata": {},
   "source": [
    "Due to the existence of $-1$, the length of NAF is bigger than the usual bit length:"
   ]
  },
  {
   "cell_type": "code",
   "execution_count": 29,
   "metadata": {},
   "outputs": [
    {
     "data": {
      "text/plain": [
       "113"
      ]
     },
     "execution_count": 29,
     "metadata": {},
     "output_type": "execute_result"
    }
   ],
   "source": [
    "NEG_SIX_U_PLUS_2.bit_length()"
   ]
  },
  {
   "cell_type": "markdown",
   "metadata": {},
   "source": [
    "the base field prime $p$ in terms of $U$:"
   ]
  },
  {
   "cell_type": "code",
   "execution_count": 30,
   "metadata": {},
   "outputs": [
    {
     "data": {
      "text/plain": [
       "'0x24000000000024000130e0000d7f70e4a803ca76f439266f443f9a5cda8a6c7be4a7a5fe8fadffd6a2a7e8c30006b9459ffffcd300000001'"
      ]
     },
     "execution_count": 30,
     "metadata": {},
     "output_type": "execute_result"
    }
   ],
   "source": [
    "p_int = 36 * U**4 + 36 * U**3 + 24 * U**2 + 6 * U + 1\n",
    "hex(p_int)"
   ]
  },
  {
   "cell_type": "code",
   "execution_count": 31,
   "metadata": {},
   "outputs": [
    {
     "data": {
      "text/plain": [
       "102211695604070082112571065507755096754575920209623522239390234855490679834276115250716018318118556227909439196474813090886893187366913"
      ]
     },
     "execution_count": 31,
     "metadata": {},
     "output_type": "execute_result"
    }
   ],
   "source": [
    "p_int"
   ]
  },
  {
   "cell_type": "code",
   "execution_count": 32,
   "metadata": {},
   "outputs": [
    {
     "data": {
      "text/plain": [
       "446"
      ]
     },
     "execution_count": 32,
     "metadata": {},
     "output_type": "execute_result"
    }
   ],
   "source": [
    "c = 102211695604070082112571065507755096754575920209623522239390234855490679834276115250716018318118556227909439196474813090886893187366913\n",
    "c.bit_length()"
   ]
  },
  {
   "cell_type": "code",
   "execution_count": 33,
   "metadata": {},
   "outputs": [
    {
     "data": {
      "text/plain": [
       "624627028691536808436752742380249437599065440477694538042099964325148608279121808075475032395645009332853082409791364842647708441247743"
      ]
     },
     "execution_count": 33,
     "metadata": {},
     "output_type": "execute_result"
    }
   ],
   "source": [
    "2**448 - p_int"
   ]
  },
  {
   "cell_type": "code",
   "execution_count": 34,
   "metadata": {},
   "outputs": [
    {
     "data": {
      "text/plain": [
       "True"
      ]
     },
     "execution_count": 34,
     "metadata": {},
     "output_type": "execute_result"
    }
   ],
   "source": [
    "p_int == 2**448 - 624627028691536808436752742380249437599065440477694538042099964325148608279121808075475032395645009332853082409791364842647708441247743"
   ]
  },
  {
   "cell_type": "code",
   "execution_count": 35,
   "metadata": {},
   "outputs": [
    {
     "data": {
      "text/plain": [
       "{0: 1,\n",
       " 32: -1,\n",
       " 34: 1,\n",
       " 36: 1,\n",
       " 38: -1,\n",
       " 40: 1,\n",
       " 42: -1,\n",
       " 61: 1,\n",
       " 63: -1,\n",
       " 65: -1,\n",
       " 67: 1,\n",
       " 70: 1,\n",
       " 72: 1,\n",
       " 75: -1,\n",
       " 78: -1,\n",
       " 80: -1,\n",
       " 83: 1,\n",
       " 96: -1,\n",
       " 98: 1,\n",
       " 102: -1,\n",
       " 104: 1,\n",
       " 107: 1,\n",
       " 109: -1,\n",
       " 115: 1,\n",
       " 117: 1,\n",
       " 119: 1,\n",
       " 121: 1,\n",
       " 125: 1,\n",
       " 127: 1,\n",
       " 129: -1,\n",
       " 131: -1,\n",
       " 133: -1,\n",
       " 145: -1,\n",
       " 148: -1,\n",
       " 150: -1,\n",
       " 156: 1,\n",
       " 159: 1,\n",
       " 161: -1,\n",
       " 169: -1,\n",
       " 171: 1,\n",
       " 173: 1,\n",
       " 175: -1,\n",
       " 179: 1,\n",
       " 181: 1,\n",
       " 183: 1,\n",
       " 186: 1,\n",
       " 189: -1,\n",
       " 194: -1,\n",
       " 199: 1,\n",
       " 202: -1,\n",
       " 204: -1,\n",
       " 207: 1,\n",
       " 209: 1,\n",
       " 211: 1,\n",
       " 215: 1,\n",
       " 217: 1,\n",
       " 219: -1,\n",
       " 221: -1,\n",
       " 224: 1,\n",
       " 226: -1,\n",
       " 229: -1,\n",
       " 231: 1,\n",
       " 233: 1,\n",
       " 235: -1,\n",
       " 237: 1,\n",
       " 239: -1,\n",
       " 246: 1,\n",
       " 250: 1,\n",
       " 254: 1,\n",
       " 256: -1,\n",
       " 260: -1,\n",
       " 263: 1,\n",
       " 265: -1,\n",
       " 267: 1,\n",
       " 269: 1,\n",
       " 272: 1,\n",
       " 275: -1,\n",
       " 278: 1,\n",
       " 282: 1,\n",
       " 284: -1,\n",
       " 288: -1,\n",
       " 291: -1,\n",
       " 295: 1,\n",
       " 297: 1,\n",
       " 299: 1,\n",
       " 302: -1,\n",
       " 306: 1,\n",
       " 315: 1,\n",
       " 317: 1,\n",
       " 319: 1,\n",
       " 322: 1,\n",
       " 325: -1,\n",
       " 328: 1,\n",
       " 332: -1,\n",
       " 335: -1,\n",
       " 343: -1,\n",
       " 345: -1,\n",
       " 348: 1,\n",
       " 365: -1,\n",
       " 368: 1,\n",
       " 372: -1,\n",
       " 374: 1,\n",
       " 376: 1,\n",
       " 394: 1,\n",
       " 397: 1,\n",
       " 442: 1,\n",
       " 445: 1}"
      ]
     },
     "execution_count": 35,
     "metadata": {},
     "output_type": "execute_result"
    }
   ],
   "source": [
    "low_hamming_rep(naf(p_int))"
   ]
  },
  {
   "cell_type": "markdown",
   "metadata": {},
   "source": [
    "Check the group order $p-1$ is divisible by $6$ and $4$"
   ]
  },
  {
   "cell_type": "code",
   "execution_count": 36,
   "metadata": {},
   "outputs": [
    {
     "data": {
      "text/plain": [
       "446"
      ]
     },
     "execution_count": 36,
     "metadata": {},
     "output_type": "execute_result"
    }
   ],
   "source": [
    "p_int.bit_length()"
   ]
  },
  {
   "cell_type": "code",
   "execution_count": 37,
   "metadata": {},
   "outputs": [
    {
     "data": {
      "text/plain": [
       "<class 'sage.rings.integer.Integer'>"
      ]
     },
     "execution_count": 37,
     "metadata": {},
     "output_type": "execute_result"
    }
   ],
   "source": [
    "type(p_int)"
   ]
  },
  {
   "cell_type": "code",
   "execution_count": 38,
   "metadata": {},
   "outputs": [
    {
     "data": {
      "text/plain": [
       "True"
      ]
     },
     "execution_count": 38,
     "metadata": {},
     "output_type": "execute_result"
    }
   ],
   "source": [
    "(p_int - 1) % 6 == 0"
   ]
  },
  {
   "cell_type": "code",
   "execution_count": 39,
   "metadata": {},
   "outputs": [
    {
     "data": {
      "text/plain": [
       "True"
      ]
     },
     "execution_count": 39,
     "metadata": {},
     "output_type": "execute_result"
    }
   ],
   "source": [
    "(p_int - 1) % 4 == 0"
   ]
  },
  {
   "cell_type": "markdown",
   "metadata": {},
   "source": [
    "The limbs representation of $p$:\\\n",
    "https://github.com/privacy-scaling-explorations/halo2curves/blob/main/src/pluto_eris/fields/fp.rs#L39-L47"
   ]
  },
  {
   "cell_type": "code",
   "execution_count": 40,
   "metadata": {},
   "outputs": [
    {
     "data": {
      "text/plain": [
       "['0x9ffffcd300000001',\n",
       " '0xa2a7e8c30006b945',\n",
       " '0xe4a7a5fe8fadffd6',\n",
       " '0x443f9a5cda8a6c7b',\n",
       " '0xa803ca76f439266f',\n",
       " '0x0130e0000d7f70e4',\n",
       " '0x2400000000002400']"
      ]
     },
     "execution_count": 40,
     "metadata": {},
     "output_type": "execute_result"
    }
   ],
   "source": [
    "u_64_little_endian(p_int)"
   ]
  },
  {
   "cell_type": "markdown",
   "metadata": {},
   "source": [
    "### The base field $\\mathbb{F}_p$"
   ]
  },
  {
   "cell_type": "code",
   "execution_count": 41,
   "metadata": {},
   "outputs": [
    {
     "data": {
      "text/plain": [
       "Finite Field of size 102211695604070082112571065507755096754575920209623522239390234855490679834276115250716018318118556227909439196474813090886893187366913"
      ]
     },
     "execution_count": 41,
     "metadata": {},
     "output_type": "execute_result"
    }
   ],
   "source": [
    "Fp = GF(p_int)\n",
    "Fp"
   ]
  },
  {
   "cell_type": "markdown",
   "metadata": {},
   "source": [
    "### The constant $R$ for Montgomery form\n",
    "https://github.com/privacy-scaling-explorations/halo2curves/blob/main/src/pluto_eris/fields/fp.rs#L67-L75"
   ]
  },
  {
   "cell_type": "code",
   "execution_count": 42,
   "metadata": {},
   "outputs": [
    {
     "data": {
      "text/plain": [
       "['0xa000163afffffff9',\n",
       " '0x8d68a2aaffd0ef18',\n",
       " '0xbf6a760a123e0121',\n",
       " '0x2242c7760637089c',\n",
       " '0x67e576bf526ff2f5',\n",
       " '0xf7a9dfffa183e9bf',\n",
       " '0x03ffffffffff03ff']"
      ]
     },
     "execution_count": 42,
     "metadata": {},
     "output_type": "execute_result"
    }
   ],
   "source": [
    "u_64_little_endian((2**448) % p_int)"
   ]
  },
  {
   "cell_type": "code",
   "execution_count": 43,
   "metadata": {},
   "outputs": [
    {
     "data": {
      "text/plain": [
       "11356855067116315761326349333718857071609919219953404605758555192204529273465116571178922486933671965396447230942486297326349317046265"
      ]
     },
     "execution_count": 43,
     "metadata": {},
     "output_type": "execute_result"
    }
   ],
   "source": [
    "R = Fp(2**448)\n",
    "R"
   ]
  },
  {
   "cell_type": "markdown",
   "metadata": {},
   "source": [
    "### The Scalar Field $\\mathbb{F}_q$\n",
    "the scalar field size $q = 36 U^4 + 36 U^3 + 18 U^2 + 6 U+1$"
   ]
  },
  {
   "cell_type": "code",
   "execution_count": 44,
   "metadata": {},
   "outputs": [
    {
     "data": {
      "text/plain": [
       "'0x24000000000024000130e0000d7f70e4a803ca76f439266f443f9a5c7a8a6c7be4a775fe8e177fd69ca7e85d60050af41ffffcd300000001'"
      ]
     },
     "execution_count": 44,
     "metadata": {},
     "output_type": "execute_result"
    }
   ],
   "source": [
    "q_int = 36 * U**4 + 36 * U**3 + 18 * U**2 + 6 * U + 1\n",
    "hex(q_int)"
   ]
  },
  {
   "cell_type": "markdown",
   "metadata": {},
   "source": [
    "The limbs representation of $q$:\\\n",
    "https://github.com/privacy-scaling-explorations/halo2curves/blob/main/src/pluto_eris/fields/fq.rs#L39-L47"
   ]
  },
  {
   "cell_type": "code",
   "execution_count": 45,
   "metadata": {},
   "outputs": [
    {
     "data": {
      "text/plain": [
       "['0x1ffffcd300000001',\n",
       " '0x9ca7e85d60050af4',\n",
       " '0xe4a775fe8e177fd6',\n",
       " '0x443f9a5c7a8a6c7b',\n",
       " '0xa803ca76f439266f',\n",
       " '0x0130e0000d7f70e4',\n",
       " '0x2400000000002400']"
      ]
     },
     "execution_count": 45,
     "metadata": {},
     "output_type": "execute_result"
    }
   ],
   "source": [
    "u_64_little_endian(q_int)"
   ]
  },
  {
   "cell_type": "code",
   "execution_count": 46,
   "metadata": {},
   "outputs": [
    {
     "data": {
      "text/plain": [
       "Finite Field of size 102211695604070082112571065507755096754575920209623522239390234855480569854275933742834077002685857629445612735086326265689167708028929"
      ]
     },
     "execution_count": 46,
     "metadata": {},
     "output_type": "execute_result"
    }
   ],
   "source": [
    "Fq = GF(q_int)\n",
    "Fq"
   ]
  },
  {
   "cell_type": "markdown",
   "metadata": {},
   "source": [
    "### The field $\\mathbb{F}_{p^2}$ \n",
    "defined by $\\mathbb{F}_{p^2} = \\mathbb{F}_p[u] = \\mathbb{F}_p[X] / (X^2 + 5)$ where $X^2 + 5$ is irreducible in $\\mathbb{F}_p[X]$\\\n",
    "https://github.com/privacy-scaling-explorations/halo2curves/blob/main/src/pluto_eris/fields/fp2.rs#L14-L27 (TODO: comment)"
   ]
  },
  {
   "cell_type": "markdown",
   "metadata": {},
   "source": [
    "Check $X^2 + 5$ is irreducible:"
   ]
  },
  {
   "cell_type": "code",
   "execution_count": 47,
   "metadata": {},
   "outputs": [
    {
     "data": {
      "text/plain": [
       "True"
      ]
     },
     "execution_count": 47,
     "metadata": {},
     "output_type": "execute_result"
    }
   ],
   "source": [
    "Rp = PolynomialRing(Fp, \"x\")\n",
    "x = Rp.gen()\n",
    "(x^2 + 5).is_irreducible()"
   ]
  },
  {
   "cell_type": "markdown",
   "metadata": {},
   "source": [
    "Construct $\\mathbb{F}_{p^2}$ from $\\mathbb{F}_{p}$ in $u$ such that $u^2 + 5 = 0$"
   ]
  },
  {
   "cell_type": "code",
   "execution_count": 48,
   "metadata": {},
   "outputs": [
    {
     "data": {
      "text/plain": [
       "Finite Field in u of size 102211695604070082112571065507755096754575920209623522239390234855490679834276115250716018318118556227909439196474813090886893187366913^2"
      ]
     },
     "execution_count": 48,
     "metadata": {},
     "output_type": "execute_result"
    }
   ],
   "source": [
    "Fp2.<u> = Fp.extension(x^2 + 5)\n",
    "Fp2"
   ]
  },
  {
   "cell_type": "markdown",
   "metadata": {},
   "source": [
    "Check the identity $u^2 + 5 = 0$ in $\\mathbb{F}_{p^{2}}$"
   ]
  },
  {
   "cell_type": "code",
   "execution_count": 49,
   "metadata": {},
   "outputs": [
    {
     "data": {
      "text/plain": [
       "True"
      ]
     },
     "execution_count": 49,
     "metadata": {},
     "output_type": "execute_result"
    }
   ],
   "source": [
    "u**2 + 5 == 0"
   ]
  },
  {
   "cell_type": "markdown",
   "metadata": {},
   "source": [
    "### The twisted curve (Triton) defined by: $E': Y^2 = X^3 + (u + 3)$\n",
    "see the defintion in: https://github.com/daira/pluto-eris \\\n",
    "and justified in the repo: https://github.com/privacy-scaling-explorations/halo2curves/blob/main/src/pluto_eris/curve.rs#L100-L106\n"
   ]
  },
  {
   "cell_type": "markdown",
   "metadata": {},
   "source": [
    "### The field $\\mathbb{F}_{p^6}$ \n",
    "defined by $\\mathbb{F}_{p^6} = \\mathbb{F}_{p^2}[v] = \\mathbb{F}_{p^2}[X] / (X^3 - 57/(u + 3))$ where $X^3 - 57/(u+3)$ is irreducible in $\\mathbb{F}_{p^2}[X]$\\"
   ]
  },
  {
   "cell_type": "markdown",
   "metadata": {},
   "source": [
    "Note that the non-cubic residue $57/(u + 3)$ is not arbitrarily chosen. It is closely related to the equation of the curve:\n",
    "$$E / \\mathbb{F}_p: Y^2 = X^3 + 57$$\n",
    "and the twisted curve :\n",
    "$$E' / \\mathbb{F}_{p^2}: Y^2 = X^3 + (u + 3)$$\n",
    "More precisely, let $\\xi = 57/(u + 3) \\in \\mathbb{F}_{p^2}$, the isomorphism is defined by\n",
    "$$\\Phi: E' \\rightarrow E: \\quad (x, y) \\mapsto (x \\cdot \\xi^{1/3}, y \\cdot \\xi^{1/2})$$\n",
    "and\n",
    "$$\\Phi^{-1}: E \\rightarrow E': \\quad (x, y) \\mapsto (x / \\xi^{1/3}, y / \\xi^{1/2})$$\n",
    "See more details in Section 3 regarding D-type twist in paper: http://indigo.ie/~mscott/twists.pdf"
   ]
  },
  {
   "cell_type": "markdown",
   "metadata": {},
   "source": [
    "Suppose $\\xi = 57/(u + 3) = c_1 \\cdot u + c_0$ where $c_0, c_1 \\in \\mathbb{F}_p$"
   ]
  },
  {
   "cell_type": "code",
   "execution_count": 50,
   "metadata": {},
   "outputs": [
    {
     "data": {
      "text/plain": [
       "21902506200872160452693799751661806447409125759205040479869336040462288535916310410867718211025404905980594113530317090904334254435763*u + 36504177001453600754489666252769677412348542932008400799782226734103814226527184018112863685042341509967656855883861818173890424059624"
      ]
     },
     "execution_count": 50,
     "metadata": {},
     "output_type": "execute_result"
    }
   ],
   "source": [
    "xi = 57 * (u + 3)**(-1)\n",
    "xi"
   ]
  },
  {
   "cell_type": "markdown",
   "metadata": {},
   "source": [
    "$\\xi^{(p^2 - 1)/2 }$ is order $2$"
   ]
  },
  {
   "cell_type": "code",
   "execution_count": 51,
   "metadata": {},
   "outputs": [
    {
     "data": {
      "text/plain": [
       "True"
      ]
     },
     "execution_count": 51,
     "metadata": {},
     "output_type": "execute_result"
    }
   ],
   "source": [
    "xi**((p_int ** 2 - 1)/2) == Fp2(-1)"
   ]
  },
  {
   "cell_type": "markdown",
   "metadata": {},
   "source": [
    "the coordinate $c_0$ of $\\xi$ in the basis $\\{ 1, u\\}$ in $\\mathbb{F}_{p^2}$\\\n",
    "https://github.com/privacy-scaling-explorations/halo2curves/blob/main/src/pluto_eris/fields/fp6.rs#L15-L23"
   ]
  },
  {
   "cell_type": "code",
   "execution_count": 52,
   "metadata": {},
   "outputs": [
    {
     "data": {
      "text/plain": [
       "['0xddb6da4b5b6db6e8',\n",
       " '0x833bf7b35b701d98',\n",
       " '0x3f6072240ebe2483',\n",
       " '0x73cd928ee056022c',\n",
       " '0xce4a7f2a7bcb4495',\n",
       " '0xdbda9924971b3a9a',\n",
       " '0x0cdb6db6db6dc3b6']"
      ]
     },
     "execution_count": 52,
     "metadata": {},
     "output_type": "execute_result"
    }
   ],
   "source": [
    "u_64_little_endian(36504177001453600754489666252769677412348542932008400799782226734103814226527184018112863685042341509967656855883861818173890424059624)"
   ]
  },
  {
   "cell_type": "markdown",
   "metadata": {},
   "source": [
    "the coordinate $c_1$ of $\\xi$ in the basis $\\{ 1, u\\}$ in $\\mathbb{F}_{p^2}$\\\n",
    "https://github.com/privacy-scaling-explorations/halo2curves/blob/main/src/pluto_eris/fields/fp6.rs#L25-L33"
   ]
  },
  {
   "cell_type": "code",
   "execution_count": 53,
   "metadata": {},
   "outputs": [
    {
     "data": {
      "text/plain": [
       "['0xeb6db62d36db6db3',\n",
       " '0xb523fb0536dcde8e',\n",
       " '0x8c6d1148d5a5491b',\n",
       " '0x457b57ef5366ce1a',\n",
       " '0x489319197d79f5f3',\n",
       " '0xb71cc2492776bcc3',\n",
       " '0x07b6db6db6db756d']"
      ]
     },
     "execution_count": 53,
     "metadata": {},
     "output_type": "execute_result"
    }
   ],
   "source": [
    "u_64_little_endian(21902506200872160452693799751661806447409125759205040479869336040462288535916310410867718211025404905980594113530317090904334254435763)"
   ]
  },
  {
   "cell_type": "markdown",
   "metadata": {},
   "source": [
    "the irreducible polynomial in $\\mathbb{F}_{p^2}[X]$: $X^3 - \\xi$"
   ]
  },
  {
   "cell_type": "code",
   "execution_count": 54,
   "metadata": {},
   "outputs": [
    {
     "data": {
      "text/plain": [
       "True"
      ]
     },
     "execution_count": 54,
     "metadata": {},
     "output_type": "execute_result"
    }
   ],
   "source": [
    "Rp2 = PolynomialRing(Fp2, \"x\")\n",
    "x = Rp2.gen()\n",
    "(x^3 - xi).is_irreducible()"
   ]
  },
  {
   "cell_type": "markdown",
   "metadata": {},
   "source": [
    "construct the field $\\mathbb{F}_{p^6} = \\mathbb{F}_{p^2}[X]/(X^3 - \\xi) = \\mathbb{F}_{p^2}[v]$"
   ]
  },
  {
   "cell_type": "code",
   "execution_count": 55,
   "metadata": {},
   "outputs": [
    {
     "data": {
      "text/plain": [
       "Univariate Quotient Polynomial Ring in v over Finite Field in u of size 102211695604070082112571065507755096754575920209623522239390234855490679834276115250716018318118556227909439196474813090886893187366913^2 with modulus v^3 + 80309189403197921659877265756093290307166794450418481759520898815028391298359804839848300107093151321928845082944495999982558932931150*u + 65707518602616481358081399254985419342227377277615121439608008121386865607748931232603154633076214717941782340590951272713002763307289"
      ]
     },
     "execution_count": 55,
     "metadata": {},
     "output_type": "execute_result"
    }
   ],
   "source": [
    "Fp6.<v> = Fp2.extension(x^3 - xi)\n",
    "Fp6"
   ]
  },
  {
   "cell_type": "code",
   "execution_count": 56,
   "metadata": {},
   "outputs": [
    {
     "data": {
      "text/plain": [
       "True"
      ]
     },
     "execution_count": 56,
     "metadata": {},
     "output_type": "execute_result"
    }
   ],
   "source": [
    "Fp6.is_field()"
   ]
  },
  {
   "cell_type": "markdown",
   "metadata": {},
   "source": [
    "check the identity $v^3 - \\xi = 0$"
   ]
  },
  {
   "cell_type": "code",
   "execution_count": 57,
   "metadata": {},
   "outputs": [
    {
     "data": {
      "text/plain": [
       "True"
      ]
     },
     "execution_count": 57,
     "metadata": {},
     "output_type": "execute_result"
    }
   ],
   "source": [
    "v**3 - xi == 0"
   ]
  },
  {
   "cell_type": "markdown",
   "metadata": {},
   "source": [
    "### The field $\\mathbb{F}_p^{12}$\n",
    "$\\mathbb{F}_{p^{12}} = \\mathbb{F}_{p^6}[w] = \\mathbb{F}_{p^6}[X] / (X^2 - v)$ where $X^2 - v$ is irreducible in $\\mathbb{F}_{p^6}[X]$ \\\n",
    "We may use the following constructor to construct $\\mathbb{F}_{p^{12}}$ as usual, but it turns out too slow:\n"
   ]
  },
  {
   "cell_type": "code",
   "execution_count": 58,
   "metadata": {},
   "outputs": [],
   "source": [
    "# Rp6 = PolynomialRing(Fp6, \"x\")\n",
    "# x = Rp6.gen()\n",
    "# (x^2 - v).is_irreducible()\n",
    "# Fp12 = Rp6.quotient(x^2 - v)\n",
    "# Fp12"
   ]
  },
  {
   "cell_type": "markdown",
   "metadata": {},
   "source": [
    "Instead, let's check it manually. It suffices to prove $X^2 - v$ is irreducible over $\\mathbb{F}_{p^6}[X]$, in other words\n",
    "$v$ is not a quadratic residue over $\\mathbb{F}_{p^6}$. Otherwise, there is an element $p(v) = a_0 + a_1 \\cdot v + a_2 \\cdot v^2 \\in \\mathbb{F}_{p^6}$ such that\n",
    "$$p(v)^2 = v \\text{ over } \\mathbb{F}_{p^6}$$\n",
    "Equivalently, there exists $p(X) = a_0 + a_1 \\cdot X + a_2 \\cdot X^2 \\in \\mathbb{F}_{p^2}[X]$ such that\n",
    "$$ X^3 - 57/(u + 3) \\;| \\; p(X)^2 - X \\text{ over } \\mathbb{F}_{p^2}[X]$$\n",
    "It is clear that there is no such a $p(X) \\in \\mathbb{F}_{p^2}[X]$.\n"
   ]
  },
  {
   "cell_type": "markdown",
   "metadata": {},
   "source": [
    "### The const FROBENIUS_COEFF_FP6_C1[1] \n",
    "used in the pairing: https://github.com/privacy-scaling-explorations/halo2curves/blob/main/src/pluto_eris/engine.rs#L462"
   ]
  },
  {
   "cell_type": "markdown",
   "metadata": {},
   "source": [
    "In fact, the list FROBENIUS_COEFF_FQ6_C1 = $[\\gamma_{10}. \\gamma_{11}, \\dots, \\gamma_{15}]$ such that for the Frobenius morphism $\\pi$:\n",
    "$$\\pi^i(v) = \\gamma_{1i} \\cdot v \\quad \\text{ for } i = 0, 1, \\dots, 5$$\n",
    "where $\\pi$ has order $6$ in the group $Gal(\\mathbb{F}_{q^6} / \\mathbb{F}_q)$ and $\\mathbb{F}_{q^6} = \\mathbb{F}_{q^{2}}[v]$."
   ]
  },
  {
   "cell_type": "markdown",
   "metadata": {},
   "source": [
    "Notice $\\{ 1, v, v^2\\}$ is a basis for the $\\mathbb{F}_{q^2}$-vector space $\\mathbb{F}_{q^6}$, regarding the images of $v^2$, the list FROBENIUS_COEFF_FQ6_C2 = $[\\gamma_{20}. \\gamma_{21}, \\dots, \\gamma_{25}]$ is defined by:\n",
    "$$\\pi^i(v^2) = \\gamma_{2i} \\cdot v^2 \\quad \\text{ for } i = 0, 1, \\dots, 5$$"
   ]
  },
  {
   "cell_type": "markdown",
   "metadata": {},
   "source": [
    "For $v = (57/(u + 3))^{1/3} = \\xi^{1/3}$, we have\n",
    "$$\\pi(v) = \\xi^{p/3} = \\xi^{(p-1)/3} \\cdot \\xi^{1/3} = \\xi^{(p-1)/3} \\cdot v$$\n",
    "hence $\\gamma_{11} = \\xi^{(p-1)/3}$."
   ]
  },
  {
   "cell_type": "markdown",
   "metadata": {},
   "source": [
    "This constant is defined: https://github.com/privacy-scaling-explorations/halo2curves/blob/main/src/pluto_eris/fields/fp6.rs#L459"
   ]
  },
  {
   "cell_type": "code",
   "execution_count": 59,
   "metadata": {},
   "outputs": [
    {
     "data": {
      "text/plain": [
       "92529011805995300781026747858635174615077510851648588563707597606861718583198168205651139531970571313972517572887035428707503415341858*u + 51260142370505185497351973260211965617805492386872277241342529142140236670911574395535108090223527812381417682871589681672697256676611"
      ]
     },
     "execution_count": 59,
     "metadata": {},
     "output_type": "execute_result"
    }
   ],
   "source": [
    "xi**((p_int-1)/3)"
   ]
  },
  {
   "cell_type": "markdown",
   "metadata": {},
   "source": [
    "Let $\\gamma_{11} = \\xi^{(p-1)/3} = c_1 \\cdot u + c_0 \\in \\mathbb{F}_{p^2}$\\\n",
    "the coordinate $c_0$: https://github.com/privacy-scaling-explorations/halo2curves/blob/main/src/pluto_eris/fields/fp6.rs#L461-L470"
   ]
  },
  {
   "cell_type": "code",
   "execution_count": 60,
   "metadata": {},
   "outputs": [
    {
     "data": {
      "text/plain": [
       "'0x120de97f024c55bc3bc0d351f4c70da1e3886170077a50986f93678bc921dcd5041bc4bb14cc42dc52e787634eccc335a001825382850d03'"
      ]
     },
     "execution_count": 60,
     "metadata": {},
     "output_type": "execute_result"
    }
   ],
   "source": [
    "hex(51260142370505185497351973260211965617805492386872277241342529142140236670911574395535108090223527812381417682871589681672697256676611)"
   ]
  },
  {
   "cell_type": "markdown",
   "metadata": {},
   "source": [
    "TODO: the representation is different from BN256 which is in the field representation (with Montgomery const $R$)"
   ]
  },
  {
   "cell_type": "code",
   "execution_count": 61,
   "metadata": {},
   "outputs": [
    {
     "data": {
      "text/plain": [
       "['0xa001825382850d03',\n",
       " '0x52e787634eccc335',\n",
       " '0x041bc4bb14cc42dc',\n",
       " '0x6f93678bc921dcd5',\n",
       " '0xe3886170077a5098',\n",
       " '0x3bc0d351f4c70da1',\n",
       " '0x120de97f024c55bc']"
      ]
     },
     "execution_count": 61,
     "metadata": {},
     "output_type": "execute_result"
    }
   ],
   "source": [
    "u_64_little_endian(51260142370505185497351973260211965617805492386872277241342529142140236670911574395535108090223527812381417682871589681672697256676611)"
   ]
  },
  {
   "cell_type": "markdown",
   "metadata": {},
   "source": [
    "the coordinate $c_1$: https://github.com/privacy-scaling-explorations/halo2curves/blob/main/src/pluto_eris/fields/fp6.rs#L471-L480"
   ]
  },
  {
   "cell_type": "code",
   "execution_count": 62,
   "metadata": {},
   "outputs": [
    {
     "data": {
      "text/plain": [
       "'0x2096f3f804d973afd82becc2ef081b76132461908eadbe3da1a7f5502b7091965efa1ddf4658080413be1b7cd3c9ea0e2772fea378a9b322'"
      ]
     },
     "execution_count": 62,
     "metadata": {},
     "output_type": "execute_result"
    }
   ],
   "source": [
    "hex(92529011805995300781026747858635174615077510851648588563707597606861718583198168205651139531970571313972517572887035428707503415341858)"
   ]
  },
  {
   "cell_type": "code",
   "execution_count": 63,
   "metadata": {},
   "outputs": [
    {
     "data": {
      "text/plain": [
       "['0x2772fea378a9b322',\n",
       " '0x13be1b7cd3c9ea0e',\n",
       " '0x5efa1ddf46580804',\n",
       " '0xa1a7f5502b709196',\n",
       " '0x132461908eadbe3d',\n",
       " '0xd82becc2ef081b76',\n",
       " '0x2096f3f804d973af']"
      ]
     },
     "execution_count": 63,
     "metadata": {},
     "output_type": "execute_result"
    }
   ],
   "source": [
    "u_64_little_endian(92529011805995300781026747858635174615077510851648588563707597606861718583198168205651139531970571313972517572887035428707503415341858)"
   ]
  },
  {
   "cell_type": "markdown",
   "metadata": {},
   "source": [
    "### The const FROBENIUS_COEFF_FP6_C1[2] \n",
    "used in the pairing: https://github.com/privacy-scaling-explorations/halo2curves/blob/main/src/pluto_eris/engine.rs#L470"
   ]
  },
  {
   "cell_type": "markdown",
   "metadata": {},
   "source": [
    "By the above discussion, we need to compute the constant $\\gamma_{12}$ such that $\\pi^2(v) = \\gamma_{12} \\cdot v$. It is clear\n",
    "$$\\pi \\circ \\pi(v) = \\pi(\\gamma_{11} \\cdot v) = \\overline{\\gamma}_{11} \\cdot \\pi(v) = \\overline{\\gamma}_{11} \\cdot \\gamma_{11} \\cdot v$$\n",
    "since $\\gamma_{11} \\in \\mathbb{F}_{p^2}$ and the Frobenius over $\\mathbb{F}_{p^2}$ is equivalent to conjugation. Hence\n",
    "$\\gamma_{12} = \\overline{\\gamma}_{11} \\cdot \\gamma_{11} = \\xi^{((p^2 - p) + p - 1)/3} = \\xi^{(p^2 - 1)/3}$."
   ]
  },
  {
   "cell_type": "markdown",
   "metadata": {},
   "source": [
    "This constant can be found: https://github.com/privacy-scaling-explorations/halo2curves/blob/main/src/pluto_eris/fields/fp6.rs#L482"
   ]
  },
  {
   "cell_type": "code",
   "execution_count": 64,
   "metadata": {},
   "outputs": [
    {
     "data": {
      "text/plain": [
       "39370513046094319542878173447389497729725081225711316008956793976697167703016365005507455943322894334"
      ]
     },
     "execution_count": 64,
     "metadata": {},
     "output_type": "execute_result"
    }
   ],
   "source": [
    "xi**((p_int**2-1)/3)"
   ]
  },
  {
   "cell_type": "markdown",
   "metadata": {},
   "source": [
    "$c_1 = 0$ and we compute $c_0$:\\ \n",
    "https://github.com/privacy-scaling-explorations/halo2curves/blob/main/src/pluto_eris/fields/fp6.rs#L484-L494"
   ]
  },
  {
   "cell_type": "code",
   "execution_count": 65,
   "metadata": {},
   "outputs": [
    {
     "data": {
      "text/plain": [
       "'0x480000000000360001c950000d7ee0e4a803c956d01c903d720dc8ad8b38dffaf50c100004c37ffffffe'"
      ]
     },
     "execution_count": 65,
     "metadata": {},
     "output_type": "execute_result"
    }
   ],
   "source": [
    "hex(39370513046094319542878173447389497729725081225711316008956793976697167703016365005507455943322894334)"
   ]
  },
  {
   "cell_type": "code",
   "execution_count": 66,
   "metadata": {},
   "outputs": [
    {
     "data": {
      "text/plain": [
       "['0x100004c37ffffffe',\n",
       " '0xc8ad8b38dffaf50c',\n",
       " '0xc956d01c903d720d',\n",
       " '0x50000d7ee0e4a803',\n",
       " '0x00000000360001c9',\n",
       " '0x0000000000004800',\n",
       " '0x0000000000000000']"
      ]
     },
     "execution_count": 66,
     "metadata": {},
     "output_type": "execute_result"
    }
   ],
   "source": [
    "u_64_little_endian(39370513046094319542878173447389497729725081225711316008956793976697167703016365005507455943322894334)"
   ]
  },
  {
   "cell_type": "markdown",
   "metadata": {},
   "source": [
    "### The const XI_TO_P_MINUS_1_OVER_2 \n",
    "used in the pairing: https://github.com/privacy-scaling-explorations/halo2curves/blob/main/src/pluto_eris/engine.rs#L29-L50\n"
   ]
  },
  {
   "cell_type": "code",
   "execution_count": 67,
   "metadata": {},
   "outputs": [
    {
     "data": {
      "text/plain": [
       "65079093581113076137070936836706683307023886770993453415929204320012344240499906559031972253911619563827341548210931723067336455786996*u + 95958235239618370663357236287665721330778695800924622118898462510960785934385719569712082879717746516106642479264739976661558948422166"
      ]
     },
     "execution_count": 67,
     "metadata": {},
     "output_type": "execute_result"
    }
   ],
   "source": [
    "xi**((p_int-1)/2)"
   ]
  },
  {
   "cell_type": "markdown",
   "metadata": {},
   "source": [
    "the coordinate $c_0$"
   ]
  },
  {
   "cell_type": "code",
   "execution_count": 68,
   "metadata": {},
   "outputs": [
    {
     "data": {
      "text/plain": [
       "['0x54cf5ad1c0926216',\n",
       " '0x186c1f3ce4a46d4e',\n",
       " '0x9c23800ce9c9452f',\n",
       " '0x50e0d09ff6d6c08b',\n",
       " '0x7cf421e4d46f6666',\n",
       " '0x678664ba4b6d8343',\n",
       " '0x21cc26d5de0f80f4']"
      ]
     },
     "execution_count": 68,
     "metadata": {},
     "output_type": "execute_result"
    }
   ],
   "source": [
    "u_64_little_endian(95958235239618370663357236287665721330778695800924622118898462510960785934385719569712082879717746516106642479264739976661558948422166)"
   ]
  },
  {
   "cell_type": "markdown",
   "metadata": {},
   "source": [
    "the coordinate $c_1$"
   ]
  },
  {
   "cell_type": "code",
   "execution_count": 69,
   "metadata": {},
   "outputs": [
    {
     "data": {
      "text/plain": [
       "['0xc0505f4c260e91f4',\n",
       " '0xe7bbd15f10723657',\n",
       " '0xb4b3e0c35358097e',\n",
       " '0x87c56f42a558750d',\n",
       " '0x4b7211d23f34f0ae',\n",
       " '0xf6839d29e2f0d250',\n",
       " '0x16ebe8b2e12a1106']"
      ]
     },
     "execution_count": 69,
     "metadata": {},
     "output_type": "execute_result"
    }
   ],
   "source": [
    "u_64_little_endian(65079093581113076137070936836706683307023886770993453415929204320012344240499906559031972253911619563827341548210931723067336455786996)"
   ]
  },
  {
   "cell_type": "markdown",
   "metadata": {},
   "source": [
    "The order of $\\xi$ is exactly $p^2 - 1$, thus $\\xi^{(p^2 - 1)/2} = 1$. This fact is used in $y$ coordinate of \n",
    "the point $ -Q_2 = - \\pi^2(Q)$."
   ]
  },
  {
   "cell_type": "code",
   "execution_count": 70,
   "metadata": {},
   "outputs": [
    {
     "data": {
      "text/plain": [
       "True"
      ]
     },
     "execution_count": 70,
     "metadata": {},
     "output_type": "execute_result"
    }
   ],
   "source": [
    "xi**((p_int**2 - 1)/2) == -1"
   ]
  },
  {
   "cell_type": "markdown",
   "metadata": {},
   "source": [
    "### Rationale of These Constants\n",
    "These constants are used for computing $Q_1 = \\pi(Q)$ and $Q_2 = \\pi^2(Q)$.\\\n",
    "Recall in the implementation, $Q \\in G_2$  as an affine point in twisted curve $E'(\\mathbb{F}_{p^2})$. Suppose $Q = (x, y) \\in E'(\\mathbb{F}_{p^2})$, then\n",
    "$$\\Phi^{-1}: E' \\longrightarrow E: (x, y) \\mapsto (x \\cdot \\xi^{1/3}, y \\cdot \\xi^{1/2})$$\n",
    "gives preimage of $Q$ in $E(\\mathbb{F}_{p^{12}})$\n",
    "$$(x \\cdot \\xi^{1/3}, y \\cdot \\xi^{1/2})$$\n",
    "We then apply Frobenius in $E(\\mathbb{F}_{p^{12}})$ as usual and map back to the twisted curve $E'(\\mathbb{F}_{p^2})$:\n",
    "$$E(\\mathbb{F}_{p^{12}}) \\xrightarrow{\\pi} E(\\mathbb{F}_{p^{12}}) \\xrightarrow{\\Phi^{-1}} E'(\\mathbb{F}_{p^{2}})$$\n",
    "$$(x \\cdot \\xi^{1/3}, y \\cdot \\xi^{1/2}) \\mapsto (\\overline{x} \\cdot \\xi^{p/3}, \\overline{y} \\cdot \\xi^{p/2}) \\mapsto (\\overline{x} \\cdot \\xi^{(p-1)/3}, \\overline{y} \\cdot \\xi^{(p-1)/2})$$\n",
    "So $Q_1 = (\\overline{x} \\cdot \\xi^{(p-1)/3}, \\overline{y} \\cdot \\xi^{(p-1)/2})$, justified by: https://github.com/privacy-scaling-explorations/halo2curves/blob/main/src/pluto_eris/engine.rs#L461-L467"
   ]
  },
  {
   "cell_type": "markdown",
   "metadata": {},
   "source": [
    "### Test the final exponentiation"
   ]
  },
  {
   "cell_type": "code",
   "execution_count": 71,
   "metadata": {},
   "outputs": [],
   "source": [
    "def f_exp_by_x(f, x):\n",
    "    y = -x\n",
    "    res = 1\n",
    "    l = y.bit_length()\n",
    "    for i in range(l-1, -1, -1):\n",
    "        res = res**2\n",
    "        if ((y>>i) & 1) == 1:\n",
    "            res = res * f\n",
    "    return 1/res"
   ]
  },
  {
   "cell_type": "code",
   "execution_count": 72,
   "metadata": {},
   "outputs": [
    {
     "data": {
      "text/plain": [
       "1/16"
      ]
     },
     "execution_count": 72,
     "metadata": {},
     "output_type": "execute_result"
    }
   ],
   "source": [
    "f_exp_by_x(2, -4)"
   ]
  },
  {
   "cell_type": "markdown",
   "metadata": {},
   "source": [
    "### Test Miller loop"
   ]
  },
  {
   "cell_type": "code",
   "execution_count": 73,
   "metadata": {},
   "outputs": [],
   "source": [
    "def test_miller_loop(L):\n",
    "    l = len(L)\n",
    "    res = 1\n",
    "    vec = []\n",
    "    for i in range(l-2, -1, -1):\n",
    "        res = res*2\n",
    "        vec.append(res)\n",
    "        if L[i] == 1:\n",
    "            res = res + 1\n",
    "            vec.append(res)\n",
    "        elif L[i] == -1:\n",
    "            res = res - 1\n",
    "            vec.append(res)\n",
    "    return res\n",
    "   \n",
    "        \n",
    "        "
   ]
  },
  {
   "cell_type": "code",
   "execution_count": 74,
   "metadata": {},
   "outputs": [
    {
     "data": {
      "text/plain": [
       "7"
      ]
     },
     "execution_count": 74,
     "metadata": {},
     "output_type": "execute_result"
    }
   ],
   "source": [
    "L = [-1, 0, 0, 1]\n",
    "test_miller_loop(L)"
   ]
  },
  {
   "cell_type": "code",
   "execution_count": null,
   "metadata": {},
   "outputs": [],
   "source": []
  }
 ],
 "metadata": {
  "kernelspec": {
   "display_name": "SageMath 10.0",
   "language": "sage",
   "name": "sagemath"
  },
  "language_info": {
   "codemirror_mode": {
    "name": "ipython",
    "version": 3
   },
   "file_extension": ".py",
   "mimetype": "text/x-python",
   "name": "python",
   "nbconvert_exporter": "python",
   "pygments_lexer": "ipython3",
   "version": "3.11.3"
  }
 },
 "nbformat": 4,
 "nbformat_minor": 2
}
