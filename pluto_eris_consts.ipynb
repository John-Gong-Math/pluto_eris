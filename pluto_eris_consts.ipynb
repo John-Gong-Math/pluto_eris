{
 "cells": [
  {
   "cell_type": "markdown",
   "metadata": {},
   "source": [
    "the base field of Pluto: $\\mathbb{F}_{p}$ where $p$ has $446$ bits"
   ]
  },
  {
   "cell_type": "code",
   "execution_count": 117,
   "metadata": {},
   "outputs": [
    {
     "data": {
      "text/plain": [
       "446"
      ]
     },
     "execution_count": 117,
     "metadata": {},
     "output_type": "execute_result"
    }
   ],
   "source": [
    "p_str = \"0x24000000000024000130e0000d7f70e4a803ca76f439266f443f9a5cda8a6c7be4a7a5fe8fadffd6a2a7e8c30006b9459ffffcd300000001\"\n",
    "p = int(p_str, 16)\n",
    "p.bit_length()"
   ]
  },
  {
   "cell_type": "code",
   "execution_count": 118,
   "metadata": {},
   "outputs": [
    {
     "data": {
      "text/plain": [
       "Finite Field of size 102211695604070082112571065507755096754575920209623522239390234855490679834276115250716018318118556227909439196474813090886893187366913"
      ]
     },
     "execution_count": 118,
     "metadata": {},
     "output_type": "execute_result"
    }
   ],
   "source": [
    "Fp = GF(p)\n",
    "Fp"
   ]
  },
  {
   "cell_type": "markdown",
   "metadata": {},
   "source": [
    "the scalar field of Pluto: $\\mathbb{F}_{q}$ where $q$ has $446$ bits"
   ]
  },
  {
   "cell_type": "code",
   "execution_count": 119,
   "metadata": {},
   "outputs": [
    {
     "data": {
      "text/plain": [
       "446"
      ]
     },
     "execution_count": 119,
     "metadata": {},
     "output_type": "execute_result"
    }
   ],
   "source": [
    "q_str = \"0x24000000000024000130e0000d7f70e4a803ca76f439266f443f9a5c7a8a6c7be4a775fe8e177fd69ca7e85d60050af41ffffcd300000001\"\n",
    "q = int(q_str, 16)\n",
    "q.bit_length()"
   ]
  },
  {
   "cell_type": "code",
   "execution_count": 120,
   "metadata": {},
   "outputs": [
    {
     "data": {
      "text/plain": [
       "Finite Field of size 102211695604070082112571065507755096754575920209623522239390234855480569854275933742834077002685857629445612735086326265689167708028929"
      ]
     },
     "execution_count": 120,
     "metadata": {},
     "output_type": "execute_result"
    }
   ],
   "source": [
    "Fq = GF(q)\n",
    "Fq"
   ]
  },
  {
   "cell_type": "markdown",
   "metadata": {},
   "source": [
    "the equation of Pluto:\n",
    "$$E / \\mathbb{F}_{p}: y^2 = x^3 + 57$$"
   ]
  },
  {
   "cell_type": "code",
   "execution_count": 121,
   "metadata": {},
   "outputs": [
    {
     "data": {
      "text/plain": [
       "Elliptic Curve defined by y^2 = x^3 + 57 over Finite Field of size 102211695604070082112571065507755096754575920209623522239390234855490679834276115250716018318118556227909439196474813090886893187366913"
      ]
     },
     "execution_count": 121,
     "metadata": {},
     "output_type": "execute_result"
    }
   ],
   "source": [
    "E = EllipticCurve(Fp, [0, 57])\n",
    "E"
   ]
  },
  {
   "cell_type": "markdown",
   "metadata": {},
   "source": [
    "the order of the group $E(\\mathbb{F}_{p})$ is $q$ which is prime, thus the group is cyclic and $E(\\mathbb{F}_{p}) = \\mathbb{G}_{1}$"
   ]
  },
  {
   "cell_type": "code",
   "execution_count": 122,
   "metadata": {},
   "outputs": [
    {
     "data": {
      "text/plain": [
       "True"
      ]
     },
     "execution_count": 122,
     "metadata": {},
     "output_type": "execute_result"
    }
   ],
   "source": [
    "E.cardinality() == q"
   ]
  },
  {
   "cell_type": "code",
   "execution_count": 123,
   "metadata": {},
   "outputs": [
    {
     "data": {
      "text/plain": [
       "Additive abelian group isomorphic to Z/102211695604070082112571065507755096754575920209623522239390234855480569854275933742834077002685857629445612735086326265689167708028929 embedded in Abelian group of points on Elliptic Curve defined by y^2 = x^3 + 57 over Finite Field of size 102211695604070082112571065507755096754575920209623522239390234855490679834276115250716018318118556227909439196474813090886893187366913"
      ]
     },
     "execution_count": 123,
     "metadata": {},
     "output_type": "execute_result"
    }
   ],
   "source": [
    "E.abelian_group()"
   ]
  },
  {
   "cell_type": "markdown",
   "metadata": {},
   "source": [
    "we take the generator of $\\mathbb{G}_{1}$ as $(-2, 7)$, as fixed in Daira's repo, one other choice is $(1, y_0)$ subject to further dicussion"
   ]
  },
  {
   "cell_type": "code",
   "execution_count": 124,
   "metadata": {},
   "outputs": [
    {
     "data": {
      "text/plain": [
       "True"
      ]
     },
     "execution_count": 124,
     "metadata": {},
     "output_type": "execute_result"
    }
   ],
   "source": [
    "G1_GENERATOR_X = Fp(-2)\n",
    "G1_GENERATOR_Y = Fp(7)\n",
    "G1_GENERATOR = E(G1_GENERATOR_X, G1_GENERATOR_Y)\n",
    "G1_GENERATOR.order() == q"
   ]
  },
  {
   "cell_type": "code",
   "execution_count": 125,
   "metadata": {},
   "outputs": [
    {
     "data": {
      "text/plain": [
       "102211695604070082112571065507755096754575920209623522239390234855490679834276115250716018318118556227909439196474813090886893187366911"
      ]
     },
     "execution_count": 125,
     "metadata": {},
     "output_type": "execute_result"
    }
   ],
   "source": [
    "G1_GENERATOR_X"
   ]
  },
  {
   "cell_type": "markdown",
   "metadata": {},
   "source": [
    "bit-lengths of coordinates of the generator"
   ]
  },
  {
   "cell_type": "code",
   "execution_count": 126,
   "metadata": {},
   "outputs": [
    {
     "data": {
      "text/plain": [
       "(446, 3)"
      ]
     },
     "execution_count": 126,
     "metadata": {},
     "output_type": "execute_result"
    }
   ],
   "source": [
    "(Integer(G1_GENERATOR_X).bit_length(), Integer(G1_GENERATOR_Y).bit_length())"
   ]
  },
  {
   "cell_type": "markdown",
   "metadata": {},
   "source": [
    "Given an element in the base field $\\mathbb{F}_{p}$ or in the scalar field $\\mathbb{F}_{q}$, decompose it into $7$ limbs and each limb has $64$ bits (recall the modulus has $446$ bits) \\\n",
    "We test the function with the values given in the repo: https://github.com/daira/pluto-eris"
   ]
  },
  {
   "cell_type": "code",
   "execution_count": 127,
   "metadata": {},
   "outputs": [
    {
     "data": {
      "text/plain": [
       "True"
      ]
     },
     "execution_count": 127,
     "metadata": {},
     "output_type": "execute_result"
    }
   ],
   "source": [
    "def u_64_little_endian(n):\n",
    "    str_hex = hex(n)\n",
    "    str_hex_without_0x = str_hex[2:]\n",
    "    full_width_str = '0' * (112 - len(str_hex_without_0x)) + str_hex_without_0x\n",
    "    assert len(full_width_str) == 112\n",
    "\n",
    "    res = []\n",
    "    for i in range(7):\n",
    "        temp = '0x' + full_width_str[112 - 16 * (i + 1) : 112 - 16 * i]\n",
    "        res.append(temp)\n",
    "    return res\n",
    "\n",
    "# test the function with the given modulus p\n",
    "u_64_little_endian(p) == [\n",
    "    '0x9ffffcd300000001',\n",
    "    '0xa2a7e8c30006b945',\n",
    "    '0xe4a7a5fe8fadffd6',\n",
    "    '0x443f9a5cda8a6c7b',\n",
    "    '0xa803ca76f439266f',\n",
    "    '0x0130e0000d7f70e4',\n",
    "    '0x2400000000002400',\n",
    "]"
   ]
  },
  {
   "cell_type": "code",
   "execution_count": 128,
   "metadata": {},
   "outputs": [
    {
     "data": {
      "text/plain": [
       "['0x9ffffcd2ffffffff',\n",
       " '0xa2a7e8c30006b945',\n",
       " '0xe4a7a5fe8fadffd6',\n",
       " '0x443f9a5cda8a6c7b',\n",
       " '0xa803ca76f439266f',\n",
       " '0x0130e0000d7f70e4',\n",
       " '0x2400000000002400']"
      ]
     },
     "execution_count": 128,
     "metadata": {},
     "output_type": "execute_result"
    }
   ],
   "source": [
    "u_64_little_endian(Integer(G1_GENERATOR_X))"
   ]
  },
  {
   "cell_type": "code",
   "execution_count": 129,
   "metadata": {},
   "outputs": [
    {
     "data": {
      "text/plain": [
       "['0x0000000000000007',\n",
       " '0x0000000000000000',\n",
       " '0x0000000000000000',\n",
       " '0x0000000000000000',\n",
       " '0x0000000000000000',\n",
       " '0x0000000000000000',\n",
       " '0x0000000000000000']"
      ]
     },
     "execution_count": 129,
     "metadata": {},
     "output_type": "execute_result"
    }
   ],
   "source": [
    "u_64_little_endian(Integer(G1_GENERATOR_Y))"
   ]
  },
  {
   "cell_type": "markdown",
   "metadata": {},
   "source": [
    "the extension field of the base field $\\mathbb{F}_{p^{2}} = \\mathbb{F}_{p} / (z^{2} + 5)$ as defined the repo of Pluto/Eris"
   ]
  },
  {
   "cell_type": "code",
   "execution_count": 130,
   "metadata": {},
   "outputs": [
    {
     "data": {
      "text/plain": [
       "<class 'sage.rings.polynomial.polynomial_ring.PolynomialRing_dense_mod_p_with_category'>"
      ]
     },
     "execution_count": 130,
     "metadata": {},
     "output_type": "execute_result"
    }
   ],
   "source": [
    "R.<z> = PolynomialRing(Fp)\n",
    "type(R)"
   ]
  },
  {
   "cell_type": "code",
   "execution_count": 131,
   "metadata": {},
   "outputs": [
    {
     "data": {
      "text/plain": [
       "Finite Field in z of size 102211695604070082112571065507755096754575920209623522239390234855490679834276115250716018318118556227909439196474813090886893187366913^2"
      ]
     },
     "execution_count": 131,
     "metadata": {},
     "output_type": "execute_result"
    }
   ],
   "source": [
    "Fp2 = GF(p * p, name='z', modulus=z^2 + 5); Fp2"
   ]
  },
  {
   "cell_type": "markdown",
   "metadata": {},
   "source": [
    "the twist curve *Triton* defined by\n",
    "$$E_{2} / \\mathbb{F}_{p^{2}}: y^{2} = x^{3} + (z + 3)$$"
   ]
  },
  {
   "cell_type": "code",
   "execution_count": 132,
   "metadata": {},
   "outputs": [
    {
     "data": {
      "text/plain": [
       "Elliptic Curve defined by y^2 = x^3 + (z+3) over Finite Field in z of size 102211695604070082112571065507755096754575920209623522239390234855490679834276115250716018318118556227909439196474813090886893187366913^2"
      ]
     },
     "execution_count": 132,
     "metadata": {},
     "output_type": "execute_result"
    }
   ],
   "source": [
    "E2 = EllipticCurve(Fp2, [0, z + 3])\n",
    "E2"
   ]
  },
  {
   "cell_type": "code",
   "execution_count": 133,
   "metadata": {},
   "outputs": [],
   "source": [
    "# E2.abelian_group(): it takes too long for output, probably because the extension field is too large"
   ]
  },
  {
   "cell_type": "markdown",
   "metadata": {},
   "source": [
    "the order of the group $E_{2}(\\mathbb{F}_{p^{2}})$ is $q (2 p - q)$ as showed in the repo \\\n",
    "https://github.com/daira/pluto-eris \\\n",
    "we know this group is also cyclic based on elliptic curves theory"
   ]
  },
  {
   "cell_type": "code",
   "execution_count": 134,
   "metadata": {},
   "outputs": [
    {
     "data": {
      "text/plain": [
       "True"
      ]
     },
     "execution_count": 134,
     "metadata": {},
     "output_type": "execute_result"
    }
   ],
   "source": [
    "E2.cardinality() == q * (2 * p - q)"
   ]
  },
  {
   "cell_type": "markdown",
   "metadata": {},
   "source": [
    "We take a random point $P$ in $E_{2}(\\mathbb{F}_{p^{2}})$, its order is very probably $q(2p - q)$, \\\n",
    "then we only need to take the generator of $\\mathbb{G}_{2}$ as $Q = (2p - q) \\cdot P$ whose order is thus $q$ as required"
   ]
  },
  {
   "cell_type": "code",
   "execution_count": 135,
   "metadata": {},
   "outputs": [
    {
     "data": {
      "text/plain": [
       "(73825144661657802320622230235198938990499597858335392319575549414437389618818590520326285321360920202797735030655909561889777699859203*z + 71734302620089618492699913728937268183797385533150575889378098330781954797102305587510777407800704588982064101415828137491262185115028 : 98071031875237312442546746862775115431449232820321509333598658952664126924349333079397199359138721588981040507328584731002107992741432*z + 38777463725275824700618213641456882570018733940119470655919893307532794266845691064759257478242590798775325761756453196673183479571667 : 1)"
      ]
     },
     "execution_count": 135,
     "metadata": {},
     "output_type": "execute_result"
    }
   ],
   "source": [
    "G2_GENERATOR = E2(73825144661657802320622230235198938990499597858335392319575549414437389618818590520326285321360920202797735030655909561889777699859203*z + 71734302620089618492699913728937268183797385533150575889378098330781954797102305587510777407800704588982064101415828137491262185115028, 98071031875237312442546746862775115431449232820321509333598658952664126924349333079397199359138721588981040507328584731002107992741432*z + 38777463725275824700618213641456882570018733940119470655919893307532794266845691064759257478242590798775325761756453196673183479571667)\n",
    "G2_GENERATOR"
   ]
  },
  {
   "cell_type": "code",
   "execution_count": 136,
   "metadata": {},
   "outputs": [
    {
     "data": {
      "text/plain": [
       "(0 : 1 : 0)"
      ]
     },
     "execution_count": 136,
     "metadata": {},
     "output_type": "execute_result"
    }
   ],
   "source": [
    "# its order is q\n",
    "q * G2_GENERATOR"
   ]
  },
  {
   "cell_type": "code",
   "execution_count": 137,
   "metadata": {},
   "outputs": [],
   "source": [
    "(G2_GENERATOR_X, G2_GENERATOR_Y) = G2_GENERATOR.xy()"
   ]
  },
  {
   "cell_type": "markdown",
   "metadata": {},
   "source": [
    "the $x$-coordinate of the generator of $\\mathbb{G}_{2}$, note that it is in the extension field \\\n",
    "$\\mathbb{F}_{p^2} = \\{c_{0} + c_1 z: c_0, c_1 \\in \\mathbb{F}_p  \\}$"
   ]
  },
  {
   "cell_type": "code",
   "execution_count": 138,
   "metadata": {},
   "outputs": [
    {
     "data": {
      "text/plain": [
       "73825144661657802320622230235198938990499597858335392319575549414437389618818590520326285321360920202797735030655909561889777699859203*z + 71734302620089618492699913728937268183797385533150575889378098330781954797102305587510777407800704588982064101415828137491262185115028"
      ]
     },
     "execution_count": 138,
     "metadata": {},
     "output_type": "execute_result"
    }
   ],
   "source": [
    "G2_GENERATOR_X\n",
    "\n",
    "# c_1 * z + c_0"
   ]
  },
  {
   "cell_type": "code",
   "execution_count": 139,
   "metadata": {},
   "outputs": [
    {
     "data": {
      "text/plain": [
       "[71734302620089618492699913728937268183797385533150575889378098330781954797102305587510777407800704588982064101415828137491262185115028,\n",
       " 73825144661657802320622230235198938990499597858335392319575549414437389618818590520326285321360920202797735030655909561889777699859203]"
      ]
     },
     "execution_count": 139,
     "metadata": {},
     "output_type": "execute_result"
    }
   ],
   "source": [
    "G2_GENERATOR_X.list()\n",
    "# output (c_0, c_1)"
   ]
  },
  {
   "cell_type": "code",
   "execution_count": 140,
   "metadata": {},
   "outputs": [
    {
     "data": {
      "text/plain": [
       "(445, 445)"
      ]
     },
     "execution_count": 140,
     "metadata": {},
     "output_type": "execute_result"
    }
   ],
   "source": [
    "G2_GENERATOR_X_0 = G2_GENERATOR_X.list()[0]\n",
    "G2_GENERATOR_X_1 = G2_GENERATOR_X.list()[1]\n",
    "(Integer(G2_GENERATOR_X_0).bit_length(), Integer(G2_GENERATOR_X_1).bit_length())\n",
    "\n"
   ]
  },
  {
   "cell_type": "code",
   "execution_count": 141,
   "metadata": {},
   "outputs": [
    {
     "data": {
      "text/plain": [
       "['0x64df94ec64138d94',\n",
       " '0x9c1b62269cfa10e4',\n",
       " '0x3886dca44a7f6c19',\n",
       " '0x9b02208cfd650e17',\n",
       " '0x052896a707cf8947',\n",
       " '0xa9490edfe7707f05',\n",
       " '0x1943fb34a457551b']"
      ]
     },
     "execution_count": 141,
     "metadata": {},
     "output_type": "execute_result"
    }
   ],
   "source": [
    "u_64_little_endian(Integer(G2_GENERATOR_X_0))"
   ]
  },
  {
   "cell_type": "code",
   "execution_count": 142,
   "metadata": {},
   "outputs": [
    {
     "data": {
      "text/plain": [
       "['0xb1bd9958ca2d2b03',\n",
       " '0xf34dd1eb12904ef0',\n",
       " '0xfe10783b9106e92f',\n",
       " '0x343fc095636c8117',\n",
       " '0x8fc4095ab8d5f6c0',\n",
       " '0x93454f05c55110e5',\n",
       " '0x1a0080f48de3bb46']"
      ]
     },
     "execution_count": 142,
     "metadata": {},
     "output_type": "execute_result"
    }
   ],
   "source": [
    "u_64_little_endian(Integer(G2_GENERATOR_X_1))"
   ]
  },
  {
   "cell_type": "markdown",
   "metadata": {},
   "source": [
    "the $y$-coordinate of the generator of $\\mathbb{G}_{2}$, note that it is in the extension field \\\n",
    "$\\mathbb{F}_{p^2} = \\{c_{0} + c_1 z: c_0, c_1 \\in \\mathbb{F}_p  \\}$"
   ]
  },
  {
   "cell_type": "code",
   "execution_count": 143,
   "metadata": {},
   "outputs": [
    {
     "data": {
      "text/plain": [
       "98071031875237312442546746862775115431449232820321509333598658952664126924349333079397199359138721588981040507328584731002107992741432*z + 38777463725275824700618213641456882570018733940119470655919893307532794266845691064759257478242590798775325761756453196673183479571667"
      ]
     },
     "execution_count": 143,
     "metadata": {},
     "output_type": "execute_result"
    }
   ],
   "source": [
    "G2_GENERATOR_Y\n",
    "# c_1 * z + c_0\n"
   ]
  },
  {
   "cell_type": "code",
   "execution_count": 144,
   "metadata": {},
   "outputs": [
    {
     "data": {
      "text/plain": [
       "[38777463725275824700618213641456882570018733940119470655919893307532794266845691064759257478242590798775325761756453196673183479571667,\n",
       " 98071031875237312442546746862775115431449232820321509333598658952664126924349333079397199359138721588981040507328584731002107992741432]"
      ]
     },
     "execution_count": 144,
     "metadata": {},
     "output_type": "execute_result"
    }
   ],
   "source": [
    "G2_GENERATOR_Y.list()\n",
    "# output (c_0, c_1)\n"
   ]
  },
  {
   "cell_type": "code",
   "execution_count": 145,
   "metadata": {},
   "outputs": [
    {
     "data": {
      "text/plain": [
       "(444, 446)"
      ]
     },
     "execution_count": 145,
     "metadata": {},
     "output_type": "execute_result"
    }
   ],
   "source": [
    "G2_GENERATOR_Y_0 = G2_GENERATOR_Y.list()[0]\n",
    "G2_GENERATOR_Y_1 = G2_GENERATOR_Y.list()[1]\n",
    "(Integer(G2_GENERATOR_Y_0).bit_length(), Integer(G2_GENERATOR_Y_1).bit_length())\n"
   ]
  },
  {
   "cell_type": "code",
   "execution_count": 146,
   "metadata": {},
   "outputs": [
    {
     "data": {
      "text/plain": [
       "['0x1a40ea5e6b9924d3',\n",
       " '0xe7ad21b3504fc522',\n",
       " '0x54293e270ef1d75d',\n",
       " '0x5796b6e18f6c5e39',\n",
       " '0x20540d68e5e7cafe',\n",
       " '0xc72900d3c580b99b',\n",
       " '0x0da866bbcb2696a5']"
      ]
     },
     "execution_count": 146,
     "metadata": {},
     "output_type": "execute_result"
    }
   ],
   "source": [
    "u_64_little_endian(Integer(G2_GENERATOR_Y_0))\n"
   ]
  },
  {
   "cell_type": "code",
   "execution_count": 147,
   "metadata": {},
   "outputs": [
    {
     "data": {
      "text/plain": [
       "['0xcf3ae4b7c5181638',\n",
       " '0x0fd1fedc66c1f210',\n",
       " '0xaa33870a9e316d6f',\n",
       " '0xc844de8ce3795939',\n",
       " '0x2068f65c6ea24746',\n",
       " '0xe282c87cb0420ae1',\n",
       " '0x228aa759cf616115']"
      ]
     },
     "execution_count": 147,
     "metadata": {},
     "output_type": "execute_result"
    }
   ],
   "source": [
    "u_64_little_endian(Integer(G2_GENERATOR_Y_1))\n"
   ]
  },
  {
   "cell_type": "markdown",
   "metadata": {},
   "source": [
    "$\\zeta_{p}$ is one of the two $3nd$ primitive roots of unity in $\\mathbb{F}_{p}$, the other one is $\\zeta_{p}^{2}$."
   ]
  },
  {
   "cell_type": "code",
   "execution_count": 148,
   "metadata": {},
   "outputs": [
    {
     "data": {
      "text/plain": [
       "39370513046094319542878173447389497729725081225711316008956793976697167703016365005507455943322894334"
      ]
     },
     "execution_count": 148,
     "metadata": {},
     "output_type": "execute_result"
    }
   ],
   "source": [
    "zetap = Fp.zeta(3)\n",
    "zetap"
   ]
  },
  {
   "cell_type": "markdown",
   "metadata": {},
   "source": [
    "$\\zeta_{q}$ is one of the two $3nd$ primitive roots of unity in $\\mathbb{F}_{q}$, the other one is $\\zeta_{q}^{2}$.\n"
   ]
  },
  {
   "cell_type": "code",
   "execution_count": 149,
   "metadata": {},
   "outputs": [
    {
     "data": {
      "text/plain": [
       "102211695604070082112571065507755018013549828020984436483043340076454780464112937796556235142799808455295617893795351495840632510873602"
      ]
     },
     "execution_count": 149,
     "metadata": {},
     "output_type": "execute_result"
    }
   ],
   "source": [
    "zetaq = Fq.zeta(3)\n",
    "zetaq"
   ]
  },
  {
   "cell_type": "markdown",
   "metadata": {},
   "source": [
    "the endomorphism of $E/\\mathbb{F}_{p}$ defined by:\n",
    "$$(x, y) \\mapsto (\\zeta x, y)$$\n",
    "where $\\zeta$ is a primitive $3nd$ root"
   ]
  },
  {
   "cell_type": "code",
   "execution_count": 150,
   "metadata": {},
   "outputs": [],
   "source": [
    "def endo (E, zeta, P):\n",
    "    (xp, yp) = P.xy()\n",
    "    return E(zeta * xp, yp)\n",
    "    "
   ]
  },
  {
   "cell_type": "markdown",
   "metadata": {},
   "source": [
    "we know \n",
    "$$(\\zeta_{p} x, y) = [\\zeta_{q}] (x, y)$$\n",
    "but we should find the right $\\zeta_{p}$ which maybe $\\zeta_{p}$ or $\\zeta_{p}^2$, the same applies to $\\zeta_{q}$"
   ]
  },
  {
   "cell_type": "code",
   "execution_count": 151,
   "metadata": {},
   "outputs": [
    {
     "name": "stdout",
     "output_type": "stream",
     "text": [
      "2nd trial\n"
     ]
    },
    {
     "data": {
      "text/plain": [
       "(39370513046094319542878173447389497729725081225711316008956793976697167703016365005507455943322894334,\n",
       " 78741026092188639085756346894779025789390162995946277841859886049174149994841290974769848535197155326)"
      ]
     },
     "execution_count": 151,
     "metadata": {},
     "output_type": "execute_result"
    }
   ],
   "source": [
    "zP = endo(E, zetap, G1_GENERATOR)\n",
    "if zP == int(zetaq)*G1_GENERATOR:\n",
    "    print(\"1st trial\")\n",
    "else:\n",
    "    zetaq = zetaq^2\n",
    "    if zP == int(zetaq)*G1_GENERATOR: \n",
    "        print(\"2nd trial\")\n",
    "    else: \n",
    "        zetap = zetap^2\n",
    "        zP = endo(E, zetap, G1_GENERATOR)\n",
    "        if zP == int(zetaq)*G1_GENERATOR:\n",
    "            print(\"3nd trial\")\n",
    "        else:\n",
    "            zetaq = zetaq^2\n",
    "            assert zP == int(zetaq)*G1_GENERATOR\n",
    "            print(\"4th trial\")\n",
    "(zetap, zetaq)"
   ]
  },
  {
   "cell_type": "markdown",
   "metadata": {},
   "source": [
    "the bit lengths of $\\zeta_{p}$ and $\\zeta_{q}$ are exactly as mentioned in the Pluto/Eris repo"
   ]
  },
  {
   "cell_type": "code",
   "execution_count": 152,
   "metadata": {},
   "outputs": [
    {
     "data": {
      "text/plain": [
       "(335, 336)"
      ]
     },
     "execution_count": 152,
     "metadata": {},
     "output_type": "execute_result"
    }
   ],
   "source": [
    "(Integer(zetap).bit_length(), Integer(zetaq).bit_length())"
   ]
  },
  {
   "cell_type": "markdown",
   "metadata": {},
   "source": [
    "we follow the method mentioned in:\n",
    "https://hackmd.io/@drouyang/glv\n",
    "and the papewer:\n",
    "https://www.iacr.org/archive/crypto2001/21390189.pdf"
   ]
  },
  {
   "cell_type": "code",
   "execution_count": 153,
   "metadata": {},
   "outputs": [],
   "source": [
    "def ext_euclidean(a, b):\n",
    "    assert a <= b\n",
    "    sqr_b = sqrt(b)\n",
    "    u = a\n",
    "    v = b\n",
    "    x1 = 1\n",
    "    y1 = 0\n",
    "    x2 = 0\n",
    "    y2 = 1\n",
    "\n",
    "    X = []\n",
    "    Y = []\n",
    "    R = []\n",
    "\n",
    "    flag = -1\n",
    "    i = -1\n",
    "    while not u == 0:\n",
    "        q = v // u\n",
    "        r = v - q * u\n",
    "        if flag == -1:\n",
    "            if r < sqr_b:\n",
    "                flag = i # exactly the largest index i such that R[i] >= sqrt_b\n",
    "        i = i + 1\n",
    "        R.append(r)  #R[i] = r\n",
    "        x = x2 - q * x1\n",
    "        X.append(x)\n",
    "        y = y2 - q * y1  # ax + by = d\n",
    "        Y.append(y)\n",
    "        v = u\n",
    "        u = r\n",
    "        x2 = x1\n",
    "        x1 = x\n",
    "        y2 = y1\n",
    "        y1 = y\n",
    "    \n",
    "    d = v\n",
    "    x = x2\n",
    "    y = y2\n",
    "    X.append(x)\n",
    "    Y.append(y)\n",
    "    R.append(0)\n",
    "\n",
    "    # ((r_l, t_l), (r_l_1, t_l_1), (r_l_2, t_l_2))\n",
    "    return ((R[flag], X[flag]), (R[flag + 1], X[flag + 1]), (R[flag + 2], X[flag + 2]))  "
   ]
  },
  {
   "cell_type": "code",
   "execution_count": 154,
   "metadata": {},
   "outputs": [],
   "source": [
    "def GLV(scalar, n):\n",
    "    ((r_l, t_l), (r_l_1, t_l_1), (r_l_2, t_l_2)) = ext_euclidean(scalar, n)\n",
    "    b_1 = t_l_1\n",
    "    a_1 = r_l_1\n",
    "    if (r_l^2 + t_l^2) <= (r_l_2^2 + t_l_2^2):\n",
    "        b_2 = -t_l\n",
    "        a_2 = r_l\n",
    "    else:\n",
    "        b_2 = -t_l_2\n",
    "        a_2 = r_l_2\n",
    "\n",
    "    return ((a_1, b_1), (a_2, b_2))  # two points: V1 and V2\n",
    "    "
   ]
  },
  {
   "cell_type": "code",
   "execution_count": 155,
   "metadata": {},
   "outputs": [
    {
     "data": {
      "text/plain": [
       "True"
      ]
     },
     "execution_count": 155,
     "metadata": {},
     "output_type": "execute_result"
    }
   ],
   "source": [
    "scalar = int(zetaq)\n",
    "n = q\n",
    "scalar <= n"
   ]
  },
  {
   "cell_type": "code",
   "execution_count": 156,
   "metadata": {},
   "outputs": [
    {
     "data": {
      "text/plain": [
       "((10109980000181507881941315432698595867678032121070705088304164896768,\n",
       "  -2596148429267416120109421314441215),\n",
       " (2596148429267416120109421314441215,\n",
       "  10109980000181507881941315432698593271529602853654584978882850455553),\n",
       " (1298074214633708060054710657220608,\n",
       "  -39370513046094319542878173447389507839705081407219197950272226675290439232619218660092434826173349887))"
      ]
     },
     "execution_count": 156,
     "metadata": {},
     "output_type": "execute_result"
    }
   ],
   "source": [
    "ext_euclidean(scalar, n)"
   ]
  },
  {
   "cell_type": "markdown",
   "metadata": {},
   "source": [
    "the output of GLV is $(b_1, b_2)$ whose counterpart for BN254 can be found in: \\\n",
    "https://github.com/privacy-scaling-explorations/halo2curves/blob/main/src/bn256/curve.rs#L124-L125 "
   ]
  },
  {
   "cell_type": "code",
   "execution_count": 157,
   "metadata": {},
   "outputs": [
    {
     "data": {
      "text/plain": [
       "(['0x3ffffde200000001',\n",
       "  '0x05ff0065a001ae51',\n",
       "  '0x0000300001968000',\n",
       "  '0x0000000060000000',\n",
       "  '0x0000000000000000',\n",
       "  '0x0000000000000000',\n",
       "  '0x0000000000000000'],\n",
       " ['0x2000010effffffff',\n",
       "  '0x0000800000000000',\n",
       "  '0x0000000000000000',\n",
       "  '0x0000000000000000',\n",
       "  '0x0000000000000000',\n",
       "  '0x0000000000000000',\n",
       "  '0x0000000000000000'])"
      ]
     },
     "execution_count": 157,
     "metadata": {},
     "output_type": "execute_result"
    }
   ],
   "source": [
    "((a1, b1), (a2, b2)) = GLV(scalar, n)\n",
    "(u_64_little_endian(b1), u_64_little_endian(b2))"
   ]
  },
  {
   "cell_type": "markdown",
   "metadata": {},
   "source": [
    "output gamma1 and gamma2 whose counterpart for BN256 can be found in: \\\n",
    "https://github.com/privacy-scaling-explorations/halo2curves/blob/main/src/bn256/curve.rs#L121-L123 \\\n",
    "note that we shift right in $448$ bits instead of $256$ bits as in BN256"
   ]
  },
  {
   "cell_type": "code",
   "execution_count": 158,
   "metadata": {},
   "outputs": [
    {
     "data": {
      "text/plain": [
       "['0xdf52222a6a19d56d',\n",
       " '0x2aae415b8e5c9500',\n",
       " '0xaaa955554a0aaaab',\n",
       " '0x00000002aaaaaaaa',\n",
       " '0x0000000000000000',\n",
       " '0x0000000000000000',\n",
       " '0x0000000000000000']"
      ]
     },
     "execution_count": 158,
     "metadata": {},
     "output_type": "execute_result"
    }
   ],
   "source": [
    "gamma1 = round(b1 * 2^448 / q )\n",
    "u_64_little_endian(gamma1)"
   ]
  },
  {
   "cell_type": "code",
   "execution_count": 159,
   "metadata": {},
   "outputs": [
    {
     "data": {
      "text/plain": [
       "['0xe38e224e38e4e395',\n",
       " '0x00038e38e38e38e0',\n",
       " '0x0000000000000000',\n",
       " '0x0000000000000000',\n",
       " '0x0000000000000000',\n",
       " '0x0000000000000000',\n",
       " '0x0000000000000000']"
      ]
     },
     "execution_count": 159,
     "metadata": {},
     "output_type": "execute_result"
    }
   ],
   "source": [
    "gamma2 = round(b2 * 2^448 / q )\n",
    "u_64_little_endian(gamma2)"
   ]
  },
  {
   "cell_type": "markdown",
   "metadata": {},
   "source": [
    "given an arbitrary scalar $k$, we use GLV method to decompose: \\\n",
    "$k = k_1 + k_2 \\times \\zeta$\n",
    "where $k_1, k_2$ are almost the half bit length of $k$ (recall $k$ with $446$ bits)"
   ]
  },
  {
   "cell_type": "code",
   "execution_count": 160,
   "metadata": {},
   "outputs": [],
   "source": [
    "def decompose(k):\n",
    "    c1_ = gamma2 * k\n",
    "    c2_ = gamma1 * k\n",
    "    c1 = c1_ >> 448\n",
    "    c2 = c2_ >> 448\n",
    "    q1 = c1 * b1\n",
    "    q2 = c2 * b2\n",
    "    k2 = q1 - q2\n",
    "    k1 = k - c1 * a1 - c2 * a2\n",
    "    return ((k1.bit_length(), k2.bit_length()), Fq(k) == Fq(k1 + k2 * int(zetaq)))\n",
    "    "
   ]
  },
  {
   "cell_type": "code",
   "execution_count": 161,
   "metadata": {},
   "outputs": [
    {
     "data": {
      "text/plain": [
       "((220, 222), True)"
      ]
     },
     "execution_count": 161,
     "metadata": {},
     "output_type": "execute_result"
    }
   ],
   "source": [
    "k = int(Fq.random_element())\n",
    "assert k.bit_length() <= 447\n",
    "decompose(k)"
   ]
  },
  {
   "cell_type": "markdown",
   "metadata": {},
   "source": [
    "co_factor used for the group $\\mathbb{G}_{2}$, the counterpart for BN256 is here: \\\n",
    "https://github.com/privacy-scaling-explorations/halo2curves/blob/pluto_eris/src/bn256/curve.rs#L168\n"
   ]
  },
  {
   "cell_type": "code",
   "execution_count": 162,
   "metadata": {},
   "outputs": [
    {
     "data": {
      "text/plain": [
       "'0x24000000000024000130e0000d7f70e4a803ca76f439266f443f9a5d3a8a6c7be4a7d5fe91447fd6a8a7e928a00867971ffffcd300000001'"
      ]
     },
     "execution_count": 162,
     "metadata": {},
     "output_type": "execute_result"
    }
   ],
   "source": [
    "co_factor = 2 * p - q\n",
    "hex(co_factor)"
   ]
  },
  {
   "cell_type": "markdown",
   "metadata": {},
   "source": [
    "const used for _is_tortion_free_, the counterpart for BN256 is here: \\\n",
    "https://github.com/privacy-scaling-explorations/halo2curves/blob/pluto_eris/src/bn256/curve.rs#L193"
   ]
  },
  {
   "cell_type": "code",
   "execution_count": 163,
   "metadata": {},
   "outputs": [
    {
     "data": {
      "text/plain": [
       "'0x24000000000024000130e0000d7f70e4a803ca76f439266f443f9a5c7a8a6c7be4a775fe8e177fd69ca7e85d60050af41ffffcd300000001'"
      ]
     },
     "execution_count": 163,
     "metadata": {},
     "output_type": "execute_result"
    }
   ],
   "source": [
    "hex(q)"
   ]
  },
  {
   "cell_type": "code",
   "execution_count": 164,
   "metadata": {},
   "outputs": [
    {
     "data": {
      "text/plain": [
       "'0x9ffffcd2ffffffff'"
      ]
     },
     "execution_count": 164,
     "metadata": {},
     "output_type": "execute_result"
    }
   ],
   "source": [
    "M = inverse_mod(p, 2^(64))\n",
    "hex(-M + 2^(64))"
   ]
  },
  {
   "cell_type": "code",
   "execution_count": 165,
   "metadata": {},
   "outputs": [
    {
     "data": {
      "text/plain": [
       "['0x0000000000000039',\n",
       " '0x0000000000000000',\n",
       " '0x0000000000000000',\n",
       " '0x0000000000000000',\n",
       " '0x0000000000000000',\n",
       " '0x0000000000000000',\n",
       " '0x0000000000000000']"
      ]
     },
     "execution_count": 165,
     "metadata": {},
     "output_type": "execute_result"
    }
   ],
   "source": [
    "u_64_little_endian(57)"
   ]
  },
  {
   "cell_type": "code",
   "execution_count": 166,
   "metadata": {},
   "outputs": [],
   "source": [
    "# for x in range(p):\n",
    "#     if kronecker(x*x*x + 57, p) == 1:\n",
    "#         print(x)\n",
    "#         break"
   ]
  },
  {
   "cell_type": "code",
   "execution_count": 167,
   "metadata": {},
   "outputs": [
    {
     "data": {
      "text/plain": [
       "1"
      ]
     },
     "execution_count": 167,
     "metadata": {},
     "output_type": "execute_result"
    }
   ],
   "source": [
    "two_adicity_factor_Fp = (p - 1) / 2^(32)\n",
    "two_adicity_factor_Fp % 2"
   ]
  },
  {
   "cell_type": "code",
   "execution_count": 168,
   "metadata": {},
   "outputs": [
    {
     "data": {
      "text/plain": [
       "1"
      ]
     },
     "execution_count": 168,
     "metadata": {},
     "output_type": "execute_result"
    }
   ],
   "source": [
    "Fp(10)^(p-1)"
   ]
  },
  {
   "cell_type": "code",
   "execution_count": 169,
   "metadata": {},
   "outputs": [
    {
     "data": {
      "text/plain": [
       "8025472862114844456838418029263901839040294958599644306134008217464912571547919166926181024175725358166481996067595519732360402055313"
      ]
     },
     "execution_count": 169,
     "metadata": {},
     "output_type": "execute_result"
    }
   ],
   "source": [
    "Fp(10)^(two_adicity_factor_Fp)"
   ]
  },
  {
   "cell_type": "code",
   "execution_count": 170,
   "metadata": {},
   "outputs": [
    {
     "data": {
      "text/plain": [
       "1"
      ]
     },
     "execution_count": 170,
     "metadata": {},
     "output_type": "execute_result"
    }
   ],
   "source": [
    "two_adicity_factor_Fq = (q - 1)/2^(32)\n",
    "two_adicity_factor_Fq % 2"
   ]
  },
  {
   "cell_type": "code",
   "execution_count": 171,
   "metadata": {},
   "outputs": [
    {
     "data": {
      "text/plain": [
       "1"
      ]
     },
     "execution_count": 171,
     "metadata": {},
     "output_type": "execute_result"
    }
   ],
   "source": [
    "Fq(7)^(q-1)"
   ]
  },
  {
   "cell_type": "code",
   "execution_count": 172,
   "metadata": {},
   "outputs": [
    {
     "data": {
      "text/plain": [
       "1"
      ]
     },
     "execution_count": 172,
     "metadata": {},
     "output_type": "execute_result"
    }
   ],
   "source": [
    "Fp(19)^(p-1)"
   ]
  },
  {
   "cell_type": "code",
   "execution_count": 173,
   "metadata": {},
   "outputs": [
    {
     "data": {
      "text/plain": [
       "1"
      ]
     },
     "execution_count": 173,
     "metadata": {},
     "output_type": "execute_result"
    }
   ],
   "source": [
    "Fq(19)^(q-1)"
   ]
  },
  {
   "cell_type": "code",
   "execution_count": 174,
   "metadata": {},
   "outputs": [
    {
     "data": {
      "text/plain": [
       "-1298074214633708060054710657220608"
      ]
     },
     "execution_count": 174,
     "metadata": {},
     "output_type": "execute_result"
    }
   ],
   "source": [
    "u_str = \"-0x4000000000001000008780000000\"\n",
    "u = int(u_str, 16)\n",
    "u\n",
    "# p = 36 * u^4 + 36 * u^3 + 24 * u^2 + 6 * u + 1\n",
    "# hex(p)"
   ]
  },
  {
   "cell_type": "code",
   "execution_count": null,
   "metadata": {},
   "outputs": [],
   "source": []
  }
 ],
 "metadata": {
  "kernelspec": {
   "display_name": "SageMath 10.0",
   "language": "sage",
   "name": "sagemath"
  },
  "language_info": {
   "codemirror_mode": {
    "name": "ipython",
    "version": 3
   },
   "file_extension": ".py",
   "mimetype": "text/x-python",
   "name": "python",
   "nbconvert_exporter": "python",
   "pygments_lexer": "ipython3",
   "version": "3.11.3"
  }
 },
 "nbformat": 4,
 "nbformat_minor": 2
}
