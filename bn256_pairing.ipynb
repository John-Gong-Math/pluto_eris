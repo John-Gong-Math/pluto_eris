{
 "cells": [
  {
   "cell_type": "markdown",
   "metadata": {},
   "source": [
    "## Constants in BN256 \n",
    "\n",
    "repo: https://github.com/privacy-scaling-explorations/halo2curves/tree/main/src/bn256 , https://github.com/Consensys/gnark-crypto/tree/v0.12.0/ecc/bn254 \\\n",
    "paper: https://eprint.iacr.org/2010/354.pdf"
   ]
  },
  {
   "cell_type": "markdown",
   "metadata": {},
   "source": [
    "Given an integer $n < 2^{256}$, return its 4 limbs where the first limb is the least significant one.\\\n",
    "Each limb is 64 bits long in big endian."
   ]
  },
  {
   "cell_type": "code",
   "execution_count": 35,
   "metadata": {},
   "outputs": [],
   "source": [
    "def u_64_little_endian(n):\n",
    "    str_hex = hex(n)\n",
    "    str_hex_without_0x = str_hex[2:]\n",
    "    full_width_str = '0' * (64 - len(str_hex_without_0x)) + str_hex_without_0x\n",
    "    assert len(full_width_str) == 64\n",
    "\n",
    "    res = []\n",
    "    for i in range(4):\n",
    "        temp = '0x' + full_width_str[64 - 16 * (i + 1) : 64 - 16 * i]\n",
    "        res.append(temp)\n",
    "    return res"
   ]
  },
  {
   "cell_type": "markdown",
   "metadata": {},
   "source": [
    "Convert a given integer into its little endian NAF form.\\\n",
    "Definition of NAF form: https://en.wikipedia.org/wiki/Non-adjacent_form"
   ]
  },
  {
   "cell_type": "code",
   "execution_count": 36,
   "metadata": {},
   "outputs": [],
   "source": [
    "def naf_representation(n):\n",
    "    naf = []\n",
    "    while n > 0:\n",
    "        if n % 2 == 1:\n",
    "            # If n is odd, set the current digit as 2 - (n mod 4).\n",
    "            digit = 2 - (n % 4)\n",
    "            n -= digit\n",
    "        else:\n",
    "            # If n is even, set the current digit as 0.\n",
    "            digit = 0\n",
    "        naf.append(digit)\n",
    "        n //= 2\n",
    "    return naf\n",
    "\n",
    "# Example usage:\n",
    "# decimal_number = 7\n",
    "# naf = naf_representation(decimal_number)\n",
    "# print(naf): [-1, 0, 0, 1]"
   ]
  },
  {
   "cell_type": "code",
   "execution_count": 37,
   "metadata": {},
   "outputs": [
    {
     "name": "stdout",
     "output_type": "stream",
     "text": [
      "[-1, 0, 0, 1]\n"
     ]
    }
   ],
   "source": [
    "print(naf_representation(7))"
   ]
  },
  {
   "cell_type": "markdown",
   "metadata": {},
   "source": [
    "### The Base Field $\\mathbb{F}_q$\n",
    "seed $U = 4965661367192848881$ \\\n",
    "the base field size $q = 36 U^4 + 36 U^3 + 24 U^2 + 6 U + 1$"
   ]
  },
  {
   "cell_type": "code",
   "execution_count": 38,
   "metadata": {},
   "outputs": [
    {
     "data": {
      "text/plain": [
       "'0x30644e72e131a029b85045b68181585d97816a916871ca8d3c208c16d87cfd47'"
      ]
     },
     "execution_count": 38,
     "metadata": {},
     "output_type": "execute_result"
    }
   ],
   "source": [
    "U = 4965661367192848881\n",
    "q_int = 36 * U**4 + 36 * U**3 + 24 * U**2 + 6 * U + 1\n",
    "hex(q_int)"
   ]
  },
  {
   "cell_type": "code",
   "execution_count": 39,
   "metadata": {},
   "outputs": [
    {
     "data": {
      "text/plain": [
       "63"
      ]
     },
     "execution_count": 39,
     "metadata": {},
     "output_type": "execute_result"
    }
   ],
   "source": [
    "U.bit_length()"
   ]
  },
  {
   "cell_type": "code",
   "execution_count": 40,
   "metadata": {},
   "outputs": [
    {
     "data": {
      "text/plain": [
       "3"
      ]
     },
     "execution_count": 40,
     "metadata": {},
     "output_type": "execute_result"
    }
   ],
   "source": [
    "Z = 4\n",
    "Z.bit_length()"
   ]
  },
  {
   "cell_type": "markdown",
   "metadata": {},
   "source": [
    "limbs of $q$: https://github.com/privacy-scaling-explorations/halo2curves/blob/main/src/bn256/fq.rs#L34-L40 "
   ]
  },
  {
   "cell_type": "code",
   "execution_count": 41,
   "metadata": {},
   "outputs": [
    {
     "data": {
      "text/plain": [
       "['0x3c208c16d87cfd47',\n",
       " '0x97816a916871ca8d',\n",
       " '0xb85045b68181585d',\n",
       " '0x30644e72e131a029']"
      ]
     },
     "execution_count": 41,
     "metadata": {},
     "output_type": "execute_result"
    }
   ],
   "source": [
    "u_64_little_endian(q_int)  "
   ]
  },
  {
   "cell_type": "code",
   "execution_count": 42,
   "metadata": {},
   "outputs": [
    {
     "data": {
      "text/plain": [
       "Finite Field of size 21888242871839275222246405745257275088696311157297823662689037894645226208583"
      ]
     },
     "execution_count": 42,
     "metadata": {},
     "output_type": "execute_result"
    }
   ],
   "source": [
    "Fq = GF(q_int)\n",
    "Fq"
   ]
  },
  {
   "cell_type": "markdown",
   "metadata": {},
   "source": [
    "### The Montgomery constant used in $\\mathbb{F}_q: R = 2^{256} \\text{ mod } q$"
   ]
  },
  {
   "cell_type": "code",
   "execution_count": 43,
   "metadata": {},
   "outputs": [
    {
     "data": {
      "text/plain": [
       "6350874878119819312338956282401532409788428879151445726012394534686998597021"
      ]
     },
     "execution_count": 43,
     "metadata": {},
     "output_type": "execute_result"
    }
   ],
   "source": [
    "R = Fq(2**256)\n",
    "R"
   ]
  },
  {
   "cell_type": "markdown",
   "metadata": {},
   "source": [
    "### The Scalar Field $\\mathbb{F}_r$\n",
    "the scalar field size $r = 36 U^4 + 36 U^3 + 18 U^2 + 6 U+1$"
   ]
  },
  {
   "cell_type": "code",
   "execution_count": 44,
   "metadata": {},
   "outputs": [
    {
     "data": {
      "text/plain": [
       "'0x30644e72e131a029b85045b68181585d2833e84879b9709143e1f593f0000001'"
      ]
     },
     "execution_count": 44,
     "metadata": {},
     "output_type": "execute_result"
    }
   ],
   "source": [
    "r_int = 36 * U**4 + 36 * U**3 + 18 * U**2 + 6 * U + 1\n",
    "hex(r_int)"
   ]
  },
  {
   "cell_type": "markdown",
   "metadata": {},
   "source": [
    "limbs of $r$: https://github.com/privacy-scaling-explorations/halo2curves/blob/main/src/bn256/fr.rs#L49-L55"
   ]
  },
  {
   "cell_type": "code",
   "execution_count": 45,
   "metadata": {},
   "outputs": [
    {
     "data": {
      "text/plain": [
       "['0x43e1f593f0000001',\n",
       " '0x2833e84879b97091',\n",
       " '0xb85045b68181585d',\n",
       " '0x30644e72e131a029']"
      ]
     },
     "execution_count": 45,
     "metadata": {},
     "output_type": "execute_result"
    }
   ],
   "source": [
    "u_64_little_endian(r_int)"
   ]
  },
  {
   "cell_type": "code",
   "execution_count": 46,
   "metadata": {},
   "outputs": [
    {
     "data": {
      "text/plain": [
       "Finite Field of size 21888242871839275222246405745257275088548364400416034343698204186575808495617"
      ]
     },
     "execution_count": 46,
     "metadata": {},
     "output_type": "execute_result"
    }
   ],
   "source": [
    "Fr = GF(r_int)\n",
    "Fr"
   ]
  },
  {
   "cell_type": "markdown",
   "metadata": {},
   "source": [
    "### The field $\\mathbb{F}_{q^2}$"
   ]
  },
  {
   "cell_type": "markdown",
   "metadata": {},
   "source": [
    "$\\mathbb{F}_{q^2} = \\mathbb{F}_q[u] = \\mathbb{F}_q[X] / (X^2 + 1)$ where $X^2 + 1$ is irreducible in $\\mathbb{F}_q[X]$ "
   ]
  },
  {
   "cell_type": "markdown",
   "metadata": {},
   "source": [
    "defined in the repo: https://github.com/privacy-scaling-explorations/halo2curves/blob/main/src/bn256/fq2.rs#L13"
   ]
  },
  {
   "cell_type": "code",
   "execution_count": 47,
   "metadata": {},
   "outputs": [
    {
     "data": {
      "text/plain": [
       "True"
      ]
     },
     "execution_count": 47,
     "metadata": {},
     "output_type": "execute_result"
    }
   ],
   "source": [
    "Rq = PolynomialRing(Fq, \"x\")\n",
    "x = Rq.gen()\n",
    "(x^2 + 1).is_irreducible()"
   ]
  },
  {
   "cell_type": "markdown",
   "metadata": {},
   "source": [
    "Construct the finite field $\\mathbb{F}_{q^2}$ from $\\mathbb{F}_{q}$ in $u$ such that $u^2 + 1 = 0$"
   ]
  },
  {
   "cell_type": "code",
   "execution_count": 48,
   "metadata": {},
   "outputs": [
    {
     "data": {
      "text/plain": [
       "Finite Field in u of size 21888242871839275222246405745257275088696311157297823662689037894645226208583^2"
      ]
     },
     "execution_count": 48,
     "metadata": {},
     "output_type": "execute_result"
    }
   ],
   "source": [
    "Fq2.<u> = Fq.extension(x^2 + 1 )\n",
    "Fq2"
   ]
  },
  {
   "cell_type": "code",
   "execution_count": 49,
   "metadata": {},
   "outputs": [
    {
     "data": {
      "text/plain": [
       "True"
      ]
     },
     "execution_count": 49,
     "metadata": {},
     "output_type": "execute_result"
    }
   ],
   "source": [
    "# Check the identity\n",
    "u**2 + 1 == 0"
   ]
  },
  {
   "cell_type": "code",
   "execution_count": 50,
   "metadata": {},
   "outputs": [
    {
     "data": {
      "text/plain": [
       "21888242871839275222246405745257275088696311157297823662689037894645226208582"
      ]
     },
     "execution_count": 50,
     "metadata": {},
     "output_type": "execute_result"
    }
   ],
   "source": [
    "(u + 9)**((q_int**2 - 1)/2)"
   ]
  },
  {
   "cell_type": "markdown",
   "metadata": {},
   "source": [
    "### The twisted curve defined by $E': Y^2 = X^3 + 3/(u + 9)$\n",
    "This curve is renamed by $\\mathbb{G}_2$ in the repo. Notice the rational points $E(\\mathbb{F}_{q})$ is a cyclic group with prime order $r$ wrt BN curves, but in general it is not true. \\ Thus we'd better distinguish the curve and its underlining group. "
   ]
  },
  {
   "cell_type": "markdown",
   "metadata": {},
   "source": [
    "the coefficient $3 / (u + 9)$ is defined: https://github.com/privacy-scaling-explorations/halo2curves/blob/main/src/bn256/curve.rs#L69-L82\n"
   ]
  },
  {
   "cell_type": "code",
   "execution_count": 51,
   "metadata": {},
   "outputs": [
    {
     "data": {
      "text/plain": [
       "266929791119991161246907387137283842545076965332900288569378510910307636690*u + 19485874751759354771024239261021720505790618469301721065564631296452457478373"
      ]
     },
     "execution_count": 51,
     "metadata": {},
     "output_type": "execute_result"
    }
   ],
   "source": [
    "3 * (u + 9)**(-1)"
   ]
  },
  {
   "cell_type": "code",
   "execution_count": 52,
   "metadata": {},
   "outputs": [
    {
     "data": {
      "text/plain": [
       "['0x3267e6dc24a138e5',\n",
       " '0xb5b4c5e559dbefa3',\n",
       " '0x81be18991be06ac3',\n",
       " '0x2b149d40ceb8aaae']"
      ]
     },
     "execution_count": 52,
     "metadata": {},
     "output_type": "execute_result"
    }
   ],
   "source": [
    "# c0\n",
    "u_64_little_endian(19485874751759354771024239261021720505790618469301721065564631296452457478373)"
   ]
  },
  {
   "cell_type": "code",
   "execution_count": 53,
   "metadata": {},
   "outputs": [
    {
     "data": {
      "text/plain": [
       "['0xe4a2bd0685c315d2',\n",
       " '0xa74fa084e52d1852',\n",
       " '0xcd2cafadeed8fdf4',\n",
       " '0x009713b03af0fed4']"
      ]
     },
     "execution_count": 53,
     "metadata": {},
     "output_type": "execute_result"
    }
   ],
   "source": [
    "# c1\n",
    "u_64_little_endian(266929791119991161246907387137283842545076965332900288569378510910307636690)"
   ]
  },
  {
   "cell_type": "markdown",
   "metadata": {},
   "source": [
    "### The field $\\mathbb{F}_{q^6}$\n",
    "$\\mathbb{F}_{q^6} = \\mathbb{F}_{q^2}[v] = \\mathbb{F}_{q^2}[X] / (X^3 - (u + 9))$ where $X^3 - (u + 9)$ is irreducible in $\\mathbb{F}_{q^2}[X]$"
   ]
  },
  {
   "cell_type": "markdown",
   "metadata": {},
   "source": [
    "Definition can be checked: https://github.com/privacy-scaling-explorations/halo2curves/blob/main/src/bn256/fq6.rs#L8-L10"
   ]
  },
  {
   "cell_type": "code",
   "execution_count": 54,
   "metadata": {},
   "outputs": [
    {
     "data": {
      "text/plain": [
       "True"
      ]
     },
     "execution_count": 54,
     "metadata": {},
     "output_type": "execute_result"
    }
   ],
   "source": [
    "Rq2 = PolynomialRing(Fq2, \"x\")\n",
    "x = Rq2.gen()\n",
    "(x^3 - (u + 9)).is_irreducible()"
   ]
  },
  {
   "cell_type": "markdown",
   "metadata": {},
   "source": [
    "Construct the field $\\mathbb{F}_{q^6}$ in $v$ by the polynomial quotient ring $\\mathbb{F}_{p^2}[X] / (X^3 - (u + 9))$. \\\n",
    "Sagemath doesn't provide a method of constructing extention fields over non-prime base field.\n"
   ]
  },
  {
   "cell_type": "code",
   "execution_count": 55,
   "metadata": {},
   "outputs": [
    {
     "data": {
      "text/plain": [
       "Univariate Quotient Polynomial Ring in v over Finite Field in u of size 21888242871839275222246405745257275088696311157297823662689037894645226208583^2 with modulus v^3 + 21888242871839275222246405745257275088696311157297823662689037894645226208582*u + 21888242871839275222246405745257275088696311157297823662689037894645226208574"
      ]
     },
     "execution_count": 55,
     "metadata": {},
     "output_type": "execute_result"
    }
   ],
   "source": [
    "Fq6.<v> = Fq2.extension(x^3 - (u + 9))\n",
    "Fq6"
   ]
  },
  {
   "cell_type": "code",
   "execution_count": 56,
   "metadata": {},
   "outputs": [
    {
     "data": {
      "text/plain": [
       "True"
      ]
     },
     "execution_count": 56,
     "metadata": {},
     "output_type": "execute_result"
    }
   ],
   "source": [
    "# Check Fq6 is indeed field\n",
    "Fq6.is_field()"
   ]
  },
  {
   "cell_type": "code",
   "execution_count": 57,
   "metadata": {},
   "outputs": [
    {
     "data": {
      "text/plain": [
       "True"
      ]
     },
     "execution_count": 57,
     "metadata": {},
     "output_type": "execute_result"
    }
   ],
   "source": [
    "# Check the identity\n",
    "v^3 - (u + 9) == 0"
   ]
  },
  {
   "cell_type": "markdown",
   "metadata": {},
   "source": [
    "Note that the non-cubic residue $u + 9$ is not arbitrarily chosen. It is closely related to the equation of the curve:\n",
    "$$E / \\mathbb{F}_p: Y^2 = X^3 + 3$$\n",
    "and the twisted curve :\n",
    "$$E' / \\mathbb{F}_{p^2}: Y^2 = X^3 + 3/(u + 9)$$\n",
    "See the reference: https://github.com/Consensys/gnark-crypto/blob/v0.12.0/ecc/bn254/bn254.go#L23-L24 \\\n",
    "More precisely, the isomorphism is defined by\n",
    "$$\\Phi: E' \\rightarrow E: \\quad (x, y) \\mapsto (x \\cdot (u + 9)^{1/3}, y \\cdot (u + 9)^{1/2})$$\n",
    "and\n",
    "$$\\Phi^{-1}: E \\rightarrow E': \\quad (x, y) \\mapsto (x / (u + 9)^{1/3}, y / (u + 9)^{1/2})$$\n",
    "See more details in Section 3 regarding D-type twist in paper: http://indigo.ie/~mscott/twists.pdf"
   ]
  },
  {
   "cell_type": "markdown",
   "metadata": {},
   "source": [
    "### The field $\\mathbb{F}_q^{12}$\n",
    "$\\mathbb{F}_{q^{12}} = \\mathbb{F}_{q^6}[w] = \\mathbb{F}_{q^6}[X] / (X^2 - v)$ where $X^2 - v$ is irreducible in $\\mathbb{F}_{q^6}[X]$ \\\n",
    "We may use the following constructor to construct $\\mathbb{F}_{q^{12}}$ as usual, but it turns out too slow:\n"
   ]
  },
  {
   "cell_type": "code",
   "execution_count": 58,
   "metadata": {},
   "outputs": [],
   "source": [
    "# Rq6 = PolynomialRing(Fq6, \"x\")\n",
    "# x = Rq6.gen()\n",
    "# (x^2 - v).is_irreducible()\n",
    "# Fq12 = Rq6.quotient(x^2 - v)\n",
    "# Fq12"
   ]
  },
  {
   "cell_type": "markdown",
   "metadata": {},
   "source": [
    "Instead, let's check it manually. It suffices to prove $X^2 - v$ is irreducible over $\\mathbb{F}_{q^6}[X]$, in other words\n",
    "$v$ is not a quadratic residue over $\\mathbb{F}_{q^6}$. Otherwise, there is an element $p(v) = a_0 + a_1 \\cdot v + a_2 \\cdot v^2 \\in \\mathbb{F}_{q^6}$ such that\n",
    "$$p(v)^2 = v \\text{ over } \\mathbb{F}_{q^6}$$\n",
    "Equivalently, there exists $p(X) = a_0 + a_1 \\cdot X + a_2 \\cdot X^2 \\in \\mathbb{F}_{q^2}[X]$ such that\n",
    "$$ X^3 - (u + 9) \\;| \\; p(X)^2 - X \\text{ over } \\mathbb{F}_{q^2}[X]$$\n",
    "It is clear that there is no such a $p(X) \\in \\mathbb{F}_{q^2}[X]$.\n"
   ]
  },
  {
   "cell_type": "markdown",
   "metadata": {},
   "source": [
    "### The const FROBENIUS_COEFF_FQ6_C1[1]\n",
    "used in the pairing: https://github.com/privacy-scaling-explorations/halo2curves/blob/main/src/bn256/engine.rs#L432"
   ]
  },
  {
   "cell_type": "markdown",
   "metadata": {},
   "source": [
    "In fact, the list FROBENIUS_COEFF_FQ6_C1 = $[\\gamma_{10}. \\gamma_{11}, \\dots, \\gamma_{15}]$ such that for the Frobenius morphism $\\pi$:\n",
    "$$\\pi^i(v) = \\gamma_{1i} \\cdot v \\quad \\text{ for } i = 0, 1, \\dots, 5$$\n",
    "where $\\pi$ has order $6$ in the group $Gal(\\mathbb{F}_{q^6} / \\mathbb{F}_q)$ and $\\mathbb{F}_{q^6} = \\mathbb{F}_{q^{2}}[v]$."
   ]
  },
  {
   "cell_type": "markdown",
   "metadata": {},
   "source": [
    "Notice $\\{ 1, v, v^2\\}$ is a basis for the $\\mathbb{F}_{q^2}$-vector space $\\mathbb{F}_{q^6}$, regarding the images of $v^2$, the list FROBENIUS_COEFF_FQ6_C2 = $[\\gamma_{20}. \\gamma_{21}, \\dots, \\gamma_{25}]$ is defined by:\n",
    "$$\\pi^i(v^2) = \\gamma_{2i} \\cdot v^2 \\quad \\text{ for } i = 0, 1, \\dots, 5$$"
   ]
  },
  {
   "cell_type": "markdown",
   "metadata": {},
   "source": [
    "For $v = (u + 9)^{1/3}$, we have\n",
    "$$\\pi(v) = (u + 9)^{q/3} = (u + 9)^{(q-1)/3} \\cdot (u + 9)^{1/3} = (u + 9)^{(q-1)/3} \\cdot v$$\n",
    "hence $\\gamma_{11} = (u + 9)^{(q-1)/3}$"
   ]
  },
  {
   "cell_type": "markdown",
   "metadata": {},
   "source": [
    "The constant can be found: https://github.com/privacy-scaling-explorations/halo2curves/blob/main/src/bn256/fq6.rs#L443-L456 \\\n",
    "To get its representation in $\\mathbb{F}_q$, don't forget to multiply the Montgomery const $R$."
   ]
  },
  {
   "cell_type": "code",
   "execution_count": 59,
   "metadata": {},
   "outputs": [
    {
     "data": {
      "text/plain": [
       "10307601595873709700152284273816112264069230130616436755625194854815875713954*u + 21575463638280843010398324269430826099269044274347216827212613867836435027261"
      ]
     },
     "execution_count": 59,
     "metadata": {},
     "output_type": "execute_result"
    }
   ],
   "source": [
    "\n",
    "(u + 9)**((q_int-1)/3)"
   ]
  },
  {
   "cell_type": "markdown",
   "metadata": {},
   "source": [
    "Its second component c0 = 21575463638280843010398324269430826099269044274347216827212613867836435027261,\n",
    "multiplied by the Montgomery const:\\\n",
    "https://github.com/privacy-scaling-explorations/halo2curves/blob/main/src/bn256/fq6.rs#L449-L454:"
   ]
  },
  {
   "cell_type": "code",
   "execution_count": 60,
   "metadata": {},
   "outputs": [
    {
     "data": {
      "text/plain": [
       "['0xb5773b104563ab30',\n",
       " '0x347f91c8a9aa6454',\n",
       " '0x7a007127242e0991',\n",
       " '0x1956bcd8118214ec']"
      ]
     },
     "execution_count": 60,
     "metadata": {},
     "output_type": "execute_result"
    }
   ],
   "source": [
    "u_64_little_endian(Fq(21575463638280843010398324269430826099269044274347216827212613867836435027261 * R))"
   ]
  },
  {
   "cell_type": "markdown",
   "metadata": {},
   "source": [
    "Its first component c1 = 10307601595873709700152284273816112264069230130616436755625194854815875713954, \\\n",
    "multiplied by the the Montgomery const $R$: \\\n",
    "https://github.com/privacy-scaling-explorations/halo2curves/blob/main/src/bn256/fq6.rs#L455-L460"
   ]
  },
  {
   "cell_type": "code",
   "execution_count": 61,
   "metadata": {},
   "outputs": [
    {
     "data": {
      "text/plain": [
       "['0x6e849f1ea0aa4757',\n",
       " '0xaa1c7b6d89f89141',\n",
       " '0xb6e713cdfae0ca3a',\n",
       " '0x26694fbb4e82ebc3']"
      ]
     },
     "execution_count": 61,
     "metadata": {},
     "output_type": "execute_result"
    }
   ],
   "source": [
    "u_64_little_endian(10307601595873709700152284273816112264069230130616436755625194854815875713954 * R)"
   ]
  },
  {
   "cell_type": "markdown",
   "metadata": {},
   "source": [
    "### The const FROBENIUS_COEFF_FQ6_C1[2] \n",
    "used in the pairing: https://github.com/privacy-scaling-explorations/halo2curves/blob/main/src/bn256/engine.rs#L440 "
   ]
  },
  {
   "cell_type": "markdown",
   "metadata": {},
   "source": [
    "By the above discussion, we need to compute the constant $\\gamma_{12}$ such that $\\pi^2(v) = \\gamma_{12} \\cdot v$. It is clear\n",
    "$$\\pi \\circ \\pi(v) = \\pi(\\gamma_{11} \\cdot v) = \\overline{\\gamma}_{11} \\cdot \\pi(v) = \\overline{\\gamma}_{11} \\cdot \\gamma_{11} \\cdot v$$\n",
    "since $\\gamma_{11} \\in \\mathbb{F}_{q^2}$ and the Frobenius over $\\mathbb{F}_{q^2}$ is equivalent to conjugation. Hence\n",
    "$\\gamma_{12} = \\overline{\\gamma}_{11} \\cdot \\gamma_{11} = (u + 9)^{((q^2 - q) + q - 1)/3} = (u + 9)^{(q^2 - 1)/3}$."
   ]
  },
  {
   "cell_type": "markdown",
   "metadata": {},
   "source": [
    "This constant can be found: https://github.com/privacy-scaling-explorations/halo2curves/blob/main/src/bn256/fq6.rs#L457-L466"
   ]
  },
  {
   "cell_type": "code",
   "execution_count": 62,
   "metadata": {},
   "outputs": [
    {
     "data": {
      "text/plain": [
       "21888242871839275220042445260109153167277707414472061641714758635765020556616"
      ]
     },
     "execution_count": 62,
     "metadata": {},
     "output_type": "execute_result"
    }
   ],
   "source": [
    "(u + 9)**((q_int**2-1)/3)"
   ]
  },
  {
   "cell_type": "markdown",
   "metadata": {},
   "source": [
    "Its second component c0 = 21888242871839275220042445260109153167277707414472061641714758635765020556616, \\\n",
    "multiplied by the Montgomery const $R$: \\\n",
    "https://github.com/privacy-scaling-explorations/halo2curves/blob/main/src/bn256/fq6.rs#L464-L470"
   ]
  },
  {
   "cell_type": "code",
   "execution_count": 63,
   "metadata": {},
   "outputs": [
    {
     "data": {
      "text/plain": [
       "['0x3350c88e13e80b9c',\n",
       " '0x7dce557cdb5e56b9',\n",
       " '0x6001b4b8b615564a',\n",
       " '0x2682e617020217e0']"
      ]
     },
     "execution_count": 63,
     "metadata": {},
     "output_type": "execute_result"
    }
   ],
   "source": [
    "u_64_little_endian(21888242871839275220042445260109153167277707414472061641714758635765020556616 * R)"
   ]
  },
  {
   "cell_type": "markdown",
   "metadata": {},
   "source": [
    "and the first component c1 = 0, \\\n",
    "https://github.com/privacy-scaling-explorations/halo2curves/blob/main/src/bn256/fq6.rs#L471"
   ]
  },
  {
   "cell_type": "markdown",
   "metadata": {},
   "source": [
    "### The const XI_TO_Q_MINUS_1_OVER_2\n",
    "used in the pairing\\\n",
    "https://github.com/privacy-scaling-explorations/halo2curves/blob/main/src/bn256/engine.rs#L435"
   ]
  },
  {
   "cell_type": "code",
   "execution_count": 64,
   "metadata": {},
   "outputs": [
    {
     "data": {
      "text/plain": [
       "3505843767911556378687030309984248845540243509899259641013678093033130930403*u + 2821565182194536844548159561693502659359617185244120367078079554186484126554"
      ]
     },
     "execution_count": 64,
     "metadata": {},
     "output_type": "execute_result"
    }
   ],
   "source": [
    "(u + 9)**((q_int-1)/2)"
   ]
  },
  {
   "cell_type": "markdown",
   "metadata": {},
   "source": [
    "Its second component c0 = 2821565182194536844548159561693502659359617185244120367078079554186484126554, \\\n",
    "multiplied by the Montgomery const $R$:\n",
    "https://github.com/privacy-scaling-explorations/halo2curves/blob/main/src/bn256/engine.rs#L28-L33"
   ]
  },
  {
   "cell_type": "code",
   "execution_count": 65,
   "metadata": {},
   "outputs": [
    {
     "data": {
      "text/plain": [
       "['0xe4bbdd0c2936b629',\n",
       " '0xbb30f162e133bacb',\n",
       " '0x31a9d1b6f9645366',\n",
       " '0x253570bea500f8dd']"
      ]
     },
     "execution_count": 65,
     "metadata": {},
     "output_type": "execute_result"
    }
   ],
   "source": [
    "u_64_little_endian(2821565182194536844548159561693502659359617185244120367078079554186484126554 * R)\n"
   ]
  },
  {
   "cell_type": "markdown",
   "metadata": {},
   "source": [
    "Its first component c1 = 3505843767911556378687030309984248845540243509899259641013678093033130930403, \\\n",
    "multiplied by the the Montgomery const $R$:\n",
    "https://github.com/privacy-scaling-explorations/halo2curves/blob/main/src/bn256/engine.rs#L34-L39"
   ]
  },
  {
   "cell_type": "code",
   "execution_count": 66,
   "metadata": {},
   "outputs": [
    {
     "data": {
      "text/plain": [
       "['0xa1d77ce45ffe77c7',\n",
       " '0x07affd117826d1db',\n",
       " '0x6d16bd27bb7edc6b',\n",
       " '0x2c87200285defecc']"
      ]
     },
     "execution_count": 66,
     "metadata": {},
     "output_type": "execute_result"
    }
   ],
   "source": [
    "u_64_little_endian(3505843767911556378687030309984248845540243509899259641013678093033130930403 * R)\n"
   ]
  },
  {
   "cell_type": "markdown",
   "metadata": {},
   "source": [
    "The order of $u + 9$ is exactly $q^2 - 1$, thus $(u + 9)^{(q^2 - 1)/2} = 1$. This fact is used in $y$ coordinate of \n",
    "the point $ -Q_2 = - \\pi^2(Q)$."
   ]
  },
  {
   "cell_type": "code",
   "execution_count": 67,
   "metadata": {},
   "outputs": [
    {
     "data": {
      "text/plain": [
       "True"
      ]
     },
     "execution_count": 67,
     "metadata": {},
     "output_type": "execute_result"
    }
   ],
   "source": [
    "(u + 9)**((q_int**2-1)/2) == -1"
   ]
  },
  {
   "cell_type": "markdown",
   "metadata": {},
   "source": [
    "### Rationale of These Constants\n",
    "These constants are used for computing $Q_1 = \\pi(Q)$ and $Q_2 = \\pi^2(Q)$.\\\n",
    "Recall in the implementation, $Q \\in G_2$  as an affine point in twisted curve $E'(\\mathbb{F}_{q^2})$. Suppose $Q = (x, y) \\in E'(\\mathbb{F}_{q^2})$, then\n",
    "$$\\Phi^{-1}: E' \\longrightarrow E: (x, y) \\mapsto (x \\cdot (u + 9)^{1/3}, y \\cdot (u + 9)^{1/2})$$\n",
    "gives preimage of $Q$ in $E(\\mathbb{F}_{q^{12}})$\n",
    "$$(x \\cdot (u + 9)^{1/3}, y \\cdot (u + 9)^{1/2})$$\n",
    "We then apply Frobenius in $E(\\mathbb{F}_{q^{12}})$ as usual and map back to the twisted curve $E'(\\mathbb{F}_{q^2})$:\n",
    "$$E(\\mathbb{F}_{q^{12}}) \\xrightarrow{\\pi} E(\\mathbb{F}_{q^{12}}) \\xrightarrow{\\Phi^{-1}} E'(\\mathbb{F}_{q^{2}})$$\n",
    "$$(x \\cdot (u + 9)^{1/3}, y \\cdot (u + 9)^{1/2}) \\mapsto (\\overline{x} \\cdot (u + 9)^{q/3}, \\overline{y} \\cdot (u + 9)^{q/2}) \\mapsto (\\overline{x} \\cdot (u + 9)^{(q-1)/3}, \\overline{y} \\cdot (u + 9)^{(q-1)/2})$$\n",
    "So $Q_1 = (\\overline{x} \\cdot (u + 9)^{(q-1)/3}, \\overline{y} \\cdot (u + 9)^{(q-1)/2})$, justified by: https://github.com/privacy-scaling-explorations/halo2curves/blob/main/src/bn256/engine.rs#L429-L437"
   ]
  },
  {
   "cell_type": "markdown",
   "metadata": {},
   "source": [
    "### The const SIX_U_PLUS_2_NAF\n",
    "used in the pairing\\\n",
    "https://github.com/privacy-scaling-explorations/halo2curves/blob/main/src/bn256/engine.rs#L21-L25:\\\n",
    "Notice our result is different here!"
   ]
  },
  {
   "cell_type": "code",
   "execution_count": 68,
   "metadata": {},
   "outputs": [
    {
     "name": "stdout",
     "output_type": "stream",
     "text": [
      "[0, 0, 0, 1, 0, 1, 0, -1, 0, 0, -1, 0, 0, 0, 1, 0, 0, -1, 0, -1, 0, 0, 0, 1, 0, -1, 0, 0, 0, 0, -1, 0, 0, 1, 0, -1, 0, 0, 1, 0, 0, 0, 0, 0, -1, 0, 0, -1, 0, 1, 0, -1, 0, 0, 0, -1, 0, -1, 0, 0, 0, 1, 0, -1, 0, 1]\n"
     ]
    }
   ],
   "source": [
    "L = naf_representation(6*U + 2)\n",
    "print(L)"
   ]
  }
 ],
 "metadata": {
  "kernelspec": {
   "display_name": "SageMath 10.0",
   "language": "sage",
   "name": "sagemath"
  },
  "language_info": {
   "codemirror_mode": {
    "name": "ipython",
    "version": 3
   },
   "file_extension": ".py",
   "mimetype": "text/x-python",
   "name": "python",
   "nbconvert_exporter": "python",
   "pygments_lexer": "ipython3",
   "version": "3.11.3"
  }
 },
 "nbformat": 4,
 "nbformat_minor": 2
}
