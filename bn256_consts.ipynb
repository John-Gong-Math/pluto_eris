{
 "cells": [
  {
   "cell_type": "markdown",
   "metadata": {},
   "source": [
    "## Constants in BN256 \n",
    "\n",
    "repo: https://github.com/privacy-scaling-explorations/halo2curves/tree/main/src/bn256 , https://github.com/Consensys/gnark-crypto/tree/v0.12.0/ecc/bn254 \\\n",
    "paper: https://eprint.iacr.org/2010/354.pdf"
   ]
  },
  {
   "cell_type": "markdown",
   "metadata": {},
   "source": [
    "Given an integer $ 0 \\leq n < 2^{256}$, return its 4 limbs in little-endian where each 64-bit limb is in big endian."
   ]
  },
  {
   "cell_type": "code",
   "execution_count": 128,
   "metadata": {
    "vscode": {
     "languageId": "python"
    }
   },
   "outputs": [],
   "source": [
    "def u_64_little_endian(n):\n",
    "    str_hex = hex(n)\n",
    "    str_hex_without_0x = str_hex[2:]\n",
    "    full_width_str = '0' * (64 - len(str_hex_without_0x)) + str_hex_without_0x\n",
    "    assert len(full_width_str) == 64\n",
    "\n",
    "    res = []\n",
    "    for i in range(4):\n",
    "        temp = '0x' + full_width_str[64 - 16 * (i + 1) : 64 - 16 * i]\n",
    "        res.append(temp)\n",
    "    return res"
   ]
  },
  {
   "cell_type": "markdown",
   "metadata": {},
   "source": [
    "### The Base Field $\\mathbb{F}_q$\n",
    "seed $U = 4965661367192848881$ \\\n",
    "the base field modulus $q = 36 U^4 + 36 U^3 + 24 U^2 + 6 U + 1$"
   ]
  },
  {
   "cell_type": "code",
   "execution_count": 129,
   "metadata": {
    "vscode": {
     "languageId": "python"
    }
   },
   "outputs": [
    {
     "data": {
      "text/plain": [
       "'0x30644e72e131a029b85045b68181585d97816a916871ca8d3c208c16d87cfd47'"
      ]
     },
     "execution_count": 129,
     "metadata": {},
     "output_type": "execute_result"
    }
   ],
   "source": [
    "U = 4965661367192848881\n",
    "q_int = 36 * U**4 + 36 * U**3 + 24 * U**2 + 6 * U + 1\n",
    "hex(q_int)"
   ]
  },
  {
   "cell_type": "markdown",
   "metadata": {},
   "source": [
    "The limbs of $q$ are referred to: https://github.com/privacy-scaling-explorations/halo2curves/blob/main/src/bn256/fq.rs#L34-L40 "
   ]
  },
  {
   "cell_type": "code",
   "execution_count": 130,
   "metadata": {
    "vscode": {
     "languageId": "python"
    }
   },
   "outputs": [
    {
     "data": {
      "text/plain": [
       "['0x3c208c16d87cfd47',\n",
       " '0x97816a916871ca8d',\n",
       " '0xb85045b68181585d',\n",
       " '0x30644e72e131a029']"
      ]
     },
     "execution_count": 130,
     "metadata": {},
     "output_type": "execute_result"
    }
   ],
   "source": [
    "u_64_little_endian(q_int)  "
   ]
  },
  {
   "cell_type": "code",
   "execution_count": 131,
   "metadata": {
    "vscode": {
     "languageId": "python"
    }
   },
   "outputs": [
    {
     "data": {
      "text/plain": [
       "Finite Field of size 21888242871839275222246405745257275088696311157297823662689037894645226208583"
      ]
     },
     "execution_count": 131,
     "metadata": {},
     "output_type": "execute_result"
    }
   ],
   "source": [
    "Fq = GF(q_int)\n",
    "Fq"
   ]
  },
  {
   "cell_type": "markdown",
   "metadata": {},
   "source": [
    "### The Scalar Field $\\mathbb{F}_r$\n",
    "the scalar field modulus: $r = 36 U^4 + 36 U^3 + 18 U^2 + 6 U+1$"
   ]
  },
  {
   "cell_type": "code",
   "execution_count": 132,
   "metadata": {
    "vscode": {
     "languageId": "python"
    }
   },
   "outputs": [
    {
     "data": {
      "text/plain": [
       "'0x30644e72e131a029b85045b68181585d2833e84879b9709143e1f593f0000001'"
      ]
     },
     "execution_count": 132,
     "metadata": {},
     "output_type": "execute_result"
    }
   ],
   "source": [
    "r_int = 36 * U**4 + 36 * U**3 + 18 * U**2 + 6 * U + 1\n",
    "hex(r_int)"
   ]
  },
  {
   "cell_type": "markdown",
   "metadata": {},
   "source": [
    "The limbs of $r$ are referred to: https://github.com/privacy-scaling-explorations/halo2curves/blob/main/src/bn256/fr.rs#L49-L55"
   ]
  },
  {
   "cell_type": "code",
   "execution_count": 133,
   "metadata": {
    "vscode": {
     "languageId": "python"
    }
   },
   "outputs": [
    {
     "data": {
      "text/plain": [
       "['0x43e1f593f0000001',\n",
       " '0x2833e84879b97091',\n",
       " '0xb85045b68181585d',\n",
       " '0x30644e72e131a029']"
      ]
     },
     "execution_count": 133,
     "metadata": {},
     "output_type": "execute_result"
    }
   ],
   "source": [
    "u_64_little_endian(r_int)"
   ]
  },
  {
   "cell_type": "code",
   "execution_count": 134,
   "metadata": {
    "vscode": {
     "languageId": "python"
    }
   },
   "outputs": [
    {
     "data": {
      "text/plain": [
       "Finite Field of size 21888242871839275222246405745257275088548364400416034343698204186575808495617"
      ]
     },
     "execution_count": 134,
     "metadata": {},
     "output_type": "execute_result"
    }
   ],
   "source": [
    "Fr = GF(r_int)\n",
    "Fr"
   ]
  },
  {
   "cell_type": "markdown",
   "metadata": {},
   "source": [
    "### The equation of BN256:\n",
    "$$E / \\mathbb{F}_{q}: y^2 = x^3 + 3$$"
   ]
  },
  {
   "cell_type": "code",
   "execution_count": 135,
   "metadata": {
    "vscode": {
     "languageId": "python"
    }
   },
   "outputs": [
    {
     "data": {
      "text/plain": [
       "Elliptic Curve defined by y^2 = x^3 + 3 over Finite Field of size 21888242871839275222246405745257275088696311157297823662689037894645226208583"
      ]
     },
     "execution_count": 135,
     "metadata": {},
     "output_type": "execute_result"
    }
   ],
   "source": [
    "E = EllipticCurve(Fq, [0, 3])\n",
    "E"
   ]
  },
  {
   "cell_type": "markdown",
   "metadata": {},
   "source": [
    "The order of the group $E(\\mathbb{F}_{q})$ is $r$ which is prime, thus the group is cyclic and $E(\\mathbb{F}_{q}) = \\mathbb{G}_{1}$"
   ]
  },
  {
   "cell_type": "code",
   "execution_count": 136,
   "metadata": {
    "vscode": {
     "languageId": "python"
    }
   },
   "outputs": [
    {
     "data": {
      "text/plain": [
       "True"
      ]
     },
     "execution_count": 136,
     "metadata": {},
     "output_type": "execute_result"
    }
   ],
   "source": [
    "E.cardinality() == r_int"
   ]
  },
  {
   "cell_type": "code",
   "execution_count": 137,
   "metadata": {
    "vscode": {
     "languageId": "python"
    }
   },
   "outputs": [
    {
     "data": {
      "text/plain": [
       "Additive abelian group isomorphic to Z/21888242871839275222246405745257275088548364400416034343698204186575808495617 embedded in Abelian group of points on Elliptic Curve defined by y^2 = x^3 + 3 over Finite Field of size 21888242871839275222246405745257275088696311157297823662689037894645226208583"
      ]
     },
     "execution_count": 137,
     "metadata": {},
     "output_type": "execute_result"
    }
   ],
   "source": [
    "E.abelian_group()"
   ]
  },
  {
   "cell_type": "markdown",
   "metadata": {},
   "source": [
    "We take the generator of $\\mathbb{G}_{1}$ as $(1, 2)$"
   ]
  },
  {
   "cell_type": "code",
   "execution_count": 138,
   "metadata": {
    "vscode": {
     "languageId": "python"
    }
   },
   "outputs": [
    {
     "data": {
      "text/plain": [
       "True"
      ]
     },
     "execution_count": 138,
     "metadata": {},
     "output_type": "execute_result"
    }
   ],
   "source": [
    "G1_GENERATOR_X = Fq(1)\n",
    "G1_GENERATOR_Y = Fq(2)\n",
    "# the constructor of elliptic curve point\n",
    "G1_GENERATOR = E(G1_GENERATOR_X, G1_GENERATOR_Y)\n",
    "G1_GENERATOR.order() == r_int"
   ]
  },
  {
   "cell_type": "markdown",
   "metadata": {},
   "source": [
    "$\\zeta_{q}$ is one of the two $3rd$ primitive roots of unity in $\\mathbb{F}_{q}$, the other one is $\\zeta_{q}^{2}$."
   ]
  },
  {
   "cell_type": "code",
   "execution_count": 139,
   "metadata": {
    "vscode": {
     "languageId": "python"
    }
   },
   "outputs": [
    {
     "data": {
      "text/plain": [
       "21888242871839275220042445260109153167277707414472061641714758635765020556616"
      ]
     },
     "execution_count": 139,
     "metadata": {},
     "output_type": "execute_result"
    }
   ],
   "source": [
    "zetaq = Fq.zeta(3)\n",
    "zetaq"
   ]
  },
  {
   "cell_type": "markdown",
   "metadata": {},
   "source": [
    "$\\zeta_{r}$ is one of the two $3rd$ primitive roots of unity in $\\mathbb{F}_{r}$, the other one is $\\zeta_{r}^{2}$.\n"
   ]
  },
  {
   "cell_type": "code",
   "execution_count": 140,
   "metadata": {
    "vscode": {
     "languageId": "python"
    }
   },
   "outputs": [
    {
     "data": {
      "text/plain": [
       "4407920970296243842393367215006156084916469457145843978461"
      ]
     },
     "execution_count": 140,
     "metadata": {},
     "output_type": "execute_result"
    }
   ],
   "source": [
    "zetar = Fr.zeta(3)\n",
    "zetar"
   ]
  },
  {
   "cell_type": "markdown",
   "metadata": {},
   "source": [
    "The endomorphism of $E/\\mathbb{F}_{q}$ defined by:\n",
    "$$(x, y) \\mapsto (\\zeta x, y)$$\n",
    "where $\\zeta$ is a primitive $3rd$ root"
   ]
  },
  {
   "cell_type": "code",
   "execution_count": 141,
   "metadata": {
    "vscode": {
     "languageId": "python"
    }
   },
   "outputs": [],
   "source": [
    "def endo (E, zeta, P):\n",
    "    (xp, yp) = P.xy()\n",
    "    return E(zeta * xp, yp)\n",
    "    "
   ]
  },
  {
   "cell_type": "markdown",
   "metadata": {},
   "source": [
    "We know \n",
    "$$(\\zeta_{q} x, y) = [\\zeta_{r}] (x, y)$$\n",
    "but we should find the right $\\zeta_{q}$ which maybe $\\zeta_{q}$ or $\\zeta_{q}^2$, the same applies to $\\zeta_{r}$"
   ]
  },
  {
   "cell_type": "code",
   "execution_count": 142,
   "metadata": {
    "vscode": {
     "languageId": "python"
    }
   },
   "outputs": [
    {
     "name": "stdout",
     "output_type": "stream",
     "text": [
      "2nd trial\n"
     ]
    },
    {
     "data": {
      "text/plain": [
       "(21888242871839275220042445260109153167277707414472061641714758635765020556616,\n",
       " 21888242871839275217838484774961031246154997185409878258781734729429964517155)"
      ]
     },
     "execution_count": 142,
     "metadata": {},
     "output_type": "execute_result"
    }
   ],
   "source": [
    "zP = endo(E, zetaq, G1_GENERATOR)\n",
    "if zP == int(zetar)*G1_GENERATOR:\n",
    "    print(\"1st trial\")\n",
    "else:\n",
    "    zetar = zetar^2\n",
    "    if zP == int(zetar)*G1_GENERATOR: \n",
    "        print(\"2nd trial\")\n",
    "    else: \n",
    "        zetaq = zetaq^2\n",
    "        zP = endo(E, zetaq, G1_GENERATOR)\n",
    "        if zP == int(zetar)*G1_GENERATOR:\n",
    "            print(\"3nd trial\")\n",
    "        else:\n",
    "            zetar = zetar^2\n",
    "            assert zP == int(zetar)*G1_GENERATOR\n",
    "            print(\"4th trial\")\n",
    "(zetaq, zetar)"
   ]
  },
  {
   "cell_type": "markdown",
   "metadata": {},
   "source": [
    "The bit lengths of $\\zeta_{q}$ and $\\zeta_{r}$ are "
   ]
  },
  {
   "cell_type": "code",
   "execution_count": 143,
   "metadata": {
    "vscode": {
     "languageId": "python"
    }
   },
   "outputs": [
    {
     "data": {
      "text/plain": [
       "(254, 254)"
      ]
     },
     "execution_count": 143,
     "metadata": {},
     "output_type": "execute_result"
    }
   ],
   "source": [
    "(Integer(zetaq).bit_length(), Integer(zetar).bit_length())"
   ]
  },
  {
   "cell_type": "markdown",
   "metadata": {},
   "source": [
    "### The GLV method\n",
    "The references are:\n",
    "https://hackmd.io/@drouyang/glv and \n",
    "https://www.iacr.org/archive/crypto2001/21390189.pdf"
   ]
  },
  {
   "cell_type": "markdown",
   "metadata": {},
   "source": [
    "Given two integers $n$ and $\\lambda$, GLV method outputs two short vectors $v_1 = (a_1, b_1), v_2 = (a_2, b_2)$ such that \n",
    "$$ a_1 + b_1 \\lambda = 0\\mod n $$\n",
    "$$ a_2 + b_2 \\lambda = 0\\mod n $$"
   ]
  },
  {
   "cell_type": "code",
   "execution_count": 144,
   "metadata": {
    "vscode": {
     "languageId": "python"
    }
   },
   "outputs": [],
   "source": [
    "def ext_euclidean(a, b):\n",
    "    assert a <= b\n",
    "    sqr_b = sqrt(b)\n",
    "    u = a\n",
    "    v = b\n",
    "    x1 = 1\n",
    "    y1 = 0\n",
    "    x2 = 0\n",
    "    y2 = 1\n",
    "\n",
    "    X = []\n",
    "    Y = []\n",
    "    R = []\n",
    "\n",
    "    flag = -1\n",
    "    i = -1\n",
    "    while not u == 0:\n",
    "        q = v // u\n",
    "        r = v - q * u\n",
    "        if flag == -1:\n",
    "            if r < sqr_b:\n",
    "                flag = i # exactly the largest index i such that R[i] >= sqrt_b\n",
    "        i = i + 1\n",
    "        R.append(r)  # R[i] = r\n",
    "        x = x2 - q * x1\n",
    "        X.append(x)\n",
    "        y = y2 - q * y1  # ax + by = d\n",
    "        Y.append(y)\n",
    "        v = u\n",
    "        u = r\n",
    "        x2 = x1\n",
    "        x1 = x\n",
    "        y2 = y1\n",
    "        y1 = y\n",
    "    \n",
    "    d = v\n",
    "    x = x2\n",
    "    y = y2\n",
    "    X.append(x)\n",
    "    Y.append(y)\n",
    "    R.append(0)\n",
    "\n",
    "    # ((r_l, t_l), (r_l_1, t_l_1), (r_l_2, t_l_2))\n",
    "    return ((R[flag], X[flag]), (R[flag + 1], X[flag + 1]), (R[flag + 2], X[flag + 2]))  \n",
    "\n",
    "def GLV(scalar, n):\n",
    "    ((r_l, t_l), (r_l_1, t_l_1), (r_l_2, t_l_2)) = ext_euclidean(scalar, n)\n",
    "    b_1 = t_l_1  # to be consistent with the repo, we indeed take -b_1 here\n",
    "    a_1 = r_l_1\n",
    "    if (r_l^2 + t_l^2) <= (r_l_2^2 + t_l_2^2):\n",
    "        b_2 = -t_l\n",
    "        a_2 = r_l\n",
    "    else:\n",
    "        b_2 = -t_l_2\n",
    "        a_2 = r_l_2\n",
    "\n",
    "    return ((a_1, b_1), (a_2, b_2))  # thus the two short vectors: v_1 = (a_1, -b_1) and v_2 = (a_2, b_2)\n",
    "    "
   ]
  },
  {
   "cell_type": "code",
   "execution_count": 145,
   "metadata": {
    "vscode": {
     "languageId": "python"
    }
   },
   "outputs": [],
   "source": [
    "scalar = int(zetar)\n",
    "n = r_int"
   ]
  },
  {
   "cell_type": "markdown",
   "metadata": {},
   "source": [
    "The values $b_1, b_2$ can be referred to: https://github.com/privacy-scaling-explorations/halo2curves/blob/6abfdbb0eefd476864e1ed91d32ab84c7b36c203/src/bn256/curve.rs#L131-L132"
   ]
  },
  {
   "cell_type": "code",
   "execution_count": 146,
   "metadata": {
    "vscode": {
     "languageId": "python"
    }
   },
   "outputs": [
    {
     "data": {
      "text/plain": [
       "(['0x89d3256894d213e3',\n",
       "  '0x0000000000000000',\n",
       "  '0x0000000000000000',\n",
       "  '0x0000000000000000'],\n",
       " ['0x0be4e1541221250b',\n",
       "  '0x6f4d8248eeb859fd',\n",
       "  '0x0000000000000000',\n",
       "  '0x0000000000000000'])"
      ]
     },
     "execution_count": 146,
     "metadata": {},
     "output_type": "execute_result"
    }
   ],
   "source": [
    "((a1, b1), (a2, b2)) = GLV(scalar, n)\n",
    "(u_64_little_endian(b1), u_64_little_endian(b2))"
   ]
  },
  {
   "cell_type": "markdown",
   "metadata": {},
   "source": [
    "We take $\\gamma_1 = \\lfloor -b_1 \\cdot 2^{256} / r \\rceil$, as $ -b_1 / r < 1$. Recall the variable $b_1$ in the code represents $-b_1$ for $b_1$ is the coordinate of $v_1$. \\\n",
    "And $\\gamma_2 = \\lfloor b_2 \\cdot 2^{256} / r \\rceil$, where $b_2$ is the coordinate of $v_2$. \\\n",
    "Such values can be referred to: https://github.com/privacy-scaling-explorations/halo2curves/blob/6abfdbb0eefd476864e1ed91d32ab84c7b36c203/src/bn256/curve.rs#L127-L130 \\\n",
    "(the comment in the repo is not correct)"
   ]
  },
  {
   "cell_type": "code",
   "execution_count": 147,
   "metadata": {
    "vscode": {
     "languageId": "python"
    }
   },
   "outputs": [
    {
     "data": {
      "text/plain": [
       "['0xd91d232ec7e0b3d7',\n",
       " '0x0000000000000002',\n",
       " '0x0000000000000000',\n",
       " '0x0000000000000000']"
      ]
     },
     "execution_count": 147,
     "metadata": {},
     "output_type": "execute_result"
    }
   ],
   "source": [
    "gamma1 = round(b1 * 2^256 / r_int ) \n",
    "u_64_little_endian(gamma1)"
   ]
  },
  {
   "cell_type": "code",
   "execution_count": 148,
   "metadata": {
    "vscode": {
     "languageId": "python"
    }
   },
   "outputs": [
    {
     "data": {
      "text/plain": [
       "['0x5398fd0300ff6565',\n",
       " '0x4ccef014a773d2d2',\n",
       " '0x0000000000000002',\n",
       " '0x0000000000000000']"
      ]
     },
     "execution_count": 148,
     "metadata": {},
     "output_type": "execute_result"
    }
   ],
   "source": [
    "gamma2 = round(b2 * 2^256 / r_int )\n",
    "u_64_little_endian(gamma2)"
   ]
  },
  {
   "cell_type": "markdown",
   "metadata": {},
   "source": [
    "Consequently, given an arbitrary scalar $k$, we use GLV method to decompose: \\\n",
    "$k = k_1 + k_2 \\times \\zeta$\n",
    "where $k_1, k_2$ are almost the half bit length of $k$ (recall $k$ with $256$ bits)"
   ]
  },
  {
   "cell_type": "markdown",
   "metadata": {},
   "source": [
    "To make consistent with Algo 3.74 in https://hackmd.io/@drouyang/glv, we have to clarify the code above each line in the notations used in Algo 3.74."
   ]
  },
  {
   "cell_type": "code",
   "execution_count": 149,
   "metadata": {
    "vscode": {
     "languageId": "python"
    }
   },
   "outputs": [],
   "source": [
    "def decompose(k):\n",
    "    c1_ = gamma2 * k\n",
    "    c2_ = gamma1 * k\n",
    "    # round(b2 * k / n)\n",
    "    c1 = c1_ >> 256\n",
    "    # round(-b1 * k / n)\n",
    "    c2 = c2_ >> 256\n",
    "    # c1 * -b1\n",
    "    q1 = c1 * b1\n",
    "    # c2 * b2\n",
    "    q2 = c2 * b2\n",
    "    # -c1 * b1 - c2 * b2\n",
    "    k2 = q1 - q2\n",
    "    # k - c1 * a1 - c2 * a2\n",
    "    k1 = k - c1 * a1 - c2 * a2\n",
    "    # the correctness of GLV involves the following constraints about bit lengths and identity\n",
    "    return (k1.bit_length()<=128 and k2.bit_length() <=128 and Fr(k) == Fr(k1 + k2 * int(zetar)))\n",
    "    "
   ]
  },
  {
   "cell_type": "markdown",
   "metadata": {},
   "source": [
    "Unit test for 1000 random scalar values:"
   ]
  },
  {
   "cell_type": "code",
   "execution_count": 150,
   "metadata": {
    "vscode": {
     "languageId": "python"
    }
   },
   "outputs": [
    {
     "name": "stdout",
     "output_type": "stream",
     "text": [
      "pass\n"
     ]
    }
   ],
   "source": [
    "for i in range(1000):\n",
    "    k = int(Fr.random_element())\n",
    "    if decompose(k) == False:\n",
    "        print(\"the algorithm is broken\")\n",
    "        break\n",
    "print(\"pass\")"
   ]
  },
  {
   "cell_type": "code",
   "execution_count": null,
   "metadata": {
    "vscode": {
     "languageId": "python"
    }
   },
   "outputs": [],
   "source": []
  }
 ],
 "metadata": {
  "kernelspec": {
   "display_name": "SageMath 10.0",
   "language": "sage",
   "name": "sagemath"
  },
  "language_info": {
   "codemirror_mode": {
    "name": "ipython",
    "version": 3
   },
   "file_extension": ".py",
   "mimetype": "text/x-python",
   "name": "sage",
   "nbconvert_exporter": "python",
   "pygments_lexer": "ipython3",
   "version": "3.11.3"
  }
 },
 "nbformat": 4,
 "nbformat_minor": 2
}
